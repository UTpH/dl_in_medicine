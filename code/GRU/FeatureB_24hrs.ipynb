{
  "nbformat": 4,
  "nbformat_minor": 0,
  "metadata": {
    "colab": {
      "name": "Untitled2.ipynb",
      "provenance": []
    },
    "kernelspec": {
      "name": "python3",
      "display_name": "Python 3"
    },
    "accelerator": "GPU"
  },
  "cells": [
    {
      "cell_type": "code",
      "metadata": {
        "id": "JlIhEQOKqrx1",
        "colab_type": "code",
        "outputId": "52d984f4-6e8c-4365-a100-775ecde6863e",
        "colab": {
          "base_uri": "https://localhost:8080/",
          "height": 34
        }
      },
      "source": [
        "%tensorflow_version 2.x\n",
        "import tensorflow as tf\n",
        "device_name = tf.test.gpu_device_name()\n",
        "if device_name != '/device:GPU:0':\n",
        "    raise SystemError('GPU device not found')\n",
        "print('Found GPU at: {}'.format(device_name))"
      ],
      "execution_count": 1,
      "outputs": [
        {
          "output_type": "stream",
          "text": [
            "Found GPU at: /device:GPU:0\n"
          ],
          "name": "stdout"
        }
      ]
    },
    {
      "cell_type": "code",
      "metadata": {
        "id": "8lmSuTCOuJ1s",
        "colab_type": "code",
        "colab": {}
      },
      "source": [
        "import numpy as np\n",
        "import matplotlib as mpl\n",
        "import matplotlib.pyplot as plt\n",
        "from IPython.display import SVG\n",
        "import os\n",
        "import pydotplus\n",
        "\n",
        "import keras\n",
        "from keras import regularizers\n",
        "from keras.optimizers import Adam, SGD, rmsprop\n",
        "from keras.models import Sequential,Model\n",
        "from keras.layers import Dense, Activation, Dropout, Input, Dropout, concatenate\n",
        "from keras.layers.recurrent import GRU, LSTM\n",
        "from keras.utils import plot_model\n",
        "# keras.utils.vis_utils.pydot = pydot\n",
        "from keras.utils.vis_utils import model_to_dot\n",
        "\n",
        "from sklearn.model_selection import train_test_split\n",
        "from sklearn.metrics import roc_auc_score, roc_curve\n",
        "\n",
        "%matplotlib inline"
      ],
      "execution_count": 0,
      "outputs": []
    },
    {
      "cell_type": "code",
      "metadata": {
        "id": "N7zPdsOyvN05",
        "colab_type": "code",
        "colab": {}
      },
      "source": [
        "data = np.load(\"drive/My Drive/imputed-normed-ep_1_24_raw.npz\", allow_pickle=True)"
      ],
      "execution_count": 0,
      "outputs": []
    },
    {
      "cell_type": "code",
      "metadata": {
        "id": "J0_o8xNT6aRq",
        "colab_type": "code",
        "colab": {
          "base_uri": "https://localhost:8080/",
          "height": 187
        },
        "outputId": "548827f3-58f6-4c36-a46d-e606658c346a"
      },
      "source": [
        "lst = data.files\n",
        "for item in lst:\n",
        "    print(item)\n",
        "#     print(data[item])\n",
        "data[\"ep_data\"].shape"
      ],
      "execution_count": 160,
      "outputs": [
        {
          "output_type": "stream",
          "text": [
            "ep_data\n",
            "ep_tdata\n",
            "ep_data_masking\n",
            "ep_tdata_masking\n",
            "y_icd9\n",
            "y_mor\n",
            "adm_features_all\n",
            "adm_labels_all\n",
            "y_los\n"
          ],
          "name": "stdout"
        },
        {
          "output_type": "execute_result",
          "data": {
            "text/plain": [
              "(36093, 360)"
            ]
          },
          "metadata": {
            "tags": []
          },
          "execution_count": 160
        }
      ]
    },
    {
      "cell_type": "code",
      "metadata": {
        "id": "TQQgwqgP6gXn",
        "colab_type": "code",
        "colab": {
          "base_uri": "https://localhost:8080/",
          "height": 34
        },
        "outputId": "f8cdbba2-98fa-4371-97c0-821b92f62596"
      },
      "source": [
        "data[\"ep_tdata\"].shape"
      ],
      "execution_count": 161,
      "outputs": [
        {
          "output_type": "execute_result",
          "data": {
            "text/plain": [
              "(36093, 24, 15)"
            ]
          },
          "metadata": {
            "tags": []
          },
          "execution_count": 161
        }
      ]
    },
    {
      "cell_type": "code",
      "metadata": {
        "id": "_xo7TBzJ7NaW",
        "colab_type": "code",
        "colab": {
          "base_uri": "https://localhost:8080/",
          "height": 34
        },
        "outputId": "80d32b11-5186-49ba-cd64-f5764a712e16"
      },
      "source": [
        "data['adm_features_all'].shape"
      ],
      "execution_count": 162,
      "outputs": [
        {
          "output_type": "execute_result",
          "data": {
            "text/plain": [
              "(36093, 5)"
            ]
          },
          "metadata": {
            "tags": []
          },
          "execution_count": 162
        }
      ]
    },
    {
      "cell_type": "code",
      "metadata": {
        "id": "s_LI-QlS7ZK6",
        "colab_type": "code",
        "colab": {
          "base_uri": "https://localhost:8080/",
          "height": 34
        },
        "outputId": "eccae880-bc7c-43dc-b043-1d7c9552848e"
      },
      "source": [
        "data[\"adm_labels_all\"].shape"
      ],
      "execution_count": 163,
      "outputs": [
        {
          "output_type": "execute_result",
          "data": {
            "text/plain": [
              "(36093, 6)"
            ]
          },
          "metadata": {
            "tags": []
          },
          "execution_count": 163
        }
      ]
    },
    {
      "cell_type": "code",
      "metadata": {
        "id": "xF7rf8d6vSer",
        "colab_type": "code",
        "colab": {}
      },
      "source": [
        "features_sequence = data['ep_tdata'].astype(np.float32) # 15 time series features\n",
        "features_static = data['adm_features_all'].astype(np.float32) # 5 non-ts features,the unit of age: day\n",
        "labels = data[\"adm_labels_all\"][:, 0].astype(np.float32) # 48hrs or In-hospital  mortality, change here"
      ],
      "execution_count": 0,
      "outputs": []
    },
    {
      "cell_type": "code",
      "metadata": {
        "id": "eQreFVLCXH5D",
        "colab_type": "code",
        "colab": {}
      },
      "source": [
        "# transpose the features_sequence\n",
        "trans = [0]*features_sequence.shape[0]"
      ],
      "execution_count": 0,
      "outputs": []
    },
    {
      "cell_type": "code",
      "metadata": {
        "id": "cZeO7l2ArIOT",
        "colab_type": "code",
        "colab": {}
      },
      "source": [
        "for i in range(features_sequence.shape[0]):\n",
        "    trans[i] = features_sequence[i].T"
      ],
      "execution_count": 0,
      "outputs": []
    },
    {
      "cell_type": "code",
      "metadata": {
        "id": "Kbw09MyjYYgm",
        "colab_type": "code",
        "colab": {}
      },
      "source": [
        "trans= np.array(trans)"
      ],
      "execution_count": 0,
      "outputs": []
    },
    {
      "cell_type": "code",
      "metadata": {
        "id": "1ktgT2X8Ya8D",
        "colab_type": "code",
        "outputId": "81e1e5f2-999f-4ffc-f545-fff3ffb36925",
        "colab": {
          "base_uri": "https://localhost:8080/",
          "height": 34
        }
      },
      "source": [
        "trans.shape"
      ],
      "execution_count": 223,
      "outputs": [
        {
          "output_type": "execute_result",
          "data": {
            "text/plain": [
              "(36093, 15, 24)"
            ]
          },
          "metadata": {
            "tags": []
          },
          "execution_count": 223
        }
      ]
    },
    {
      "cell_type": "code",
      "metadata": {
        "id": "DcKljhWAYjZO",
        "colab_type": "code",
        "colab": {}
      },
      "source": [
        "features_sequence = trans"
      ],
      "execution_count": 0,
      "outputs": []
    },
    {
      "cell_type": "code",
      "metadata": {
        "id": "nlcJhmUlwbMQ",
        "colab_type": "code",
        "colab": {}
      },
      "source": [
        "# split the whole dataset\n",
        "x_seq_full_train, x_seq_test, x_static_full_train, x_static_test, y_full_train, y_test = train_test_split(\n",
        "    features_sequence, features_static, labels, test_size = 0.20, random_state = 202)\n",
        "\n",
        "x_seq_train, x_seq_val, x_static_train, x_static_val, y_train, y_val = train_test_split(\n",
        "    x_seq_full_train, x_static_full_train, y_full_train, test_size = 0.20, random_state = 202)"
      ],
      "execution_count": 0,
      "outputs": []
    },
    {
      "cell_type": "code",
      "metadata": {
        "id": "VP7Q9ars7_iq",
        "colab_type": "code",
        "outputId": "2f03667a-abc5-40de-98b2-d8a5d84e0b38",
        "colab": {
          "base_uri": "https://localhost:8080/",
          "height": 34
        }
      },
      "source": [
        "x_seq_train.shape"
      ],
      "execution_count": 226,
      "outputs": [
        {
          "output_type": "execute_result",
          "data": {
            "text/plain": [
              "(23099, 15, 24)"
            ]
          },
          "metadata": {
            "tags": []
          },
          "execution_count": 226
        }
      ]
    },
    {
      "cell_type": "code",
      "metadata": {
        "id": "ZhWwdR9WBrIa",
        "colab_type": "code",
        "outputId": "9cc54e93-6838-42f0-97c4-cd7b8516c8bd",
        "colab": {
          "base_uri": "https://localhost:8080/",
          "height": 34
        }
      },
      "source": [
        "# Count the positive labels\n",
        "count = 0\n",
        "for i in range(y_train.shape[0]):\n",
        "    if y_train[i] == 1:\n",
        "        count += 1\n",
        "count"
      ],
      "execution_count": 227,
      "outputs": [
        {
          "output_type": "execute_result",
          "data": {
            "text/plain": [
              "2625"
            ]
          },
          "metadata": {
            "tags": []
          },
          "execution_count": 227
        }
      ]
    },
    {
      "cell_type": "code",
      "metadata": {
        "id": "HdpU7jYt77TI",
        "colab_type": "code",
        "colab": {}
      },
      "source": [
        "# upsampling\n",
        "x_seq_up = []\n",
        "x_static_up = []\n",
        "y_up = []\n",
        "for i in range(x_seq_train.shape[0]):\n",
        "    count = 0\n",
        "    if y_train[i] == 1:\n",
        "        while count < 5:\n",
        "            x_seq_up.append(x_seq_train[i])\n",
        "            x_static_up.append(x_static_train[i])\n",
        "            y_up.append(y_train[i])\n",
        "            count += 1"
      ],
      "execution_count": 0,
      "outputs": []
    },
    {
      "cell_type": "code",
      "metadata": {
        "id": "0p7ZCu0mC0l4",
        "colab_type": "code",
        "outputId": "c73471cb-8b3b-47b1-99ce-dee516ca1ab6",
        "colab": {
          "base_uri": "https://localhost:8080/",
          "height": 34
        }
      },
      "source": [
        "print(len(x_seq_up), len(x_static_up), len(y_up))"
      ],
      "execution_count": 229,
      "outputs": [
        {
          "output_type": "stream",
          "text": [
            "13125 13125 13125\n"
          ],
          "name": "stdout"
        }
      ]
    },
    {
      "cell_type": "code",
      "metadata": {
        "id": "B0s4JSpTITSz",
        "colab_type": "code",
        "colab": {}
      },
      "source": [
        "a = np.concatenate((x_seq_train, x_seq_up))\n",
        "b = np.concatenate((x_static_train, x_static_up))\n",
        "c = np.concatenate((y_train, y_up))"
      ],
      "execution_count": 0,
      "outputs": []
    },
    {
      "cell_type": "code",
      "metadata": {
        "id": "OHMZRIzmHsDr",
        "colab_type": "code",
        "colab": {}
      },
      "source": [
        "index = list(range(len(c)))\n",
        "np.random.shuffle(index)"
      ],
      "execution_count": 0,
      "outputs": []
    },
    {
      "cell_type": "code",
      "metadata": {
        "id": "jTZOj1aEIbSn",
        "colab_type": "code",
        "colab": {}
      },
      "source": [
        "x_seq_train = []\n",
        "x_static_train = []\n",
        "y_train = []\n",
        "\n",
        "for i in index:\n",
        "    x_seq_train.append(a[i])\n",
        "    x_static_train.append(b[i])\n",
        "    y_train.append(c[i])"
      ],
      "execution_count": 0,
      "outputs": []
    },
    {
      "cell_type": "code",
      "metadata": {
        "id": "d7m0_OIAI3Lt",
        "colab_type": "code",
        "outputId": "dcc7207d-f1a1-47c3-f6dc-b23e1ace2543",
        "colab": {
          "base_uri": "https://localhost:8080/",
          "height": 34
        }
      },
      "source": [
        "print(len(x_seq_train), len(x_static_train), len(y_train))"
      ],
      "execution_count": 233,
      "outputs": [
        {
          "output_type": "stream",
          "text": [
            "36224 36224 36224\n"
          ],
          "name": "stdout"
        }
      ]
    },
    {
      "cell_type": "code",
      "metadata": {
        "id": "1kD-YC7xFTVm",
        "colab_type": "code",
        "colab": {}
      },
      "source": [
        "x_seq_train  = np.array(x_seq_train)\n",
        "x_static_train = np.array(x_static_train)\n",
        "y_train = np.array(y_train)"
      ],
      "execution_count": 0,
      "outputs": []
    },
    {
      "cell_type": "code",
      "metadata": {
        "id": "X6V2blvUitpL",
        "colab_type": "code",
        "outputId": "3a420e9f-5ffe-4057-9c64-5ac56b5dbadd",
        "colab": {
          "base_uri": "https://localhost:8080/",
          "height": 34
        }
      },
      "source": [
        "print(x_seq_train.shape, x_static_train.shape, y_train.shape)"
      ],
      "execution_count": 235,
      "outputs": [
        {
          "output_type": "stream",
          "text": [
            "(36224, 15, 24) (36224, 5) (36224,)\n"
          ],
          "name": "stdout"
        }
      ]
    },
    {
      "cell_type": "code",
      "metadata": {
        "id": "WwzBWfKZwddK",
        "colab_type": "code",
        "colab": {}
      },
      "source": [
        "# impute the missing values in the dataset with the mean\n",
        "\n",
        "def impute_mean(source_data, input_data):\n",
        "    '''\n",
        "    Takes the source data, and uses it to determine means for all\n",
        "    features; it then applies them to the input data.\n",
        "    \n",
        "    inputs:\n",
        "    source_data: a tensor to provide means\n",
        "    input_data: the data to fill in NA for\n",
        "    \n",
        "    output:\n",
        "    output_data: data with nans imputed for each feature\n",
        "    \n",
        "    '''\n",
        "    \n",
        "    output_data = input_data.copy()\n",
        "    \n",
        "    for feature in range(source_data.shape[1]):\n",
        "        feature_mean = np.nanmean(source_data[:, feature, :][np.where(source_data[:, feature, :] != 0)])\n",
        "        ind_output_data = np.where(np.isnan(output_data[:, feature, :]))\n",
        "        output_data[:, feature, :][ind_output_data] =  feature_mean\n",
        "    return output_data"
      ],
      "execution_count": 0,
      "outputs": []
    },
    {
      "cell_type": "code",
      "metadata": {
        "id": "6vuZUtsRwf3g",
        "colab_type": "code",
        "colab": {}
      },
      "source": [
        "x_seq_train_original = x_seq_train.copy()\n",
        "x_seq_train = impute_mean(x_seq_train_original, x_seq_train)\n",
        "x_seq_val = impute_mean(x_seq_train_original, x_seq_val)\n",
        "x_seq_test = impute_mean(x_seq_train_original, x_seq_test)"
      ],
      "execution_count": 0,
      "outputs": []
    },
    {
      "cell_type": "code",
      "metadata": {
        "id": "h2F464i7wh4L",
        "colab_type": "code",
        "outputId": "b350f83e-330c-49fe-dd0f-6fddafcfa083",
        "colab": {
          "base_uri": "https://localhost:8080/",
          "height": 1000
        }
      },
      "source": [
        "# Define inputs\n",
        "sequence_input = Input(shape = (x_seq_train.shape[1], x_seq_train.shape[2], ), dtype = 'float32', name = 'sequence_input')\n",
        "static_input = Input(shape = (x_static_train.shape[1], ), name = 'static_input')\n",
        "\n",
        "# Network architecture\n",
        "seq_x = GRU(units = 128, )(sequence_input)\n",
        "# seq_x = Dense(64, input_dim=128, kernel_regularizer=regularizers.l2(0.1))(seq_x) #Regularizer\n",
        "# Seperate output for the GRU later\n",
        "seq_aux_output = Dense(1, activation='sigmoid', name='aux_output')(seq_x)\n",
        "\n",
        "# Merge dual inputs\n",
        "x = concatenate([seq_x, static_input])\n",
        "\n",
        "# We stack a deep fully-connected network on the merged inputs\n",
        "x = Dense(128, activation = 'relu')(x)\n",
        "x = Dense(128, activation = 'relu')(x)\n",
        "x = Dropout(0.10)(x)\n",
        "x = Dense(128, activation = 'relu')(x)\n",
        "x = Dense(128, activation = 'relu')(x)\n",
        "# Sigmoid output layer\n",
        "main_output = Dense(1, activation='sigmoid', name='main_output')(x)\n",
        "\n",
        "# optimizer\n",
        "opt = Adam(lr = 0.0001)\n",
        "\n",
        "# build model\n",
        "model = Model(inputs = [sequence_input, static_input], outputs = [main_output, seq_aux_output])\n",
        "model.compile(optimizer = opt, loss = 'binary_crossentropy', metrics = ['accuracy'], loss_weights = [1, 0.1])\n",
        "\n",
        "# save a plot of the model\n",
        "#plot_model(model, to_file='experiment_GRU-DO.svg')\n",
        "\n",
        "# fit the model\n",
        "history = model.fit([x_seq_train, x_static_train], [y_train, y_train], epochs = 50, batch_size = 128,\\\n",
        "                    validation_data=([x_seq_val, x_static_val], [y_val, y_val]),)"
      ],
      "execution_count": 242,
      "outputs": [
        {
          "output_type": "stream",
          "text": [
            "Train on 36224 samples, validate on 5775 samples\n",
            "Epoch 1/50\n",
            "36224/36224 [==============================] - 19s 527us/step - loss: 20.8827 - main_output_loss: 20.8161 - aux_output_loss: 0.6658 - main_output_accuracy: 0.5015 - aux_output_accuracy: 0.5884 - val_loss: 1.0310 - val_main_output_loss: 0.9598 - val_aux_output_loss: 0.5720 - val_main_output_accuracy: 0.8878 - val_aux_output_accuracy: 0.8622\n",
            "Epoch 2/50\n",
            "36224/36224 [==============================] - 18s 511us/step - loss: 7.4550 - main_output_loss: 7.3904 - aux_output_loss: 0.6457 - main_output_accuracy: 0.5007 - aux_output_accuracy: 0.6131 - val_loss: 0.4732 - val_main_output_loss: 0.4158 - val_aux_output_loss: 0.5419 - val_main_output_accuracy: 0.8878 - val_aux_output_accuracy: 0.8286\n",
            "Epoch 3/50\n",
            "36224/36224 [==============================] - 18s 499us/step - loss: 4.2615 - main_output_loss: 4.1981 - aux_output_loss: 0.6332 - main_output_accuracy: 0.5047 - aux_output_accuracy: 0.6310 - val_loss: 2.3908 - val_main_output_loss: 2.3299 - val_aux_output_loss: 0.5495 - val_main_output_accuracy: 0.1124 - val_aux_output_accuracy: 0.7784\n",
            "Epoch 4/50\n",
            "36224/36224 [==============================] - 18s 510us/step - loss: 2.9041 - main_output_loss: 2.8421 - aux_output_loss: 0.6200 - main_output_accuracy: 0.5104 - aux_output_accuracy: 0.6507 - val_loss: 0.7876 - val_main_output_loss: 0.7321 - val_aux_output_loss: 0.5473 - val_main_output_accuracy: 0.4939 - val_aux_output_accuracy: 0.7571\n",
            "Epoch 5/50\n",
            "36224/36224 [==============================] - 18s 503us/step - loss: 2.1081 - main_output_loss: 2.0474 - aux_output_loss: 0.6073 - main_output_accuracy: 0.5102 - aux_output_accuracy: 0.6683 - val_loss: 0.8923 - val_main_output_loss: 0.8387 - val_aux_output_loss: 0.5256 - val_main_output_accuracy: 0.2471 - val_aux_output_accuracy: 0.7609\n",
            "Epoch 6/50\n",
            "36224/36224 [==============================] - 18s 504us/step - loss: 1.5856 - main_output_loss: 1.5263 - aux_output_loss: 0.5936 - main_output_accuracy: 0.5234 - aux_output_accuracy: 0.6819 - val_loss: 0.7841 - val_main_output_loss: 0.7293 - val_aux_output_loss: 0.5381 - val_main_output_accuracy: 0.5243 - val_aux_output_accuracy: 0.7435\n",
            "Epoch 7/50\n",
            "36224/36224 [==============================] - 18s 507us/step - loss: 1.3602 - main_output_loss: 1.3021 - aux_output_loss: 0.5813 - main_output_accuracy: 0.5225 - aux_output_accuracy: 0.6942 - val_loss: 0.8018 - val_main_output_loss: 0.7544 - val_aux_output_loss: 0.4619 - val_main_output_accuracy: 0.4563 - val_aux_output_accuracy: 0.7986\n",
            "Epoch 8/50\n",
            "36224/36224 [==============================] - 18s 508us/step - loss: 1.0901 - main_output_loss: 1.0330 - aux_output_loss: 0.5706 - main_output_accuracy: 0.5391 - aux_output_accuracy: 0.7012 - val_loss: 0.6573 - val_main_output_loss: 0.6105 - val_aux_output_loss: 0.4603 - val_main_output_accuracy: 0.8589 - val_aux_output_accuracy: 0.7983\n",
            "Epoch 9/50\n",
            "36224/36224 [==============================] - 18s 504us/step - loss: 0.9461 - main_output_loss: 0.8899 - aux_output_loss: 0.5621 - main_output_accuracy: 0.5416 - aux_output_accuracy: 0.7079 - val_loss: 0.5939 - val_main_output_loss: 0.5485 - val_aux_output_loss: 0.4455 - val_main_output_accuracy: 0.8589 - val_aux_output_accuracy: 0.8050\n",
            "Epoch 10/50\n",
            "36224/36224 [==============================] - 19s 521us/step - loss: 0.8648 - main_output_loss: 0.8093 - aux_output_loss: 0.5557 - main_output_accuracy: 0.5546 - aux_output_accuracy: 0.7147 - val_loss: 0.6667 - val_main_output_loss: 0.6161 - val_aux_output_loss: 0.4959 - val_main_output_accuracy: 0.8589 - val_aux_output_accuracy: 0.7687\n",
            "Epoch 11/50\n",
            "36224/36224 [==============================] - 18s 500us/step - loss: 0.8081 - main_output_loss: 0.7531 - aux_output_loss: 0.5500 - main_output_accuracy: 0.5670 - aux_output_accuracy: 0.7216 - val_loss: 0.7475 - val_main_output_loss: 0.6950 - val_aux_output_loss: 0.5112 - val_main_output_accuracy: 0.7046 - val_aux_output_accuracy: 0.7557\n",
            "Epoch 12/50\n",
            "36224/36224 [==============================] - 18s 508us/step - loss: 0.7721 - main_output_loss: 0.7174 - aux_output_loss: 0.5468 - main_output_accuracy: 0.5785 - aux_output_accuracy: 0.7232 - val_loss: 0.6875 - val_main_output_loss: 0.6386 - val_aux_output_loss: 0.4704 - val_main_output_accuracy: 0.8213 - val_aux_output_accuracy: 0.7662\n",
            "Epoch 13/50\n",
            "36224/36224 [==============================] - 18s 506us/step - loss: 0.7362 - main_output_loss: 0.6809 - aux_output_loss: 0.5528 - main_output_accuracy: 0.6211 - aux_output_accuracy: 0.7212 - val_loss: 0.7637 - val_main_output_loss: 0.7172 - val_aux_output_loss: 0.4306 - val_main_output_accuracy: 0.6629 - val_aux_output_accuracy: 0.7912\n",
            "Epoch 14/50\n",
            "36224/36224 [==============================] - 18s 509us/step - loss: 0.6837 - main_output_loss: 0.6290 - aux_output_loss: 0.5467 - main_output_accuracy: 0.6751 - aux_output_accuracy: 0.7271 - val_loss: 0.7619 - val_main_output_loss: 0.7139 - val_aux_output_loss: 0.4382 - val_main_output_accuracy: 0.6951 - val_aux_output_accuracy: 0.7839\n",
            "Epoch 15/50\n",
            "36224/36224 [==============================] - 18s 510us/step - loss: 0.6814 - main_output_loss: 0.6272 - aux_output_loss: 0.5421 - main_output_accuracy: 0.6828 - aux_output_accuracy: 0.7328 - val_loss: 0.5989 - val_main_output_loss: 0.5448 - val_aux_output_loss: 0.5197 - val_main_output_accuracy: 0.8087 - val_aux_output_accuracy: 0.7287\n",
            "Epoch 16/50\n",
            "36224/36224 [==============================] - 18s 509us/step - loss: 0.6621 - main_output_loss: 0.6086 - aux_output_loss: 0.5351 - main_output_accuracy: 0.7032 - aux_output_accuracy: 0.7373 - val_loss: 0.6988 - val_main_output_loss: 0.6380 - val_aux_output_loss: 0.5670 - val_main_output_accuracy: 0.6932 - val_aux_output_accuracy: 0.6958\n",
            "Epoch 17/50\n",
            "36224/36224 [==============================] - 18s 507us/step - loss: 0.6493 - main_output_loss: 0.5961 - aux_output_loss: 0.5317 - main_output_accuracy: 0.7113 - aux_output_accuracy: 0.7387 - val_loss: 0.6800 - val_main_output_loss: 0.6288 - val_aux_output_loss: 0.4716 - val_main_output_accuracy: 0.7067 - val_aux_output_accuracy: 0.7659\n",
            "Epoch 18/50\n",
            "36224/36224 [==============================] - 18s 506us/step - loss: 0.6355 - main_output_loss: 0.5829 - aux_output_loss: 0.5268 - main_output_accuracy: 0.7209 - aux_output_accuracy: 0.7433 - val_loss: 0.6324 - val_main_output_loss: 0.5855 - val_aux_output_loss: 0.4249 - val_main_output_accuracy: 0.7314 - val_aux_output_accuracy: 0.7952\n",
            "Epoch 19/50\n",
            "36224/36224 [==============================] - 18s 499us/step - loss: 0.6310 - main_output_loss: 0.5786 - aux_output_loss: 0.5238 - main_output_accuracy: 0.7241 - aux_output_accuracy: 0.7453 - val_loss: 0.6810 - val_main_output_loss: 0.6305 - val_aux_output_loss: 0.4594 - val_main_output_accuracy: 0.6753 - val_aux_output_accuracy: 0.7666\n",
            "Epoch 20/50\n",
            "36224/36224 [==============================] - 18s 498us/step - loss: 0.6316 - main_output_loss: 0.5794 - aux_output_loss: 0.5216 - main_output_accuracy: 0.7254 - aux_output_accuracy: 0.7500 - val_loss: 0.5407 - val_main_output_loss: 0.4932 - val_aux_output_loss: 0.4360 - val_main_output_accuracy: 0.7586 - val_aux_output_accuracy: 0.7870\n",
            "Epoch 21/50\n",
            "36224/36224 [==============================] - 18s 501us/step - loss: 0.6159 - main_output_loss: 0.5643 - aux_output_loss: 0.5158 - main_output_accuracy: 0.7350 - aux_output_accuracy: 0.7535 - val_loss: 0.5276 - val_main_output_loss: 0.4675 - val_aux_output_loss: 0.5704 - val_main_output_accuracy: 0.7681 - val_aux_output_accuracy: 0.6907\n",
            "Epoch 22/50\n",
            "36224/36224 [==============================] - 18s 507us/step - loss: 0.6221 - main_output_loss: 0.5710 - aux_output_loss: 0.5114 - main_output_accuracy: 0.7286 - aux_output_accuracy: 0.7564 - val_loss: 0.5284 - val_main_output_loss: 0.4835 - val_aux_output_loss: 0.4099 - val_main_output_accuracy: 0.7661 - val_aux_output_accuracy: 0.8012\n",
            "Epoch 23/50\n",
            "36224/36224 [==============================] - 18s 500us/step - loss: 0.6173 - main_output_loss: 0.5665 - aux_output_loss: 0.5081 - main_output_accuracy: 0.7333 - aux_output_accuracy: 0.7591 - val_loss: 0.5132 - val_main_output_loss: 0.4708 - val_aux_output_loss: 0.3883 - val_main_output_accuracy: 0.7829 - val_aux_output_accuracy: 0.8223\n",
            "Epoch 24/50\n",
            "36224/36224 [==============================] - 18s 505us/step - loss: 0.6121 - main_output_loss: 0.5615 - aux_output_loss: 0.5068 - main_output_accuracy: 0.7385 - aux_output_accuracy: 0.7620 - val_loss: 0.4917 - val_main_output_loss: 0.4439 - val_aux_output_loss: 0.4455 - val_main_output_accuracy: 0.7986 - val_aux_output_accuracy: 0.7773\n",
            "Epoch 25/50\n",
            "36224/36224 [==============================] - 18s 510us/step - loss: 0.6098 - main_output_loss: 0.5593 - aux_output_loss: 0.5049 - main_output_accuracy: 0.7399 - aux_output_accuracy: 0.7621 - val_loss: 0.5198 - val_main_output_loss: 0.4713 - val_aux_output_loss: 0.4465 - val_main_output_accuracy: 0.7851 - val_aux_output_accuracy: 0.7787\n",
            "Epoch 26/50\n",
            "36224/36224 [==============================] - 18s 509us/step - loss: 0.6078 - main_output_loss: 0.5576 - aux_output_loss: 0.5020 - main_output_accuracy: 0.7405 - aux_output_accuracy: 0.7661 - val_loss: 0.4452 - val_main_output_loss: 0.4042 - val_aux_output_loss: 0.3833 - val_main_output_accuracy: 0.8471 - val_aux_output_accuracy: 0.8229\n",
            "Epoch 27/50\n",
            "36224/36224 [==============================] - 19s 514us/step - loss: 0.6089 - main_output_loss: 0.5588 - aux_output_loss: 0.5007 - main_output_accuracy: 0.7393 - aux_output_accuracy: 0.7663 - val_loss: 0.6185 - val_main_output_loss: 0.5587 - val_aux_output_loss: 0.5553 - val_main_output_accuracy: 0.6871 - val_aux_output_accuracy: 0.6994\n",
            "Epoch 28/50\n",
            "36224/36224 [==============================] - 19s 515us/step - loss: 0.6019 - main_output_loss: 0.5522 - aux_output_loss: 0.4974 - main_output_accuracy: 0.7438 - aux_output_accuracy: 0.7683 - val_loss: 0.5797 - val_main_output_loss: 0.5351 - val_aux_output_loss: 0.4030 - val_main_output_accuracy: 0.7481 - val_aux_output_accuracy: 0.8123\n",
            "Epoch 29/50\n",
            "36224/36224 [==============================] - 19s 512us/step - loss: 0.5991 - main_output_loss: 0.5496 - aux_output_loss: 0.4947 - main_output_accuracy: 0.7470 - aux_output_accuracy: 0.7702 - val_loss: 0.6322 - val_main_output_loss: 0.5679 - val_aux_output_loss: 0.6045 - val_main_output_accuracy: 0.6871 - val_aux_output_accuracy: 0.6731\n",
            "Epoch 30/50\n",
            "36224/36224 [==============================] - 18s 504us/step - loss: 0.5938 - main_output_loss: 0.5446 - aux_output_loss: 0.4915 - main_output_accuracy: 0.7493 - aux_output_accuracy: 0.7729 - val_loss: 0.5188 - val_main_output_loss: 0.4674 - val_aux_output_loss: 0.4774 - val_main_output_accuracy: 0.7702 - val_aux_output_accuracy: 0.7574\n",
            "Epoch 31/50\n",
            "36224/36224 [==============================] - 18s 509us/step - loss: 0.5985 - main_output_loss: 0.5493 - aux_output_loss: 0.4922 - main_output_accuracy: 0.7452 - aux_output_accuracy: 0.7722 - val_loss: 0.5431 - val_main_output_loss: 0.4989 - val_aux_output_loss: 0.3988 - val_main_output_accuracy: 0.7702 - val_aux_output_accuracy: 0.8144\n",
            "Epoch 32/50\n",
            "36224/36224 [==============================] - 18s 506us/step - loss: 0.5952 - main_output_loss: 0.5465 - aux_output_loss: 0.4879 - main_output_accuracy: 0.7501 - aux_output_accuracy: 0.7761 - val_loss: 0.6048 - val_main_output_loss: 0.5530 - val_aux_output_loss: 0.4761 - val_main_output_accuracy: 0.7171 - val_aux_output_accuracy: 0.7577\n",
            "Epoch 33/50\n",
            "36224/36224 [==============================] - 18s 510us/step - loss: 0.5917 - main_output_loss: 0.5431 - aux_output_loss: 0.4861 - main_output_accuracy: 0.7514 - aux_output_accuracy: 0.7782 - val_loss: 0.4714 - val_main_output_loss: 0.4309 - val_aux_output_loss: 0.3714 - val_main_output_accuracy: 0.8113 - val_aux_output_accuracy: 0.8357\n",
            "Epoch 34/50\n",
            "36224/36224 [==============================] - 19s 511us/step - loss: 0.5901 - main_output_loss: 0.5412 - aux_output_loss: 0.4883 - main_output_accuracy: 0.7542 - aux_output_accuracy: 0.7750 - val_loss: 0.4752 - val_main_output_loss: 0.4320 - val_aux_output_loss: 0.3983 - val_main_output_accuracy: 0.8227 - val_aux_output_accuracy: 0.8165\n",
            "Epoch 35/50\n",
            "36224/36224 [==============================] - 19s 511us/step - loss: 0.5943 - main_output_loss: 0.5459 - aux_output_loss: 0.4847 - main_output_accuracy: 0.7498 - aux_output_accuracy: 0.7787 - val_loss: 0.4541 - val_main_output_loss: 0.4128 - val_aux_output_loss: 0.3834 - val_main_output_accuracy: 0.8448 - val_aux_output_accuracy: 0.8265\n",
            "Epoch 36/50\n",
            "36224/36224 [==============================] - 18s 510us/step - loss: 0.5815 - main_output_loss: 0.5335 - aux_output_loss: 0.4793 - main_output_accuracy: 0.7583 - aux_output_accuracy: 0.7836 - val_loss: 0.4313 - val_main_output_loss: 0.3916 - val_aux_output_loss: 0.3703 - val_main_output_accuracy: 0.8506 - val_aux_output_accuracy: 0.8348\n",
            "Epoch 37/50\n",
            "36224/36224 [==============================] - 18s 505us/step - loss: 0.5772 - main_output_loss: 0.5294 - aux_output_loss: 0.4783 - main_output_accuracy: 0.7627 - aux_output_accuracy: 0.7838 - val_loss: 0.4378 - val_main_output_loss: 0.3950 - val_aux_output_loss: 0.4003 - val_main_output_accuracy: 0.8500 - val_aux_output_accuracy: 0.8182\n",
            "Epoch 38/50\n",
            "36224/36224 [==============================] - 18s 510us/step - loss: 0.5780 - main_output_loss: 0.5306 - aux_output_loss: 0.4734 - main_output_accuracy: 0.7602 - aux_output_accuracy: 0.7874 - val_loss: 0.5836 - val_main_output_loss: 0.5294 - val_aux_output_loss: 0.4893 - val_main_output_accuracy: 0.7300 - val_aux_output_accuracy: 0.7571\n",
            "Epoch 39/50\n",
            "36224/36224 [==============================] - 18s 506us/step - loss: 0.5861 - main_output_loss: 0.5383 - aux_output_loss: 0.4777 - main_output_accuracy: 0.7546 - aux_output_accuracy: 0.7839 - val_loss: 0.4816 - val_main_output_loss: 0.4324 - val_aux_output_loss: 0.4574 - val_main_output_accuracy: 0.8069 - val_aux_output_accuracy: 0.7739\n",
            "Epoch 40/50\n",
            "36224/36224 [==============================] - 18s 505us/step - loss: 0.5822 - main_output_loss: 0.5345 - aux_output_loss: 0.4772 - main_output_accuracy: 0.7584 - aux_output_accuracy: 0.7839 - val_loss: 0.7581 - val_main_output_loss: 0.6924 - val_aux_output_loss: 0.5973 - val_main_output_accuracy: 0.6211 - val_aux_output_accuracy: 0.6842\n",
            "Epoch 41/50\n",
            "36224/36224 [==============================] - 18s 506us/step - loss: 0.5889 - main_output_loss: 0.5412 - aux_output_loss: 0.4777 - main_output_accuracy: 0.7553 - aux_output_accuracy: 0.7829 - val_loss: 0.5889 - val_main_output_loss: 0.5348 - val_aux_output_loss: 0.4946 - val_main_output_accuracy: 0.7274 - val_aux_output_accuracy: 0.7552\n",
            "Epoch 42/50\n",
            "36224/36224 [==============================] - 18s 506us/step - loss: 0.5813 - main_output_loss: 0.5342 - aux_output_loss: 0.4708 - main_output_accuracy: 0.7599 - aux_output_accuracy: 0.7890 - val_loss: 0.5465 - val_main_output_loss: 0.4948 - val_aux_output_loss: 0.4798 - val_main_output_accuracy: 0.7685 - val_aux_output_accuracy: 0.7633\n",
            "Epoch 43/50\n",
            "36224/36224 [==============================] - 18s 502us/step - loss: 0.5734 - main_output_loss: 0.5264 - aux_output_loss: 0.4701 - main_output_accuracy: 0.7668 - aux_output_accuracy: 0.7909 - val_loss: 0.5293 - val_main_output_loss: 0.4789 - val_aux_output_loss: 0.4633 - val_main_output_accuracy: 0.7709 - val_aux_output_accuracy: 0.7704\n",
            "Epoch 44/50\n",
            "36224/36224 [==============================] - 19s 514us/step - loss: 0.5690 - main_output_loss: 0.5225 - aux_output_loss: 0.4650 - main_output_accuracy: 0.7683 - aux_output_accuracy: 0.7923 - val_loss: 0.4260 - val_main_output_loss: 0.3887 - val_aux_output_loss: 0.3435 - val_main_output_accuracy: 0.8639 - val_aux_output_accuracy: 0.8563\n",
            "Epoch 45/50\n",
            "36224/36224 [==============================] - 18s 499us/step - loss: 0.5817 - main_output_loss: 0.5349 - aux_output_loss: 0.4685 - main_output_accuracy: 0.7599 - aux_output_accuracy: 0.7915 - val_loss: 0.4708 - val_main_output_loss: 0.4251 - val_aux_output_loss: 0.4249 - val_main_output_accuracy: 0.8282 - val_aux_output_accuracy: 0.8028\n",
            "Epoch 46/50\n",
            "36224/36224 [==============================] - 18s 502us/step - loss: 0.5703 - main_output_loss: 0.5237 - aux_output_loss: 0.4655 - main_output_accuracy: 0.7678 - aux_output_accuracy: 0.7935 - val_loss: 0.4354 - val_main_output_loss: 0.3911 - val_aux_output_loss: 0.4154 - val_main_output_accuracy: 0.8513 - val_aux_output_accuracy: 0.8052\n",
            "Epoch 47/50\n",
            "36224/36224 [==============================] - 18s 501us/step - loss: 0.5719 - main_output_loss: 0.5254 - aux_output_loss: 0.4643 - main_output_accuracy: 0.7669 - aux_output_accuracy: 0.7941 - val_loss: 0.4354 - val_main_output_loss: 0.3944 - val_aux_output_loss: 0.3823 - val_main_output_accuracy: 0.8445 - val_aux_output_accuracy: 0.8296\n",
            "Epoch 48/50\n",
            "36224/36224 [==============================] - 18s 503us/step - loss: 0.5762 - main_output_loss: 0.5294 - aux_output_loss: 0.4684 - main_output_accuracy: 0.7614 - aux_output_accuracy: 0.7896 - val_loss: 0.5968 - val_main_output_loss: 0.5416 - val_aux_output_loss: 0.5027 - val_main_output_accuracy: 0.7138 - val_aux_output_accuracy: 0.7446\n",
            "Epoch 49/50\n",
            "36224/36224 [==============================] - 18s 498us/step - loss: 0.5657 - main_output_loss: 0.5196 - aux_output_loss: 0.4608 - main_output_accuracy: 0.7686 - aux_output_accuracy: 0.7970 - val_loss: 0.6462 - val_main_output_loss: 0.5898 - val_aux_output_loss: 0.5081 - val_main_output_accuracy: 0.6874 - val_aux_output_accuracy: 0.7468\n",
            "Epoch 50/50\n",
            "36224/36224 [==============================] - 18s 505us/step - loss: 0.5732 - main_output_loss: 0.5271 - aux_output_loss: 0.4610 - main_output_accuracy: 0.7664 - aux_output_accuracy: 0.7957 - val_loss: 0.4367 - val_main_output_loss: 0.3934 - val_aux_output_loss: 0.4037 - val_main_output_accuracy: 0.8502 - val_aux_output_accuracy: 0.8135\n"
          ],
          "name": "stdout"
        }
      ]
    },
    {
      "cell_type": "code",
      "metadata": {
        "id": "QI7zSjufsEO7",
        "colab_type": "code",
        "colab": {
          "base_uri": "https://localhost:8080/",
          "height": 241
        },
        "outputId": "d33cc1ef-2db2-49a7-b052-7af3e7d63e61"
      },
      "source": [
        "# AUC for in-hospital mortality prediction\n",
        "# the difference of pred_main and pred_aux is that pred_main uses both time series data and non-ts data, but pred_aux only uses the time series data to do prediction\n",
        "\n",
        "pred_main, pred_aux = model.predict([x_seq_test, x_static_test])\n",
        "roc = roc_curve(y_test, pred_aux)\n",
        "auc = roc_auc_score(y_test, pred_aux)\n",
        "fig = plt.figure(figsize=(4, 3)) # in inches\n",
        "plt.plot(roc[0], roc[1], color = 'darkorange', label = 'ROC curve\\n(area = %0.2f)' % auc)\n",
        "plt.plot([0, 1], [0, 1], color= 'navy', linestyle = '--')\n",
        "plt.xlabel('False Positive Rate')\n",
        "plt.ylabel('True Positive Rate')\n",
        "plt.title('%s: ROC' % 'GRU In-hosipital Mortality')\n",
        "plt.legend(loc = \"lower right\")\n",
        "# fig_name = 'gru-base.pdf'\n",
        "# fig.savefig(fig_name, bbox_inches='tight')\n",
        "plt.show()"
      ],
      "execution_count": 243,
      "outputs": [
        {
          "output_type": "display_data",
          "data": {
            "image/png": "[encoded data removed]",
            "text/plain": [
              "<Figure size 288x216 with 1 Axes>"
            ]
          },
          "metadata": {
            "tags": [],
            "needs_background": "light"
          }
        }
      ]
    },
    {
      "cell_type": "code",
      "metadata": {
        "id": "tmyPC17HfIUl",
        "colab_type": "code",
        "colab": {
          "base_uri": "https://localhost:8080/",
          "height": 241
        },
        "outputId": "3780e15d-acce-49bb-8669-e37afbe23cda"
      },
      "source": [
        "# AUC for in-hospital mortality prediction\n",
        "# the difference of pred_main and pred_aux is that pred_main uses both time series data and non-ts data, but pred_aux only uses the time series data to do prediction\n",
        "\n",
        "pred_main, pred_aux = model.predict([x_seq_test, x_static_test])\n",
        "roc = roc_curve(y_test, pred_main)\n",
        "auc = roc_auc_score(y_test, pred_main)\n",
        "fig = plt.figure(figsize=(4, 3)) # in inches\n",
        "plt.plot(roc[0], roc[1], color = 'darkorange', label = 'ROC curve\\n(area = %0.2f)' % auc)\n",
        "plt.plot([0, 1], [0, 1], color= 'navy', linestyle = '--')\n",
        "plt.xlabel('False Positive Rate')\n",
        "plt.ylabel('True Positive Rate')\n",
        "plt.title('%s: ROC' % 'GRU In-hosipital Mortality')\n",
        "plt.legend(loc = \"lower right\")\n",
        "# fig_name = 'gru-base.pdf'\n",
        "# fig.savefig(fig_name, bbox_inches='tight')\n",
        "plt.show()"
      ],
      "execution_count": 193,
      "outputs": [
        {
          "output_type": "display_data",
          "data": {
            "image/png": "[encoded data removed]",
            "text/plain": [
              "<Figure size 288x216 with 1 Axes>"
            ]
          },
          "metadata": {
            "tags": [],
            "needs_background": "light"
          }
        }
      ]
    },
    {
      "cell_type": "code",
      "metadata": {
        "id": "Ew_HIHyi1fDA",
        "colab_type": "code",
        "outputId": "a3b26256-9ecc-496d-fa21-bb7f8fc4095b",
        "colab": {
          "base_uri": "https://localhost:8080/",
          "height": 241
        }
      },
      "source": [
        "# AUC for 48 hrs mortality\n",
        "# the difference of pred_main and pred_aux is that pred_main uses both time series data and non-ts data, but pred_aux only uses the time series data to do prediction\n",
        "\n",
        "pred_main, pred_aux = model.predict([x_seq_test, x_static_test])\n",
        "roc = roc_curve(y_test, pred_aux)\n",
        "auc = roc_auc_score(y_test, pred_aux)\n",
        "fig = plt.figure(figsize=(4, 3)) # in inches\n",
        "plt.plot(roc[0], roc[1], color = 'darkorange', label = 'ROC curve\\n(area = %0.2f)' % auc)\n",
        "plt.plot([0, 1], [0, 1], color= 'navy', linestyle = '--')\n",
        "plt.xlabel('False Positive Rate')\n",
        "plt.ylabel('True Positive Rate')\n",
        "plt.title('%s: ROC' % 'GRU: 48 hr Mortality')\n",
        "plt.legend(loc = \"lower right\")\n",
        "# fig_name = 'gru-base.pdf'\n",
        "# fig.savefig(fig_name, bbox_inches='tight')\n",
        "plt.show()"
      ],
      "execution_count": 184,
      "outputs": [
        {
          "output_type": "display_data",
          "data": {
            "image/png": "[encoded data removed]",
            "text/plain": [
              "<Figure size 288x216 with 1 Axes>"
            ]
          },
          "metadata": {
            "tags": [],
            "needs_background": "light"
          }
        }
      ]
    },
    {
      "cell_type": "code",
      "metadata": {
        "id": "5KLiy-EeIMoR",
        "colab_type": "code",
        "colab": {
          "base_uri": "https://localhost:8080/",
          "height": 241
        },
        "outputId": "afbaf04b-a815-4661-c8f0-3a3a845f75e1"
      },
      "source": [
        "# AUC for 48 hrs mortality\n",
        "# the difference of pred_main and pred_aux is that pred_main uses both time series data and non-ts data, but pred_aux only uses the time series data to do prediction\n",
        "\n",
        "pred_main, pred_aux = model.predict([x_seq_test, x_static_test])\n",
        "roc = roc_curve(y_test, pred_main)\n",
        "auc = roc_auc_score(y_test, pred_main)\n",
        "fig = plt.figure(figsize=(4, 3)) # in inches\n",
        "plt.plot(roc[0], roc[1], color = 'darkorange', label = 'ROC curve\\n(area = %0.2f)' % auc)\n",
        "plt.plot([0, 1], [0, 1], color= 'navy', linestyle = '--')\n",
        "plt.xlabel('False Positive Rate')\n",
        "plt.ylabel('True Positive Rate')\n",
        "plt.title('%s: ROC' % 'GRU: 48 hr Mortality')\n",
        "plt.legend(loc = \"lower right\")\n",
        "# fig_name = 'gru-base.pdf'\n",
        "# fig.savefig(fig_name, bbox_inches='tight')\n",
        "plt.show()"
      ],
      "execution_count": 185,
      "outputs": [
        {
          "output_type": "display_data",
          "data": {
            "image/png": "[encoded data removed]",
            "text/plain": [
              "<Figure size 288x216 with 1 Axes>"
            ]
          },
          "metadata": {
            "tags": [],
            "needs_background": "light"
          }
        }
      ]
    },
    {
      "cell_type": "code",
      "metadata": {
        "id": "Ifzs6h8sxTIP",
        "colab_type": "code",
        "outputId": "1d65779f-2aff-4ed6-f732-f308defb5470",
        "colab": {
          "base_uri": "https://localhost:8080/",
          "height": 545
        }
      },
      "source": [
        "# 48 hrs mortality prediction\n",
        "# plot training and validation loss and accuracy\n",
        "\n",
        "acc = history.history['aux_output_accuracy']\n",
        "val_acc = history.history['val_aux_output_accuracy']\n",
        "loss = history.history['aux_output_loss']\n",
        "val_loss = history.history['val_aux_output_loss']\n",
        "\n",
        "epochs = range(len(acc))\n",
        "\n",
        "plt.plot(epochs, acc, 'bo', label='Training acc')\n",
        "plt.plot(epochs, val_acc, 'b', label='Validation acc')\n",
        "plt.title('Training and validation accuracy')\n",
        "plt.legend()\n",
        "\n",
        "plt.figure()\n",
        "plt.plot(epochs, loss, 'bo', label='Training loss')\n",
        "plt.plot(epochs, val_loss, 'b', label='Validation loss')\n",
        "plt.title('Training and validation loss')\n",
        "plt.legend()\n",
        "\n",
        "fig_name = 'loss_svg.svg'\n",
        "fig.savefig('loss_svg.svg', bbox_inches='tight')"
      ],
      "execution_count": 108,
      "outputs": [
        {
          "output_type": "display_data",
          "data": {
            "image/png": "[encoded data removed]",
            "text/plain": [
              "<Figure size 432x288 with 1 Axes>"
            ]
          },
          "metadata": {
            "tags": [],
            "needs_background": "light"
          }
        },
        {
          "output_type": "display_data",
          "data": {
            "image/png": "[encoded data removed]",
            "text/plain": [
              "<Figure size 432x288 with 1 Axes>"
            ]
          },
          "metadata": {
            "tags": [],
            "needs_background": "light"
          }
        }
      ]
    },
    {
      "cell_type": "code",
      "metadata": {
        "id": "N2sWBG5YauN0",
        "colab_type": "code",
        "colab": {
          "base_uri": "https://localhost:8080/",
          "height": 545
        },
        "outputId": "83d62565-f5df-4f25-d897-4250f7f91aba"
      },
      "source": [
        "# in-hospital mortality prediction\n",
        "# plot training and validation loss and accuracy\n",
        "\n",
        "\n",
        "acc = history.history['aux_output_accuracy']\n",
        "val_acc = history.history['val_aux_output_accuracy']\n",
        "loss = history.history['aux_output_loss']\n",
        "val_loss = history.history['val_aux_output_loss']\n",
        "\n",
        "epochs = range(len(acc))\n",
        "\n",
        "plt.plot(epochs, acc, 'bo', label='Training acc')\n",
        "plt.plot(epochs, val_acc, 'b', label='Validation acc')\n",
        "plt.title('Training and validation accuracy')\n",
        "plt.legend()\n",
        "\n",
        "plt.figure()\n",
        "plt.plot(epochs, loss, 'bo', label='Training loss')\n",
        "plt.plot(epochs, val_loss, 'b', label='Validation loss')\n",
        "plt.title('Training and validation loss')\n",
        "plt.legend()\n",
        "\n",
        "fig_name = 'loss_svg.svg'\n",
        "fig.savefig('loss_svg.svg', bbox_inches='tight')"
      ],
      "execution_count": 191,
      "outputs": [
        {
          "output_type": "display_data",
          "data": {
            "image/png": "[encoded data removed]",
            "text/plain": [
              "<Figure size 432x288 with 1 Axes>"
            ]
          },
          "metadata": {
            "tags": [],
            "needs_background": "light"
          }
        },
        {
          "output_type": "display_data",
          "data": {
            "image/png": "[encoded data removed]",
            "text/plain": [
              "<Figure size 432x288 with 1 Axes>"
            ]
          },
          "metadata": {
            "tags": [],
            "needs_background": "light"
          }
        }
      ]
    }
  ]
}