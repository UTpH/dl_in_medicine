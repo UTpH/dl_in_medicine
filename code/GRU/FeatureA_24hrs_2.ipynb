{
 "cells": [
  {
   "cell_type": "code",
   "execution_count": 1,
   "metadata": {
    "colab": {
     "base_uri": "https://localhost:8080/",
     "height": 34
    },
    "colab_type": "code",
    "id": "JlIhEQOKqrx1",
    "outputId": "4060135c-68b8-4783-ee87-3811bdb1eae4"
   },
   "outputs": [
    {
     "name": "stdout",
     "output_type": "stream",
     "text": [
      "Found GPU at: /device:GPU:0\n"
     ]
    }
   ],
   "source": [
    "%tensorflow_version 2.x\n",
    "import tensorflow as tf\n",
    "device_name = tf.test.gpu_device_name()\n",
    "if device_name != '/device:GPU:0':\n",
    "    raise SystemError('GPU device not found')\n",
    "print('Found GPU at: {}'.format(device_name))"
   ]
  },
  {
   "cell_type": "code",
   "execution_count": 2,
   "metadata": {
    "colab": {
     "base_uri": "https://localhost:8080/",
     "height": 34
    },
    "colab_type": "code",
    "id": "8lmSuTCOuJ1s",
    "outputId": "061b5ca6-5bc4-4586-bc4b-82c701162cff"
   },
   "outputs": [
    {
     "name": "stderr",
     "output_type": "stream",
     "text": [
      "Using TensorFlow backend.\n"
     ]
    }
   ],
   "source": [
    "import numpy as np\n",
    "import matplotlib as mpl\n",
    "import matplotlib.pyplot as plt\n",
    "from IPython.display import SVG\n",
    "import os\n",
    "import pydotplus\n",
    "\n",
    "import keras\n",
    "from keras.optimizers import Adam, SGD, rmsprop\n",
    "from keras.models import Sequential,Model\n",
    "from keras.layers import Dense, Activation, Dropout, Input, Dropout, concatenate\n",
    "from keras.layers.recurrent import GRU, LSTM\n",
    "from keras.utils import plot_model\n",
    "# keras.utils.vis_utils.pydot = pydot\n",
    "from keras.utils.vis_utils import model_to_dot\n",
    "\n",
    "from sklearn.model_selection import train_test_split\n",
    "from sklearn.metrics import roc_auc_score, roc_curve\n",
    "\n",
    "%matplotlib inline"
   ]
  },
  {
   "cell_type": "code",
   "execution_count": 4,
   "metadata": {
    "colab": {
     "base_uri": "https://localhost:8080/",
     "height": 122
    },
    "colab_type": "code",
    "id": "sK-uPINXIFtC",
    "outputId": "eb04a530-c0b7-494b-bbc7-f22fc65d77ff"
   },
   "outputs": [
    {
     "name": "stdout",
     "output_type": "stream",
     "text": [
      "Go to this URL in a browser: https://accounts.google.com/o/oauth2/auth?client_id=947318989803-6bn6qk8qdgf4n4g3pfee6491hc0brc4i.apps.googleusercontent.com&redirect_uri=urn%3aietf%3awg%3aoauth%3a2.0%3aoob&response_type=code&scope=email%20https%3a%2f%2fwww.googleapis.com%2fauth%2fdocs.test%20https%3a%2f%2fwww.googleapis.com%2fauth%2fdrive%20https%3a%2f%2fwww.googleapis.com%2fauth%2fdrive.photos.readonly%20https%3a%2f%2fwww.googleapis.com%2fauth%2fpeopleapi.readonly\n",
      "\n",
      "Enter your authorization code:\n",
      "··········\n",
      "Mounted at /content/drive\n"
     ]
    }
   ],
   "source": [
    "from google.colab import drive\n",
    "drive.mount('/content/drive', force_remount=False)"
   ]
  },
  {
   "cell_type": "code",
   "execution_count": 0,
   "metadata": {
    "colab": {},
    "colab_type": "code",
    "id": "95rzKPHuWSVE"
   },
   "outputs": [],
   "source": [
    "import numpy as np\n",
    "import matplotlib as mpl\n",
    "import matplotlib.pyplot as plt\n",
    "from IPython.display import SVG\n",
    "import os\n",
    "import pydotplus\n",
    "\n",
    "import keras\n",
    "from keras.optimizers import Adam, SGD, rmsprop\n",
    "from keras.models import Sequential,Model\n",
    "from keras.layers import Dense, Activation, Dropout, Input, Dropout, concatenate\n",
    "from keras.layers.recurrent import GRU, LSTM\n",
    "from keras.utils import plot_model\n",
    "# keras.utils.vis_utils.pydot = pydot\n",
    "from keras.utils.vis_utils import model_to_dot\n",
    "\n",
    "from sklearn.model_selection import train_test_split\n",
    "from sklearn.metrics import roc_auc_score, roc_curve\n",
    "\n",
    "%matplotlib inline"
   ]
  },
  {
   "cell_type": "code",
   "execution_count": 0,
   "metadata": {
    "colab": {},
    "colab_type": "code",
    "id": "fcemxV8DWRX6"
   },
   "outputs": [],
   "source": [
    "data = np.load(\"drive/My Drive/imputed-normed-ep_1_24.npz\", allow_pickle=True)"
   ]
  },
  {
   "cell_type": "code",
   "execution_count": 0,
   "metadata": {
    "colab": {},
    "colab_type": "code",
    "id": "xF7rf8d6vSer"
   },
   "outputs": [],
   "source": [
    "features_sequence = data['ep_tdata'].astype(np.float32) # 12 time series features\n",
    "features_static = data['adm_features_all'].astype(np.float32) # 5 non-ts features,the unit of age: day\n",
    "labels = data[\"adm_labels_all\"][:, 0].astype(np.float32) # In-hospital mortality"
   ]
  },
  {
   "cell_type": "code",
   "execution_count": 0,
   "metadata": {
    "colab": {},
    "colab_type": "code",
    "id": "eQreFVLCXH5D"
   },
   "outputs": [],
   "source": [
    "trans = [0]*features_sequence.shape[0]"
   ]
  },
  {
   "cell_type": "code",
   "execution_count": 0,
   "metadata": {
    "colab": {},
    "colab_type": "code",
    "id": "cZeO7l2ArIOT"
   },
   "outputs": [],
   "source": [
    "for i in range(features_sequence.shape[0]):\n",
    "    trans[i] = features_sequence[i].T"
   ]
  },
  {
   "cell_type": "code",
   "execution_count": 0,
   "metadata": {
    "colab": {},
    "colab_type": "code",
    "id": "Kbw09MyjYYgm"
   },
   "outputs": [],
   "source": [
    "trans= np.array(trans)"
   ]
  },
  {
   "cell_type": "code",
   "execution_count": 61,
   "metadata": {
    "colab": {
     "base_uri": "https://localhost:8080/",
     "height": 34
    },
    "colab_type": "code",
    "id": "1ktgT2X8Ya8D",
    "outputId": "a09a0df9-37db-4ff4-cfc8-f2b0d879cfb3"
   },
   "outputs": [
    {
     "data": {
      "text/plain": [
       "(36093, 12, 24)"
      ]
     },
     "execution_count": 61,
     "metadata": {
      "tags": []
     },
     "output_type": "execute_result"
    }
   ],
   "source": [
    "trans.shape"
   ]
  },
  {
   "cell_type": "code",
   "execution_count": 0,
   "metadata": {
    "colab": {},
    "colab_type": "code",
    "id": "DcKljhWAYjZO"
   },
   "outputs": [],
   "source": [
    "features_sequence = trans"
   ]
  },
  {
   "cell_type": "code",
   "execution_count": 0,
   "metadata": {
    "colab": {},
    "colab_type": "code",
    "id": "nlcJhmUlwbMQ"
   },
   "outputs": [],
   "source": [
    "x_seq_full_train, x_seq_test, x_static_full_train, x_static_test, y_full_train, y_test = train_test_split(\n",
    "    features_sequence, features_static, labels, test_size = 0.20, random_state = 202)\n",
    "\n",
    "x_seq_train, x_seq_val, x_static_train, x_static_val, y_train, y_val = train_test_split(\n",
    "    x_seq_full_train, x_static_full_train, y_full_train, test_size = 0.20, random_state = 202)"
   ]
  },
  {
   "cell_type": "code",
   "execution_count": 64,
   "metadata": {
    "colab": {
     "base_uri": "https://localhost:8080/",
     "height": 34
    },
    "colab_type": "code",
    "id": "X6V2blvUitpL",
    "outputId": "7e4abeff-10b9-4544-b682-1a632a266abd"
   },
   "outputs": [
    {
     "data": {
      "text/plain": [
       "5775"
      ]
     },
     "execution_count": 64,
     "metadata": {
      "tags": []
     },
     "output_type": "execute_result"
    }
   ],
   "source": [
    "len(y_val)"
   ]
  },
  {
   "cell_type": "code",
   "execution_count": 65,
   "metadata": {
    "colab": {
     "base_uri": "https://localhost:8080/",
     "height": 34
    },
    "colab_type": "code",
    "id": "EFd7XL7yZTQQ",
    "outputId": "c7ce23b6-0ca9-4e08-a10f-94fdc507c680"
   },
   "outputs": [
    {
     "data": {
      "text/plain": [
       "2625"
      ]
     },
     "execution_count": 65,
     "metadata": {
      "tags": []
     },
     "output_type": "execute_result"
    }
   ],
   "source": [
    "# Count the positive labels\n",
    "count = 0\n",
    "for i in range(y_train.shape[0]):\n",
    "    if y_train[i] == 1:\n",
    "        count += 1\n",
    "count"
   ]
  },
  {
   "cell_type": "code",
   "execution_count": 0,
   "metadata": {
    "colab": {},
    "colab_type": "code",
    "id": "LLqU0StJNrfH"
   },
   "outputs": [],
   "source": [
    "# upsampling\n",
    "x_seq_up = []\n",
    "x_static_up = []\n",
    "y_up = []\n",
    "for i in range(x_seq_train.shape[0]):\n",
    "    count = 0\n",
    "    if y_train[i] == 1:\n",
    "        while count < 5:\n",
    "            x_seq_up.append(x_seq_train[i])\n",
    "            x_static_up.append(x_static_train[i])\n",
    "            y_up.append(y_train[i])\n",
    "            count += 1"
   ]
  },
  {
   "cell_type": "code",
   "execution_count": 67,
   "metadata": {
    "colab": {
     "base_uri": "https://localhost:8080/",
     "height": 34
    },
    "colab_type": "code",
    "id": "N5-0kc8SNuQ7",
    "outputId": "566f6b37-788e-4d94-d895-90f3bc6da164"
   },
   "outputs": [
    {
     "name": "stdout",
     "output_type": "stream",
     "text": [
      "13125 13125 13125\n"
     ]
    }
   ],
   "source": [
    "print(len(x_seq_up), len(x_static_up), len(y_up))"
   ]
  },
  {
   "cell_type": "code",
   "execution_count": 0,
   "metadata": {
    "colab": {},
    "colab_type": "code",
    "id": "8X3LOXvINw18"
   },
   "outputs": [],
   "source": [
    "a = np.concatenate((x_seq_train, x_seq_up))\n",
    "b = np.concatenate((x_static_train, x_static_up))\n",
    "c = np.concatenate((y_train, y_up))"
   ]
  },
  {
   "cell_type": "code",
   "execution_count": 69,
   "metadata": {
    "colab": {
     "base_uri": "https://localhost:8080/",
     "height": 34
    },
    "colab_type": "code",
    "id": "nGj1Psd6NyWW",
    "outputId": "9c1c4a28-e6d2-4ae6-cf7c-f081e25d7017"
   },
   "outputs": [
    {
     "name": "stdout",
     "output_type": "stream",
     "text": [
      "36224 36224 36224\n"
     ]
    }
   ],
   "source": [
    "index = list(range(len(c)))\n",
    "np.random.shuffle(index)\n",
    "\n",
    "x_seq_train = []\n",
    "x_static_train = []\n",
    "y_train = []\n",
    "\n",
    "for i in index:\n",
    "    x_seq_train.append(a[i])\n",
    "    x_static_train.append(b[i])\n",
    "    y_train.append(c[i])\n",
    "\n",
    "print(len(x_seq_train), len(x_static_train), len(y_train))"
   ]
  },
  {
   "cell_type": "code",
   "execution_count": 70,
   "metadata": {
    "colab": {
     "base_uri": "https://localhost:8080/",
     "height": 34
    },
    "colab_type": "code",
    "id": "BTKX3iUiN3-G",
    "outputId": "eabf5a9d-3397-4eb1-d45a-18084cd64812"
   },
   "outputs": [
    {
     "name": "stdout",
     "output_type": "stream",
     "text": [
      "(36224, 12, 24) (36224, 5) (36224,)\n"
     ]
    }
   ],
   "source": [
    "x_seq_train  = np.array(x_seq_train)\n",
    "x_static_train = np.array(x_static_train)\n",
    "y_train = np.array(y_train)\n",
    "\n",
    "print(x_seq_train.shape, x_static_train.shape, y_train.shape)"
   ]
  },
  {
   "cell_type": "code",
   "execution_count": 0,
   "metadata": {
    "colab": {},
    "colab_type": "code",
    "id": "WwzBWfKZwddK"
   },
   "outputs": [],
   "source": [
    "\n",
    "def impute_mean(source_data, input_data):\n",
    "    '''\n",
    "    Takes the source data, and uses it to determine means for all\n",
    "    features; it then applies them to the input data.\n",
    "    \n",
    "    inputs:\n",
    "    source_data: a tensor to provide means\n",
    "    input_data: the data to fill in NA for\n",
    "    \n",
    "    output:\n",
    "    output_data: data with nans imputed for each feature\n",
    "    \n",
    "    '''\n",
    "    \n",
    "    output_data = input_data.copy()\n",
    "    \n",
    "    for feature in range(source_data.shape[1]):\n",
    "        feature_mean = np.nanmean(source_data[:, feature, :][np.where(source_data[:, feature, :] != 0)])\n",
    "        ind_output_data = np.where(np.isnan(output_data[:, feature, :]))\n",
    "        output_data[:, feature, :][ind_output_data] = feature_mean\n",
    "    return output_data"
   ]
  },
  {
   "cell_type": "code",
   "execution_count": 0,
   "metadata": {
    "colab": {},
    "colab_type": "code",
    "id": "6vuZUtsRwf3g"
   },
   "outputs": [],
   "source": [
    "x_seq_train_original = x_seq_train.copy()\n",
    "x_seq_train = impute_mean(x_seq_train_original, x_seq_train)\n",
    "x_seq_val = impute_mean(x_seq_train_original, x_seq_val)\n",
    "x_seq_test = impute_mean(x_seq_train_original, x_seq_test)"
   ]
  },
  {
   "cell_type": "code",
   "execution_count": 73,
   "metadata": {
    "colab": {
     "base_uri": "https://localhost:8080/",
     "height": 34
    },
    "colab_type": "code",
    "id": "n__YiT0OEnz7",
    "outputId": "b77615af-74e5-4a62-b6f4-b69bdd7760a2"
   },
   "outputs": [
    {
     "data": {
      "text/plain": [
       "(36224, 12, 24)"
      ]
     },
     "execution_count": 73,
     "metadata": {
      "tags": []
     },
     "output_type": "execute_result"
    }
   ],
   "source": [
    "x_seq_train_original.shape"
   ]
  },
  {
   "cell_type": "code",
   "execution_count": 74,
   "metadata": {
    "colab": {
     "base_uri": "https://localhost:8080/",
     "height": 1000
    },
    "colab_type": "code",
    "id": "h2F464i7wh4L",
    "outputId": "af6058be-26ee-4960-8d11-30c75f485c13"
   },
   "outputs": [
    {
     "name": "stdout",
     "output_type": "stream",
     "text": [
      "Train on 36224 samples, validate on 5775 samples\n",
      "Epoch 1/40\n",
      "36224/36224 [==============================] - 14s 385us/step - loss: 78.4827 - main_output_loss: 78.4158 - aux_output_loss: 0.6688 - main_output_accuracy: 0.5000 - aux_output_accuracy: 0.5929 - val_loss: 8.6233 - val_main_output_loss: 8.5491 - val_aux_output_loss: 0.5672 - val_main_output_accuracy: 0.1122 - val_aux_output_accuracy: 0.8784\n",
      "Epoch 2/40\n",
      "36224/36224 [==============================] - 13s 367us/step - loss: 18.4019 - main_output_loss: 18.3366 - aux_output_loss: 0.6525 - main_output_accuracy: 0.5055 - aux_output_accuracy: 0.6164 - val_loss: 10.1084 - val_main_output_loss: 10.0282 - val_aux_output_loss: 0.5908 - val_main_output_accuracy: 0.1122 - val_aux_output_accuracy: 0.7971\n",
      "Epoch 3/40\n",
      "36224/36224 [==============================] - 13s 364us/step - loss: 11.8546 - main_output_loss: 11.7908 - aux_output_loss: 0.6386 - main_output_accuracy: 0.5054 - aux_output_accuracy: 0.6383 - val_loss: 8.4532 - val_main_output_loss: 8.3817 - val_aux_output_loss: 0.5347 - val_main_output_accuracy: 0.1122 - val_aux_output_accuracy: 0.8540\n",
      "Epoch 4/40\n",
      "36224/36224 [==============================] - 13s 370us/step - loss: 8.6182 - main_output_loss: 8.5559 - aux_output_loss: 0.6227 - main_output_accuracy: 0.5073 - aux_output_accuracy: 0.6606 - val_loss: 0.7100 - val_main_output_loss: 0.6500 - val_aux_output_loss: 0.5109 - val_main_output_accuracy: 0.8878 - val_aux_output_accuracy: 0.8383\n",
      "Epoch 5/40\n",
      "36224/36224 [==============================] - 13s 367us/step - loss: 6.2404 - main_output_loss: 6.1797 - aux_output_loss: 0.6070 - main_output_accuracy: 0.5061 - aux_output_accuracy: 0.6760 - val_loss: 3.3368 - val_main_output_loss: 3.2790 - val_aux_output_loss: 0.5005 - val_main_output_accuracy: 0.1122 - val_aux_output_accuracy: 0.8222\n",
      "Epoch 6/40\n",
      "36224/36224 [==============================] - 13s 366us/step - loss: 5.0653 - main_output_loss: 5.0051 - aux_output_loss: 0.6013 - main_output_accuracy: 0.5099 - aux_output_accuracy: 0.6846 - val_loss: 2.5641 - val_main_output_loss: 2.5047 - val_aux_output_loss: 0.5257 - val_main_output_accuracy: 0.1330 - val_aux_output_accuracy: 0.8042\n",
      "Epoch 7/40\n",
      "36224/36224 [==============================] - 13s 363us/step - loss: 4.0261 - main_output_loss: 3.9658 - aux_output_loss: 0.6026 - main_output_accuracy: 0.5170 - aux_output_accuracy: 0.6893 - val_loss: 0.5180 - val_main_output_loss: 0.4610 - val_aux_output_loss: 0.5206 - val_main_output_accuracy: 0.8878 - val_aux_output_accuracy: 0.7974\n",
      "Epoch 8/40\n",
      "36224/36224 [==============================] - 13s 366us/step - loss: 3.3536 - main_output_loss: 3.2939 - aux_output_loss: 0.5964 - main_output_accuracy: 0.5296 - aux_output_accuracy: 0.6914 - val_loss: 0.9822 - val_main_output_loss: 0.9310 - val_aux_output_loss: 0.4731 - val_main_output_accuracy: 0.5815 - val_aux_output_accuracy: 0.7998\n",
      "Epoch 9/40\n",
      "36224/36224 [==============================] - 13s 366us/step - loss: 2.5056 - main_output_loss: 2.4465 - aux_output_loss: 0.5915 - main_output_accuracy: 0.5633 - aux_output_accuracy: 0.6943 - val_loss: 0.8490 - val_main_output_loss: 0.7986 - val_aux_output_loss: 0.4691 - val_main_output_accuracy: 0.7423 - val_aux_output_accuracy: 0.7946\n",
      "Epoch 10/40\n",
      "36224/36224 [==============================] - 13s 367us/step - loss: 2.1040 - main_output_loss: 2.0459 - aux_output_loss: 0.5804 - main_output_accuracy: 0.5803 - aux_output_accuracy: 0.7031 - val_loss: 0.7506 - val_main_output_loss: 0.6930 - val_aux_output_loss: 0.5481 - val_main_output_accuracy: 0.7148 - val_aux_output_accuracy: 0.7276\n",
      "Epoch 11/40\n",
      "36224/36224 [==============================] - 13s 366us/step - loss: 1.7248 - main_output_loss: 1.6677 - aux_output_loss: 0.5707 - main_output_accuracy: 0.5950 - aux_output_accuracy: 0.7088 - val_loss: 0.3836 - val_main_output_loss: 0.3337 - val_aux_output_loss: 0.4916 - val_main_output_accuracy: 0.8519 - val_aux_output_accuracy: 0.7733\n",
      "Epoch 12/40\n",
      "36224/36224 [==============================] - 13s 367us/step - loss: 1.4658 - main_output_loss: 1.4097 - aux_output_loss: 0.5603 - main_output_accuracy: 0.6169 - aux_output_accuracy: 0.7189 - val_loss: 1.3146 - val_main_output_loss: 1.2617 - val_aux_output_loss: 0.4616 - val_main_output_accuracy: 0.5003 - val_aux_output_accuracy: 0.7780\n",
      "Epoch 13/40\n",
      "36224/36224 [==============================] - 13s 363us/step - loss: 1.2454 - main_output_loss: 1.1898 - aux_output_loss: 0.5557 - main_output_accuracy: 0.6300 - aux_output_accuracy: 0.7214 - val_loss: 1.5686 - val_main_output_loss: 1.5092 - val_aux_output_loss: 0.5015 - val_main_output_accuracy: 0.4327 - val_aux_output_accuracy: 0.7406\n",
      "Epoch 14/40\n",
      "36224/36224 [==============================] - 13s 367us/step - loss: 1.1029 - main_output_loss: 1.0482 - aux_output_loss: 0.5474 - main_output_accuracy: 0.6451 - aux_output_accuracy: 0.7284 - val_loss: 0.4728 - val_main_output_loss: 0.4224 - val_aux_output_loss: 0.4826 - val_main_output_accuracy: 0.7648 - val_aux_output_accuracy: 0.7526\n",
      "Epoch 15/40\n",
      "36224/36224 [==============================] - 13s 365us/step - loss: 0.9394 - main_output_loss: 0.8854 - aux_output_loss: 0.5399 - main_output_accuracy: 0.6641 - aux_output_accuracy: 0.7356 - val_loss: 0.4996 - val_main_output_loss: 0.4473 - val_aux_output_loss: 0.4920 - val_main_output_accuracy: 0.7567 - val_aux_output_accuracy: 0.7461\n",
      "Epoch 16/40\n",
      "36224/36224 [==============================] - 13s 366us/step - loss: 0.8416 - main_output_loss: 0.7880 - aux_output_loss: 0.5362 - main_output_accuracy: 0.6708 - aux_output_accuracy: 0.7376 - val_loss: 0.3780 - val_main_output_loss: 0.3334 - val_aux_output_loss: 0.4255 - val_main_output_accuracy: 0.8566 - val_aux_output_accuracy: 0.7887\n",
      "Epoch 17/40\n",
      "36224/36224 [==============================] - 13s 367us/step - loss: 0.7685 - main_output_loss: 0.7156 - aux_output_loss: 0.5296 - main_output_accuracy: 0.6820 - aux_output_accuracy: 0.7403 - val_loss: 0.4249 - val_main_output_loss: 0.3760 - val_aux_output_loss: 0.4619 - val_main_output_accuracy: 0.8007 - val_aux_output_accuracy: 0.7623\n",
      "Epoch 18/40\n",
      "36224/36224 [==============================] - 13s 369us/step - loss: 0.7000 - main_output_loss: 0.6475 - aux_output_loss: 0.5251 - main_output_accuracy: 0.7015 - aux_output_accuracy: 0.7452 - val_loss: 0.6124 - val_main_output_loss: 0.5607 - val_aux_output_loss: 0.4781 - val_main_output_accuracy: 0.7020 - val_aux_output_accuracy: 0.7486\n",
      "Epoch 19/40\n",
      "36224/36224 [==============================] - 13s 366us/step - loss: 0.6644 - main_output_loss: 0.6127 - aux_output_loss: 0.5174 - main_output_accuracy: 0.7032 - aux_output_accuracy: 0.7485 - val_loss: 0.7993 - val_main_output_loss: 0.7414 - val_aux_output_loss: 0.5184 - val_main_output_accuracy: 0.6139 - val_aux_output_accuracy: 0.7100\n",
      "Epoch 20/40\n",
      "36224/36224 [==============================] - 13s 369us/step - loss: 0.6542 - main_output_loss: 0.6027 - aux_output_loss: 0.5145 - main_output_accuracy: 0.7062 - aux_output_accuracy: 0.7495 - val_loss: 0.4427 - val_main_output_loss: 0.3948 - val_aux_output_loss: 0.4482 - val_main_output_accuracy: 0.7943 - val_aux_output_accuracy: 0.7642\n",
      "Epoch 21/40\n",
      "36224/36224 [==============================] - 14s 375us/step - loss: 0.6632 - main_output_loss: 0.6124 - aux_output_loss: 0.5072 - main_output_accuracy: 0.7066 - aux_output_accuracy: 0.7567 - val_loss: 0.5695 - val_main_output_loss: 0.5204 - val_aux_output_loss: 0.4536 - val_main_output_accuracy: 0.7150 - val_aux_output_accuracy: 0.7583\n",
      "Epoch 22/40\n",
      "36224/36224 [==============================] - 14s 378us/step - loss: 0.6671 - main_output_loss: 0.6165 - aux_output_loss: 0.5064 - main_output_accuracy: 0.6905 - aux_output_accuracy: 0.7537 - val_loss: 0.5106 - val_main_output_loss: 0.4567 - val_aux_output_loss: 0.5022 - val_main_output_accuracy: 0.7358 - val_aux_output_accuracy: 0.7233\n",
      "Epoch 23/40\n",
      "36224/36224 [==============================] - 14s 375us/step - loss: 0.5934 - main_output_loss: 0.5436 - aux_output_loss: 0.4986 - main_output_accuracy: 0.7326 - aux_output_accuracy: 0.7608 - val_loss: 0.5292 - val_main_output_loss: 0.4830 - val_aux_output_loss: 0.4207 - val_main_output_accuracy: 0.7373 - val_aux_output_accuracy: 0.7806\n",
      "Epoch 24/40\n",
      "36224/36224 [==============================] - 13s 368us/step - loss: 0.5932 - main_output_loss: 0.5437 - aux_output_loss: 0.4954 - main_output_accuracy: 0.7279 - aux_output_accuracy: 0.7618 - val_loss: 0.5572 - val_main_output_loss: 0.5080 - val_aux_output_loss: 0.4492 - val_main_output_accuracy: 0.6871 - val_aux_output_accuracy: 0.7591\n",
      "Epoch 25/40\n",
      "36224/36224 [==============================] - 13s 368us/step - loss: 0.5814 - main_output_loss: 0.5325 - aux_output_loss: 0.4890 - main_output_accuracy: 0.7303 - aux_output_accuracy: 0.7665 - val_loss: 0.4378 - val_main_output_loss: 0.3901 - val_aux_output_loss: 0.4447 - val_main_output_accuracy: 0.7984 - val_aux_output_accuracy: 0.7655\n",
      "Epoch 26/40\n",
      "36224/36224 [==============================] - 13s 369us/step - loss: 0.5640 - main_output_loss: 0.5157 - aux_output_loss: 0.4830 - main_output_accuracy: 0.7420 - aux_output_accuracy: 0.7710 - val_loss: 0.4687 - val_main_output_loss: 0.4233 - val_aux_output_loss: 0.4154 - val_main_output_accuracy: 0.7633 - val_aux_output_accuracy: 0.7849\n",
      "Epoch 27/40\n",
      "36224/36224 [==============================] - 13s 372us/step - loss: 0.5581 - main_output_loss: 0.5105 - aux_output_loss: 0.4763 - main_output_accuracy: 0.7439 - aux_output_accuracy: 0.7743 - val_loss: 0.5711 - val_main_output_loss: 0.5151 - val_aux_output_loss: 0.5129 - val_main_output_accuracy: 0.6876 - val_aux_output_accuracy: 0.7155\n",
      "Epoch 28/40\n",
      "36224/36224 [==============================] - 13s 370us/step - loss: 0.5576 - main_output_loss: 0.5104 - aux_output_loss: 0.4727 - main_output_accuracy: 0.7452 - aux_output_accuracy: 0.7756 - val_loss: 0.6528 - val_main_output_loss: 0.5948 - val_aux_output_loss: 0.5280 - val_main_output_accuracy: 0.6532 - val_aux_output_accuracy: 0.7086\n",
      "Epoch 29/40\n",
      "36224/36224 [==============================] - 13s 372us/step - loss: 0.5681 - main_output_loss: 0.5215 - aux_output_loss: 0.4663 - main_output_accuracy: 0.7301 - aux_output_accuracy: 0.7798 - val_loss: 0.4616 - val_main_output_loss: 0.4151 - val_aux_output_loss: 0.4191 - val_main_output_accuracy: 0.7503 - val_aux_output_accuracy: 0.7820\n",
      "Epoch 30/40\n",
      "36224/36224 [==============================] - 13s 371us/step - loss: 0.5697 - main_output_loss: 0.5233 - aux_output_loss: 0.4646 - main_output_accuracy: 0.7350 - aux_output_accuracy: 0.7812 - val_loss: 0.3848 - val_main_output_loss: 0.3415 - val_aux_output_loss: 0.3935 - val_main_output_accuracy: 0.8116 - val_aux_output_accuracy: 0.8002\n",
      "Epoch 31/40\n",
      "36224/36224 [==============================] - 13s 369us/step - loss: 0.5669 - main_output_loss: 0.5210 - aux_output_loss: 0.4592 - main_output_accuracy: 0.7427 - aux_output_accuracy: 0.7853 - val_loss: 0.5456 - val_main_output_loss: 0.4980 - val_aux_output_loss: 0.4317 - val_main_output_accuracy: 0.6784 - val_aux_output_accuracy: 0.7726\n",
      "Epoch 32/40\n",
      "36224/36224 [==============================] - 13s 371us/step - loss: 0.5484 - main_output_loss: 0.5027 - aux_output_loss: 0.4568 - main_output_accuracy: 0.7425 - aux_output_accuracy: 0.7869 - val_loss: 0.5358 - val_main_output_loss: 0.4694 - val_aux_output_loss: 0.6054 - val_main_output_accuracy: 0.7081 - val_aux_output_accuracy: 0.6468\n",
      "Epoch 33/40\n",
      "36224/36224 [==============================] - 13s 365us/step - loss: 0.5400 - main_output_loss: 0.4947 - aux_output_loss: 0.4531 - main_output_accuracy: 0.7471 - aux_output_accuracy: 0.7896 - val_loss: 0.5697 - val_main_output_loss: 0.5168 - val_aux_output_loss: 0.4855 - val_main_output_accuracy: 0.6490 - val_aux_output_accuracy: 0.7333\n",
      "Epoch 34/40\n",
      "36224/36224 [==============================] - 14s 375us/step - loss: 0.5410 - main_output_loss: 0.4959 - aux_output_loss: 0.4507 - main_output_accuracy: 0.7480 - aux_output_accuracy: 0.7900 - val_loss: 0.4044 - val_main_output_loss: 0.3689 - val_aux_output_loss: 0.3267 - val_main_output_accuracy: 0.7728 - val_aux_output_accuracy: 0.8464\n",
      "Epoch 35/40\n",
      "36224/36224 [==============================] - 14s 373us/step - loss: 0.5292 - main_output_loss: 0.4847 - aux_output_loss: 0.4454 - main_output_accuracy: 0.7544 - aux_output_accuracy: 0.7935 - val_loss: 0.5216 - val_main_output_loss: 0.4719 - val_aux_output_loss: 0.4452 - val_main_output_accuracy: 0.7482 - val_aux_output_accuracy: 0.7602\n",
      "Epoch 36/40\n",
      "36224/36224 [==============================] - 13s 370us/step - loss: 0.5250 - main_output_loss: 0.4810 - aux_output_loss: 0.4403 - main_output_accuracy: 0.7555 - aux_output_accuracy: 0.7967 - val_loss: 0.4103 - val_main_output_loss: 0.3669 - val_aux_output_loss: 0.3925 - val_main_output_accuracy: 0.7972 - val_aux_output_accuracy: 0.7962\n",
      "Epoch 37/40\n",
      "36224/36224 [==============================] - 14s 374us/step - loss: 0.5158 - main_output_loss: 0.4722 - aux_output_loss: 0.4357 - main_output_accuracy: 0.7615 - aux_output_accuracy: 0.7997 - val_loss: 0.5049 - val_main_output_loss: 0.4489 - val_aux_output_loss: 0.5182 - val_main_output_accuracy: 0.6861 - val_aux_output_accuracy: 0.7153\n",
      "Epoch 38/40\n",
      "36224/36224 [==============================] - 13s 369us/step - loss: 0.5178 - main_output_loss: 0.4745 - aux_output_loss: 0.4338 - main_output_accuracy: 0.7607 - aux_output_accuracy: 0.7998 - val_loss: 0.5054 - val_main_output_loss: 0.4598 - val_aux_output_loss: 0.4105 - val_main_output_accuracy: 0.7207 - val_aux_output_accuracy: 0.7856\n",
      "Epoch 39/40\n",
      "36224/36224 [==============================] - 13s 371us/step - loss: 0.5108 - main_output_loss: 0.4679 - aux_output_loss: 0.4290 - main_output_accuracy: 0.7651 - aux_output_accuracy: 0.8041 - val_loss: 0.6168 - val_main_output_loss: 0.5607 - val_aux_output_loss: 0.5052 - val_main_output_accuracy: 0.6561 - val_aux_output_accuracy: 0.7207\n",
      "Epoch 40/40\n",
      "36224/36224 [==============================] - 13s 369us/step - loss: 0.5035 - main_output_loss: 0.4613 - aux_output_loss: 0.4222 - main_output_accuracy: 0.7711 - aux_output_accuracy: 0.8097 - val_loss: 0.4523 - val_main_output_loss: 0.4036 - val_aux_output_loss: 0.4375 - val_main_output_accuracy: 0.7671 - val_aux_output_accuracy: 0.7676\n"
     ]
    }
   ],
   "source": [
    "# Define inputs\n",
    "sequence_input = Input(shape = (x_seq_train.shape[1], x_seq_train.shape[2], ), dtype = 'float32', name = 'sequence_input')\n",
    "static_input = Input(shape = (x_static_train.shape[1], ), name = 'static_input')\n",
    "# sequence_input = Masking(mask_value=-1, input_shape=(x_seq_train.shape[1], x_seq_train.shape[2], ))(sequence_input)\n",
    "# model.add(Masking(mask_value=0., input_shape=(timesteps, features)))\n",
    "# Network architecture\n",
    "seq_x = GRU(units = 128)(sequence_input)\n",
    "\n",
    "# Seperate output for the GRU later\n",
    "seq_aux_output = Dense(1, activation='sigmoid', name='aux_output')(seq_x)\n",
    "\n",
    "# Merge dual inputs\n",
    "x = concatenate([seq_x, static_input])\n",
    "\n",
    "# We stack a deep fully-connected network on the merged inputs\n",
    "x = Dense(128, activation = 'relu')(x)\n",
    "x = Dense(128, activation = 'relu')(x)\n",
    "x = Dropout(0.10)(x)\n",
    "x = Dense(128, activation = 'relu')(x)\n",
    "x = Dense(128, activation = 'relu')(x)\n",
    "# Sigmoid output layer\n",
    "main_output = Dense(1, activation='sigmoid', name='main_output')(x)\n",
    "\n",
    "# optimizer\n",
    "opt = Adam(lr = 0.0001)\n",
    "\n",
    "# build model\n",
    "model = Model(inputs = [sequence_input, static_input], outputs = [main_output, seq_aux_output])\n",
    "model.compile(optimizer = opt, loss = 'binary_crossentropy', metrics = ['accuracy'], loss_weights = [1, 0.1])\n",
    "\n",
    "# save a plot of the model\n",
    "#plot_model(model, to_file='experiment_GRU-DO.svg')\n",
    "\n",
    "# fit the model\n",
    "history = model.fit([x_seq_train, x_static_train], [y_train, y_train], epochs = 40, batch_size = 128,\\\n",
    "                    validation_data=([x_seq_val, x_static_val], [y_val, y_val]),)"
   ]
  },
  {
   "cell_type": "code",
   "execution_count": 52,
   "metadata": {
    "colab": {
     "base_uri": "https://localhost:8080/",
     "height": 562
    },
    "colab_type": "code",
    "id": "YUN753MA1Xld",
    "outputId": "42373341-9b40-4ca1-8436-d8dc58feed91"
   },
   "outputs": [
    {
     "data": {
      "text/plain": [
       "<matplotlib.legend.Legend at 0x7fe7250d0e10>"
      ]
     },
     "execution_count": 52,
     "metadata": {
      "tags": []
     },
     "output_type": "execute_result"
    },
    {
     "data": {
      "image/png": "[encoded data removed]",
      "text/plain": [
       "<Figure size 432x288 with 1 Axes>"
      ]
     },
     "metadata": {
      "needs_background": "light",
      "tags": []
     },
     "output_type": "display_data"
    },
    {
     "data": {
      "image/png": "[encoded data removed]",
      "text/plain": [
       "<Figure size 432x288 with 1 Axes>"
      ]
     },
     "metadata": {
      "needs_background": "light",
      "tags": []
     },
     "output_type": "display_data"
    }
   ],
   "source": [
    "# round 1\n",
    "# in-hospital mortality prediction\n",
    "# plot training and validation loss and accuracy\n",
    "\n",
    "acc = history.history['aux_output_accuracy']\n",
    "val_acc = history.history['val_aux_output_accuracy']\n",
    "loss = history.history['aux_output_loss']\n",
    "val_loss = history.history['val_aux_output_loss']\n",
    "\n",
    "epochs = range(len(acc))\n",
    "\n",
    "plt.plot(epochs, acc, 'bo', label='Training acc')\n",
    "plt.plot(epochs, val_acc, 'b', label='Validation acc')\n",
    "plt.title('Training and validation accuracy')\n",
    "plt.legend()\n",
    "\n",
    "plt.figure()\n",
    "plt.plot(epochs, loss, 'bo', label='Training loss')\n",
    "plt.plot(epochs, val_loss, 'b', label='Validation loss')\n",
    "plt.title('Training and validation loss')\n",
    "plt.legend()\n",
    "\n",
    "# fig_name = 'loss_svg.svg'\n",
    "# fig.savefig('loss_svg.svg', bbox_inches='tight')"
   ]
  },
  {
   "cell_type": "code",
   "execution_count": 79,
   "metadata": {
    "colab": {
     "base_uri": "https://localhost:8080/",
     "height": 562
    },
    "colab_type": "code",
    "id": "Fwhai5nacRD0",
    "outputId": "7a6119fb-d69b-4633-eafd-670a6195811d"
   },
   "outputs": [
    {
     "data": {
      "text/plain": [
       "<matplotlib.legend.Legend at 0x7fe725145470>"
      ]
     },
     "execution_count": 79,
     "metadata": {
      "tags": []
     },
     "output_type": "execute_result"
    },
    {
     "data": {
      "image/png": "[encoded data removed]",
      "text/plain": [
       "<Figure size 432x288 with 1 Axes>"
      ]
     },
     "metadata": {
      "needs_background": "light",
      "tags": []
     },
     "output_type": "display_data"
    },
    {
     "data": {
      "image/png": "[encoded data removed]",
      "text/plain": [
       "<Figure size 432x288 with 1 Axes>"
      ]
     },
     "metadata": {
      "needs_background": "light",
      "tags": []
     },
     "output_type": "display_data"
    }
   ],
   "source": [
    "# round 2\n",
    "# in-hospital mortality prediction\n",
    "# plot training and validation loss and accuracy\n",
    "\n",
    "acc = history.history['aux_output_accuracy']\n",
    "val_acc = history.history['val_aux_output_accuracy']\n",
    "loss = history.history['aux_output_loss']\n",
    "val_loss = history.history['val_aux_output_loss']\n",
    "\n",
    "epochs = range(len(acc))\n",
    "\n",
    "plt.plot(epochs, acc, 'bo', label='Training acc')\n",
    "plt.plot(epochs, val_acc, 'b', label='Validation acc')\n",
    "plt.title('Training and validation accuracy')\n",
    "plt.legend()\n",
    "\n",
    "plt.figure()\n",
    "plt.plot(epochs, loss, 'bo', label='Training loss')\n",
    "plt.plot(epochs, val_loss, 'b', label='Validation loss')\n",
    "plt.title('Training and validation loss')\n",
    "plt.legend()\n",
    "\n",
    "# fig_name = 'loss_svg.svg'\n",
    "# fig.savefig('loss_svg.svg', bbox_inches='tight')"
   ]
  },
  {
   "cell_type": "code",
   "execution_count": 54,
   "metadata": {
    "colab": {
     "base_uri": "https://localhost:8080/",
     "height": 241
    },
    "colab_type": "code",
    "id": "bZZcun7SVQnV",
    "outputId": "56fed5a3-9fd2-45a4-d67b-8d47c85207a6"
   },
   "outputs": [
    {
     "data": {
      "image/png": "[encoded data removed]",
      "text/plain": [
       "<Figure size 288x216 with 1 Axes>"
      ]
     },
     "metadata": {
      "needs_background": "light",
      "tags": []
     },
     "output_type": "display_data"
    }
   ],
   "source": [
    "# Round 1\n",
    "# AUC for the in-hospital mortality prediction\n",
    "\n",
    "\n",
    "pred_main, pred_aux = model.predict([x_seq_test, x_static_test])\n",
    "roc = roc_curve(y_test, pred_aux)\n",
    "auc = roc_auc_score(y_test, pred_aux)\n",
    "fig = plt.figure(figsize=(4, 3)) # in inches\n",
    "plt.plot(roc[0], roc[1], color = 'darkorange', label = 'ROC curve\\n(area = %0.2f)' % auc)\n",
    "plt.plot([0, 1], [0, 1], color= 'navy', linestyle = '--')\n",
    "plt.xlabel('False Positive Rate')\n",
    "plt.ylabel('True Positive Rate')\n",
    "plt.title('%s: ROC' % 'GRU In-hosipital Mortality')\n",
    "plt.legend(loc = \"lower right\")\n",
    "# fig_name = 'gru-base.pdf'\n",
    "# fig.savefig(fig_name, bbox_inches='tight')\n",
    "plt.show()"
   ]
  },
  {
   "cell_type": "code",
   "execution_count": 81,
   "metadata": {
    "colab": {
     "base_uri": "https://localhost:8080/",
     "height": 241
    },
    "colab_type": "code",
    "id": "rPxPaG-v9tPn",
    "outputId": "1c312dda-235f-4fe5-bc8e-4cf2f2d37264"
   },
   "outputs": [
    {
     "data": {
      "image/png": "[encoded data removed]",
      "text/plain": [
       "<Figure size 288x216 with 1 Axes>"
      ]
     },
     "metadata": {
      "needs_background": "light",
      "tags": []
     },
     "output_type": "display_data"
    }
   ],
   "source": [
    "# Round 2\n",
    "# AUC for the in-hospital mortality prediction\n",
    "# the difference of pred_main and pred_aux is that pred_main uses both time series data and non-ts data, but pred_aux only uses the time series data to do prediction\n",
    "\n",
    "pred_main, pred_aux = model.predict([x_seq_test, x_static_test])\n",
    "roc = roc_curve(y_test, pred_main)\n",
    "auc = roc_auc_score(y_test, pred_main)\n",
    "fig = plt.figure(figsize=(4, 3)) # in inches\n",
    "plt.plot(roc[0], roc[1], color = 'darkorange', label = 'ROC curve\\n(area = %0.2f)' % auc)\n",
    "plt.plot([0, 1], [0, 1], color= 'navy', linestyle = '--')\n",
    "plt.xlabel('False Positive Rate')\n",
    "plt.ylabel('True Positive Rate')\n",
    "plt.title('%s: ROC' % 'GRU In-hosipital Mortality')\n",
    "plt.legend(loc = \"lower right\")\n",
    "# fig_name = 'gru-base.pdf'\n",
    "# fig.savefig(fig_name, bbox_inches='tight')\n",
    "plt.show()"
   ]
  },
  {
   "cell_type": "code",
   "execution_count": 82,
   "metadata": {
    "colab": {
     "base_uri": "https://localhost:8080/",
     "height": 241
    },
    "colab_type": "code",
    "id": "Gy33xq9sJc0M",
    "outputId": "72fbaafa-2658-4917-a966-6f9d8aadf7c8"
   },
   "outputs": [
    {
     "data": {
      "image/png": "[encoded data removed]",
      "text/plain": [
       "<Figure size 288x216 with 1 Axes>"
      ]
     },
     "metadata": {
      "needs_background": "light",
      "tags": []
     },
     "output_type": "display_data"
    }
   ],
   "source": [
    "# Round 2\n",
    "# AUC for the in-hospital mortality prediction\n",
    "# the difference of pred_main and pred_aux is that pred_main uses both time series data and non-ts data, but pred_aux only uses the time series data to do prediction\n",
    "\n",
    "pred_main, pred_aux = model.predict([x_seq_test, x_static_test])\n",
    "roc = roc_curve(y_test, pred_aux)\n",
    "auc = roc_auc_score(y_test, pred_aux)\n",
    "fig = plt.figure(figsize=(4, 3)) # in inches\n",
    "plt.plot(roc[0], roc[1], color = 'darkorange', label = 'ROC curve\\n(area = %0.2f)' % auc)\n",
    "plt.plot([0, 1], [0, 1], color= 'navy', linestyle = '--')\n",
    "plt.xlabel('False Positive Rate')\n",
    "plt.ylabel('True Positive Rate')\n",
    "plt.title('%s: ROC' % 'GRU In-hosipital Mortality')\n",
    "plt.legend(loc = \"lower right\")\n",
    "# fig_name = 'gru-base.pdf'\n",
    "# fig.savefig(fig_name, bbox_inches='tight')\n",
    "plt.show()"
   ]
  }
 ],
 "metadata": {
  "accelerator": "GPU",
  "colab": {
   "name": "gru.ipynb",
   "provenance": []
  },
  "kernelspec": {
   "display_name": "Python 3",
   "language": "python",
   "name": "python3"
  },
  "language_info": {
   "codemirror_mode": {
    "name": "ipython",
    "version": 3
   },
   "file_extension": ".py",
   "mimetype": "text/x-python",
   "name": "python",
   "nbconvert_exporter": "python",
   "pygments_lexer": "ipython3",
   "version": "3.6.9"
  }
 },
 "nbformat": 4,
 "nbformat_minor": 1
}
