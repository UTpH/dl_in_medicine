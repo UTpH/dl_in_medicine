{
  "nbformat": 4,
  "nbformat_minor": 0,
  "metadata": {
    "colab": {
      "name": "FeatureB_48hrs.ipynb",
      "provenance": [],
      "collapsed_sections": []
    },
    "kernelspec": {
      "name": "python3",
      "display_name": "Python 3"
    },
    "accelerator": "GPU"
  },
  "cells": [
    {
      "cell_type": "code",
      "metadata": {
        "id": "JlIhEQOKqrx1",
        "colab_type": "code",
        "outputId": "52d984f4-6e8c-4365-a100-775ecde6863e",
        "colab": {
          "base_uri": "https://localhost:8080/",
          "height": 34
        }
      },
      "source": [
        "%tensorflow_version 2.x\n",
        "import tensorflow as tf\n",
        "device_name = tf.test.gpu_device_name()\n",
        "if device_name != '/device:GPU:0':\n",
        "    raise SystemError('GPU device not found')\n",
        "print('Found GPU at: {}'.format(device_name))"
      ],
      "execution_count": 0,
      "outputs": [
        {
          "output_type": "stream",
          "text": [
            "Found GPU at: /device:GPU:0\n"
          ],
          "name": "stdout"
        }
      ]
    },
    {
      "cell_type": "code",
      "metadata": {
        "id": "8lmSuTCOuJ1s",
        "colab_type": "code",
        "outputId": "df375e47-8213-455b-b19b-0e4ada461a9d",
        "colab": {
          "base_uri": "https://localhost:8080/",
          "height": 34
        }
      },
      "source": [
        "import numpy as np\n",
        "import matplotlib as mpl\n",
        "import matplotlib.pyplot as plt\n",
        "from IPython.display import SVG\n",
        "import os\n",
        "import pydotplus\n",
        "\n",
        "import keras\n",
        "from keras import regularizers\n",
        "from keras.optimizers import Adam, SGD, rmsprop\n",
        "from keras.models import Sequential,Model\n",
        "from keras.layers import Dense, Activation, Dropout, Input, Dropout, concatenate\n",
        "from keras.layers.recurrent import GRU, LSTM\n",
        "from keras.utils import plot_model\n",
        "# keras.utils.vis_utils.pydot = pydot\n",
        "from keras.utils.vis_utils import model_to_dot\n",
        "\n",
        "from sklearn.model_selection import train_test_split\n",
        "from sklearn.metrics import roc_auc_score, roc_curve\n",
        "\n",
        "%matplotlib inline"
      ],
      "execution_count": 1,
      "outputs": [
        {
          "output_type": "stream",
          "text": [
            "Using TensorFlow backend.\n"
          ],
          "name": "stderr"
        }
      ]
    },
    {
      "cell_type": "code",
      "metadata": {
        "id": "N7zPdsOyvN05",
        "colab_type": "code",
        "colab": {}
      },
      "source": [
        "data = np.load(\"drive/My Drive/imputed-normed-ep_1_48_raw.npz\", allow_pickle=True)"
      ],
      "execution_count": 0,
      "outputs": []
    },
    {
      "cell_type": "code",
      "metadata": {
        "id": "epHuTs8MQjZa",
        "colab_type": "code",
        "colab": {
          "base_uri": "https://localhost:8080/",
          "height": 125
        },
        "outputId": "d688ed3c-9cfe-499b-88da-59e10a1296ef"
      },
      "source": [
        "from google.colab import drive\n",
        "drive.mount('/content/drive')"
      ],
      "execution_count": 3,
      "outputs": [
        {
          "output_type": "stream",
          "text": [
            "Go to this URL in a browser: https://accounts.google.com/o/oauth2/auth?client_id=947318989803-6bn6qk8qdgf4n4g3pfee6491hc0brc4i.apps.googleusercontent.com&redirect_uri=urn%3aietf%3awg%3aoauth%3a2.0%3aoob&response_type=code&scope=email%20https%3a%2f%2fwww.googleapis.com%2fauth%2fdocs.test%20https%3a%2f%2fwww.googleapis.com%2fauth%2fdrive%20https%3a%2f%2fwww.googleapis.com%2fauth%2fdrive.photos.readonly%20https%3a%2f%2fwww.googleapis.com%2fauth%2fpeopleapi.readonly\n",
            "\n",
            "Enter your authorization code:\n",
            "··········\n",
            "Mounted at /content/drive\n"
          ],
          "name": "stdout"
        }
      ]
    },
    {
      "cell_type": "code",
      "metadata": {
        "id": "J0_o8xNT6aRq",
        "colab_type": "code",
        "outputId": "4799febc-f846-4caa-c98a-5f483002a7e3",
        "colab": {
          "base_uri": "https://localhost:8080/",
          "height": 194
        }
      },
      "source": [
        "lst = data.files\n",
        "for item in lst:\n",
        "    print(item)\n",
        "#     print(data[item])\n",
        "data[\"ep_data\"].shape"
      ],
      "execution_count": 6,
      "outputs": [
        {
          "output_type": "stream",
          "text": [
            "ep_data\n",
            "ep_tdata\n",
            "ep_data_masking\n",
            "ep_tdata_masking\n",
            "y_icd9\n",
            "y_mor\n",
            "adm_features_all\n",
            "adm_labels_all\n",
            "y_los\n"
          ],
          "name": "stdout"
        },
        {
          "output_type": "execute_result",
          "data": {
            "text/plain": [
              "(32290, 720)"
            ]
          },
          "metadata": {
            "tags": []
          },
          "execution_count": 6
        }
      ]
    },
    {
      "cell_type": "code",
      "metadata": {
        "id": "TQQgwqgP6gXn",
        "colab_type": "code",
        "outputId": "21ac1046-a0ed-4550-e164-8168fb684e7d",
        "colab": {
          "base_uri": "https://localhost:8080/",
          "height": 34
        }
      },
      "source": [
        "data[\"ep_tdata\"].shape"
      ],
      "execution_count": 7,
      "outputs": [
        {
          "output_type": "execute_result",
          "data": {
            "text/plain": [
              "(32290, 48, 15)"
            ]
          },
          "metadata": {
            "tags": []
          },
          "execution_count": 7
        }
      ]
    },
    {
      "cell_type": "code",
      "metadata": {
        "id": "_xo7TBzJ7NaW",
        "colab_type": "code",
        "outputId": "e91d6414-4a50-4dda-f300-164974ecbfa7",
        "colab": {
          "base_uri": "https://localhost:8080/",
          "height": 34
        }
      },
      "source": [
        "data['adm_features_all'].shape"
      ],
      "execution_count": 8,
      "outputs": [
        {
          "output_type": "execute_result",
          "data": {
            "text/plain": [
              "(32290, 5)"
            ]
          },
          "metadata": {
            "tags": []
          },
          "execution_count": 8
        }
      ]
    },
    {
      "cell_type": "code",
      "metadata": {
        "id": "s_LI-QlS7ZK6",
        "colab_type": "code",
        "outputId": "f19e83a6-d924-4051-fcc3-1dad8e2d2036",
        "colab": {
          "base_uri": "https://localhost:8080/",
          "height": 34
        }
      },
      "source": [
        "data[\"adm_labels_all\"].shape"
      ],
      "execution_count": 9,
      "outputs": [
        {
          "output_type": "execute_result",
          "data": {
            "text/plain": [
              "(32290, 6)"
            ]
          },
          "metadata": {
            "tags": []
          },
          "execution_count": 9
        }
      ]
    },
    {
      "cell_type": "code",
      "metadata": {
        "id": "xF7rf8d6vSer",
        "colab_type": "code",
        "colab": {}
      },
      "source": [
        "features_sequence = data['ep_tdata'].astype(np.float32) # 15 time series features\n",
        "features_static = data['adm_features_all'].astype(np.float32) # 5 non-ts features,the unit of age: day\n",
        "labels = data[\"adm_labels_all\"][:, 3].astype(np.float32) # 48hrs or In-hospital  mortality, change here"
      ],
      "execution_count": 0,
      "outputs": []
    },
    {
      "cell_type": "code",
      "metadata": {
        "id": "eQreFVLCXH5D",
        "colab_type": "code",
        "colab": {}
      },
      "source": [
        "# transpose the features_sequence\n",
        "trans = [0]*features_sequence.shape[0]"
      ],
      "execution_count": 0,
      "outputs": []
    },
    {
      "cell_type": "code",
      "metadata": {
        "id": "cZeO7l2ArIOT",
        "colab_type": "code",
        "colab": {}
      },
      "source": [
        "for i in range(features_sequence.shape[0]):\n",
        "    trans[i] = features_sequence[i].T"
      ],
      "execution_count": 0,
      "outputs": []
    },
    {
      "cell_type": "code",
      "metadata": {
        "id": "Kbw09MyjYYgm",
        "colab_type": "code",
        "colab": {}
      },
      "source": [
        "trans= np.array(trans)"
      ],
      "execution_count": 0,
      "outputs": []
    },
    {
      "cell_type": "code",
      "metadata": {
        "id": "1ktgT2X8Ya8D",
        "colab_type": "code",
        "outputId": "42ae3bd7-289e-47f0-dfd4-c5a2bdbe1f83",
        "colab": {
          "base_uri": "https://localhost:8080/",
          "height": 34
        }
      },
      "source": [
        "trans.shape"
      ],
      "execution_count": 63,
      "outputs": [
        {
          "output_type": "execute_result",
          "data": {
            "text/plain": [
              "(32290, 15, 48)"
            ]
          },
          "metadata": {
            "tags": []
          },
          "execution_count": 63
        }
      ]
    },
    {
      "cell_type": "code",
      "metadata": {
        "id": "DcKljhWAYjZO",
        "colab_type": "code",
        "colab": {}
      },
      "source": [
        "features_sequence = trans"
      ],
      "execution_count": 0,
      "outputs": []
    },
    {
      "cell_type": "code",
      "metadata": {
        "id": "nlcJhmUlwbMQ",
        "colab_type": "code",
        "colab": {}
      },
      "source": [
        "# split the whole dataset\n",
        "x_seq_full_train, x_seq_test, x_static_full_train, x_static_test, y_full_train, y_test = train_test_split(\n",
        "    features_sequence, features_static, labels, test_size = 0.20, random_state = 20)\n",
        "\n",
        "x_seq_train, x_seq_val, x_static_train, x_static_val, y_train, y_val = train_test_split(\n",
        "    x_seq_full_train, x_static_full_train, y_full_train, test_size = 0.20, random_state = 20)"
      ],
      "execution_count": 0,
      "outputs": []
    },
    {
      "cell_type": "code",
      "metadata": {
        "id": "VP7Q9ars7_iq",
        "colab_type": "code",
        "outputId": "f879f81d-3d80-4336-c159-7a8c4a6ae952",
        "colab": {
          "base_uri": "https://localhost:8080/",
          "height": 34
        }
      },
      "source": [
        "x_seq_train.shape"
      ],
      "execution_count": 66,
      "outputs": [
        {
          "output_type": "execute_result",
          "data": {
            "text/plain": [
              "(20665, 15, 48)"
            ]
          },
          "metadata": {
            "tags": []
          },
          "execution_count": 66
        }
      ]
    },
    {
      "cell_type": "code",
      "metadata": {
        "id": "ZhWwdR9WBrIa",
        "colab_type": "code",
        "outputId": "2798c9bb-b0e7-4396-ab0a-e30fd413b236",
        "colab": {
          "base_uri": "https://localhost:8080/",
          "height": 34
        }
      },
      "source": [
        "# Count the positive labels\n",
        "count = 0\n",
        "for i in range(y_train.shape[0]):\n",
        "    if y_train[i] == 1:\n",
        "        count += 1\n",
        "count"
      ],
      "execution_count": 67,
      "outputs": [
        {
          "output_type": "execute_result",
          "data": {
            "text/plain": [
              "296"
            ]
          },
          "metadata": {
            "tags": []
          },
          "execution_count": 67
        }
      ]
    },
    {
      "cell_type": "code",
      "metadata": {
        "id": "HdpU7jYt77TI",
        "colab_type": "code",
        "colab": {}
      },
      "source": [
        "# upsampling\n",
        "x_seq_up = []\n",
        "x_static_up = []\n",
        "y_up = []\n",
        "for i in range(x_seq_train.shape[0]):\n",
        "    count = 0\n",
        "    if y_train[i] == 1:\n",
        "        while count < 50: # 5 for in-hospital mortality and 50 for 72 hrs mortality\n",
        "            x_seq_up.append(x_seq_train[i])\n",
        "            x_static_up.append(x_static_train[i])\n",
        "            y_up.append(y_train[i])\n",
        "            count += 1"
      ],
      "execution_count": 0,
      "outputs": []
    },
    {
      "cell_type": "code",
      "metadata": {
        "id": "0p7ZCu0mC0l4",
        "colab_type": "code",
        "outputId": "30d1dba1-7af3-478c-fb3d-81f7a14485a1",
        "colab": {
          "base_uri": "https://localhost:8080/",
          "height": 34
        }
      },
      "source": [
        "print(len(x_seq_up), len(x_static_up), len(y_up))"
      ],
      "execution_count": 69,
      "outputs": [
        {
          "output_type": "stream",
          "text": [
            "14800 14800 14800\n"
          ],
          "name": "stdout"
        }
      ]
    },
    {
      "cell_type": "code",
      "metadata": {
        "id": "B0s4JSpTITSz",
        "colab_type": "code",
        "colab": {}
      },
      "source": [
        "a = np.concatenate((x_seq_train, x_seq_up))\n",
        "b = np.concatenate((x_static_train, x_static_up))\n",
        "c = np.concatenate((y_train, y_up))"
      ],
      "execution_count": 0,
      "outputs": []
    },
    {
      "cell_type": "code",
      "metadata": {
        "id": "OHMZRIzmHsDr",
        "colab_type": "code",
        "colab": {}
      },
      "source": [
        "index = list(range(len(c)))\n",
        "np.random.shuffle(index)"
      ],
      "execution_count": 0,
      "outputs": []
    },
    {
      "cell_type": "code",
      "metadata": {
        "id": "jTZOj1aEIbSn",
        "colab_type": "code",
        "colab": {}
      },
      "source": [
        "\n",
        "x_seq_train = []\n",
        "x_static_train = []\n",
        "y_train = []\n",
        "\n",
        "for i in index:\n",
        "    x_seq_train.append(a[i])\n",
        "    x_static_train.append(b[i])\n",
        "    y_train.append(c[i])"
      ],
      "execution_count": 0,
      "outputs": []
    },
    {
      "cell_type": "code",
      "metadata": {
        "id": "d7m0_OIAI3Lt",
        "colab_type": "code",
        "outputId": "b71d7a28-3d2a-4ca6-9055-40f863e3970d",
        "colab": {
          "base_uri": "https://localhost:8080/",
          "height": 34
        }
      },
      "source": [
        "print(len(x_seq_train), len(x_static_train), len(y_train))"
      ],
      "execution_count": 73,
      "outputs": [
        {
          "output_type": "stream",
          "text": [
            "35465 35465 35465\n"
          ],
          "name": "stdout"
        }
      ]
    },
    {
      "cell_type": "code",
      "metadata": {
        "id": "1kD-YC7xFTVm",
        "colab_type": "code",
        "colab": {}
      },
      "source": [
        "x_seq_train  = np.array(x_seq_train)\n",
        "x_static_train = np.array(x_static_train)\n",
        "y_train = np.array(y_train)"
      ],
      "execution_count": 0,
      "outputs": []
    },
    {
      "cell_type": "code",
      "metadata": {
        "id": "X6V2blvUitpL",
        "colab_type": "code",
        "outputId": "0b804c51-72ad-4384-8ce2-b20d93bdfd55",
        "colab": {
          "base_uri": "https://localhost:8080/",
          "height": 34
        }
      },
      "source": [
        "print(x_seq_train.shape, x_static_train.shape, y_train.shape)"
      ],
      "execution_count": 75,
      "outputs": [
        {
          "output_type": "stream",
          "text": [
            "(35465, 15, 48) (35465, 5) (35465,)\n"
          ],
          "name": "stdout"
        }
      ]
    },
    {
      "cell_type": "code",
      "metadata": {
        "id": "WwzBWfKZwddK",
        "colab_type": "code",
        "colab": {}
      },
      "source": [
        "# impute the missing values in the dataset with the mean\n",
        "\n",
        "def impute_mean(source_data, input_data):\n",
        "    '''\n",
        "    Takes the source data, and uses it to determine means for all\n",
        "    features; it then applies them to the input data.\n",
        "    \n",
        "    inputs:\n",
        "    source_data: a tensor to provide means\n",
        "    input_data: the data to fill in NA for\n",
        "    \n",
        "    output:\n",
        "    output_data: data with nans imputed for each feature\n",
        "    \n",
        "    '''\n",
        "    \n",
        "    output_data = input_data.copy()\n",
        "    \n",
        "    for feature in range(source_data.shape[1]):\n",
        "        feature_mean = np.nanmean(source_data[:, feature, :][np.where(source_data[:, feature, :] != 0)])\n",
        "        ind_output_data = np.where(np.isnan(output_data[:, feature, :]))\n",
        "        output_data[:, feature, :][ind_output_data] =  feature_mean\n",
        "    return output_data"
      ],
      "execution_count": 0,
      "outputs": []
    },
    {
      "cell_type": "code",
      "metadata": {
        "id": "6vuZUtsRwf3g",
        "colab_type": "code",
        "colab": {}
      },
      "source": [
        "x_seq_train_original = x_seq_train.copy()\n",
        "x_seq_train = impute_mean(x_seq_train_original, x_seq_train)\n",
        "x_seq_val = impute_mean(x_seq_train_original, x_seq_val)\n",
        "x_seq_test = impute_mean(x_seq_train_original, x_seq_test)"
      ],
      "execution_count": 0,
      "outputs": []
    },
    {
      "cell_type": "code",
      "metadata": {
        "id": "JxR1GussQ4vi",
        "colab_type": "code",
        "colab": {
          "base_uri": "https://localhost:8080/",
          "height": 338
        },
        "outputId": "a18a195b-b4f9-4d75-c2e0-98f135d1de74"
      },
      "source": [
        "# Define inputs\n",
        "sequence_input = Input(shape = (x_seq_train.shape[1], x_seq_train.shape[2], ), dtype = 'float32', name = 'sequence_input')\n",
        "static_input = Input(shape = (x_static_train.shape[1], ), name = 'static_input')\n",
        "\n",
        "# Network architecture\n",
        "seq_x = GRU(units = 128)(sequence_input)\n",
        "seq_x = Dense(64, input_dim=128, kernel_regularizer=regularizers.l2(0.01))(seq_x) #Regularizer\n",
        "\n",
        "# Seperate output for the GRU later\n",
        "seq_aux_output = Dense(1, activation='sigmoid', name='aux_output')(seq_x)\n",
        "\n",
        "# Merge dual inputs\n",
        "x = concatenate([seq_x, static_input])\n",
        "\n",
        "# We stack a deep fully-connected network on the merged inputs\n",
        "x = Dense(128, activation = 'relu')(x)\n",
        "x = Dense(128, activation = 'relu')(x)\n",
        "x = Dropout(0.10)(x)\n",
        "x = Dense(128, activation = 'relu')(x)\n",
        "x = Dense(128, activation = 'relu')(x)\n",
        "# Sigmoid output layer\n",
        "main_output = Dense(1, activation='sigmoid', name='main_output')(x)\n",
        "\n",
        "# optimizer\n",
        "opt = Adam(lr = 0.0001)\n",
        "\n",
        "# build model\n",
        "model = Model(inputs = [sequence_input, static_input], outputs = [main_output, seq_aux_output])\n",
        "model.compile(optimizer = opt, loss = 'binary_crossentropy', metrics = ['accuracy'], loss_weights = [1, 0.1])\n",
        "\n",
        "# save a plot of the model\n",
        "#plot_model(model, to_file='experiment_GRU-DO.svg')\n",
        "\n",
        "# fit the model\n",
        "history = model.fit([x_seq_train, x_static_train], [y_train, y_train], epochs = 8, batch_size = 128,\\\n",
        "                    validation_data=([x_seq_val, x_static_val], [y_val, y_val]),)"
      ],
      "execution_count": 85,
      "outputs": [
        {
          "output_type": "stream",
          "text": [
            "Train on 35465 samples, validate on 5167 samples\n",
            "Epoch 1/8\n",
            "35465/35465 [==============================] - 11s 313us/step - loss: 37.3372 - main_output_loss: 36.4474 - aux_output_loss: 0.6607 - main_output_accuracy: 0.5013 - aux_output_accuracy: 0.6109 - val_loss: 0.8150 - val_main_output_loss: 0.1731 - val_aux_output_loss: 0.4762 - val_main_output_accuracy: 0.9845 - val_aux_output_accuracy: 0.9491\n",
            "Epoch 2/8\n",
            "35465/35465 [==============================] - 11s 303us/step - loss: 13.3076 - main_output_loss: 12.7649 - aux_output_loss: 0.5980 - main_output_accuracy: 0.5080 - aux_output_accuracy: 0.7034 - val_loss: 10.8090 - val_main_output_loss: 10.3237 - val_aux_output_loss: 0.4802 - val_main_output_accuracy: 0.0155 - val_aux_output_accuracy: 0.8003\n",
            "Epoch 3/8\n",
            "35465/35465 [==============================] - 11s 299us/step - loss: 7.9827 - main_output_loss: 7.5477 - aux_output_loss: 0.5507 - main_output_accuracy: 0.5200 - aux_output_accuracy: 0.7397 - val_loss: 1.0468 - val_main_output_loss: 0.6947 - val_aux_output_loss: 0.4623 - val_main_output_accuracy: 0.7581 - val_aux_output_accuracy: 0.7991\n",
            "Epoch 4/8\n",
            "35465/35465 [==============================] - 11s 300us/step - loss: 4.7474 - main_output_loss: 4.4027 - aux_output_loss: 0.5338 - main_output_accuracy: 0.5939 - aux_output_accuracy: 0.7554 - val_loss: 0.5714 - val_main_output_loss: 0.2708 - val_aux_output_loss: 0.4146 - val_main_output_accuracy: 0.8974 - val_aux_output_accuracy: 0.8109\n",
            "Epoch 5/8\n",
            "35465/35465 [==============================] - 11s 298us/step - loss: 3.1871 - main_output_loss: 2.8942 - aux_output_loss: 0.4922 - main_output_accuracy: 0.6674 - aux_output_accuracy: 0.7833 - val_loss: 1.9291 - val_main_output_loss: 1.6619 - val_aux_output_loss: 0.4466 - val_main_output_accuracy: 0.7310 - val_aux_output_accuracy: 0.8299\n",
            "Epoch 6/8\n",
            "35465/35465 [==============================] - 11s 297us/step - loss: 2.4526 - main_output_loss: 2.2138 - aux_output_loss: 0.4655 - main_output_accuracy: 0.6987 - aux_output_accuracy: 0.7993 - val_loss: 0.6775 - val_main_output_loss: 0.4655 - val_aux_output_loss: 0.4897 - val_main_output_accuracy: 0.8374 - val_aux_output_accuracy: 0.7842\n",
            "Epoch 7/8\n",
            "35465/35465 [==============================] - 11s 296us/step - loss: 1.7500 - main_output_loss: 1.5638 - aux_output_loss: 0.4384 - main_output_accuracy: 0.7254 - aux_output_accuracy: 0.8171 - val_loss: 0.2815 - val_main_output_loss: 0.1256 - val_aux_output_loss: 0.3470 - val_main_output_accuracy: 0.9772 - val_aux_output_accuracy: 0.8723\n",
            "Epoch 8/8\n",
            "35465/35465 [==============================] - 11s 300us/step - loss: 1.4199 - main_output_loss: 1.2634 - aux_output_loss: 0.4183 - main_output_accuracy: 0.7489 - aux_output_accuracy: 0.8297 - val_loss: 0.2993 - val_main_output_loss: 0.1714 - val_aux_output_loss: 0.3521 - val_main_output_accuracy: 0.9464 - val_aux_output_accuracy: 0.8659\n"
          ],
          "name": "stdout"
        }
      ]
    },
    {
      "cell_type": "code",
      "metadata": {
        "id": "h2F464i7wh4L",
        "colab_type": "code",
        "outputId": "f89ddae5-c5d4-4d7f-ffb1-86c07dab039d",
        "colab": {
          "base_uri": "https://localhost:8080/",
          "height": 734
        }
      },
      "source": [
        "# Define inputs\n",
        "sequence_input = Input(shape = (x_seq_train.shape[1], x_seq_train.shape[2], ), dtype = 'float32', name = 'sequence_input')\n",
        "static_input = Input(shape = (x_static_train.shape[1], ), name = 'static_input')\n",
        "\n",
        "# Network architecture\n",
        "seq_x = GRU(units = 128)(sequence_input)\n",
        "seq_x = Dense(64, input_dim=128, kernel_regularizer=regularizers.l2(0.01))(seq_x) #Regularizer\n",
        "\n",
        "# Seperate output for the GRU later\n",
        "seq_aux_output = Dense(1, activation='sigmoid', name='aux_output')(seq_x)\n",
        "\n",
        "# Merge dual inputs\n",
        "x = concatenate([seq_x, static_input])\n",
        "\n",
        "# We stack a deep fully-connected network on the merged inputs\n",
        "x = Dense(128, activation = 'relu')(x)\n",
        "x = Dense(128, activation = 'relu')(x)\n",
        "x = Dropout(0.10)(x)\n",
        "x = Dense(128, activation = 'relu')(x)\n",
        "x = Dense(128, activation = 'relu')(x)\n",
        "# Sigmoid output layer\n",
        "main_output = Dense(1, activation='sigmoid', name='main_output')(x)\n",
        "\n",
        "# optimizer\n",
        "opt = Adam(lr = 0.0001)\n",
        "\n",
        "# build model\n",
        "model = Model(inputs = [sequence_input, static_input], outputs = [main_output, seq_aux_output])\n",
        "model.compile(optimizer = opt, loss = 'binary_crossentropy', metrics = ['accuracy'], loss_weights = [1, 0.1])\n",
        "\n",
        "# save a plot of the model\n",
        "#plot_model(model, to_file='experiment_GRU-DO.svg')\n",
        "\n",
        "# fit the model\n",
        "history = model.fit([x_seq_train, x_static_train], [y_train, y_train], epochs = 20, batch_size = 128,\\\n",
        "                    validation_data=([x_seq_val, x_static_val], [y_val, y_val]),)"
      ],
      "execution_count": 0,
      "outputs": [
        {
          "output_type": "stream",
          "text": [
            "Train on 175315 samples, validate on 5167 samples\n",
            "Epoch 1/20\n",
            "175315/175315 [==============================] - 79s 450us/step - loss: 14.9077 - main_output_loss: 14.5149 - aux_output_loss: 0.3180 - main_output_accuracy: 0.8368 - aux_output_accuracy: 0.8998 - val_loss: 0.7415 - val_main_output_loss: 0.4692 - val_aux_output_loss: 1.8920 - val_main_output_accuracy: 0.8485 - val_aux_output_accuracy: 0.1515\n",
            "Epoch 2/20\n",
            "175315/175315 [==============================] - 77s 439us/step - loss: 2.5744 - main_output_loss: 2.5168 - aux_output_loss: 0.3030 - main_output_accuracy: 0.8381 - aux_output_accuracy: 0.8998 - val_loss: 3.3406 - val_main_output_loss: 3.1628 - val_aux_output_loss: 1.7208 - val_main_output_accuracy: 0.1515 - val_aux_output_accuracy: 0.1515\n",
            "Epoch 3/20\n",
            "175315/175315 [==============================] - 79s 449us/step - loss: 1.1330 - main_output_loss: 1.1025 - aux_output_loss: 0.2873 - main_output_accuracy: 0.8502 - aux_output_accuracy: 0.9005 - val_loss: 2.1553 - val_main_output_loss: 1.9766 - val_aux_output_loss: 1.7684 - val_main_output_accuracy: 0.1529 - val_aux_output_accuracy: 0.1771\n",
            "Epoch 4/20\n",
            "175315/175315 [==============================] - 80s 456us/step - loss: 0.5623 - main_output_loss: 0.5335 - aux_output_loss: 0.2790 - main_output_accuracy: 0.8778 - aux_output_accuracy: 0.9041 - val_loss: 2.1579 - val_main_output_loss: 1.9857 - val_aux_output_loss: 1.7043 - val_main_output_accuracy: 0.1515 - val_aux_output_accuracy: 0.2084\n",
            "Epoch 5/20\n",
            "175315/175315 [==============================] - 78s 448us/step - loss: 0.4095 - main_output_loss: 0.3815 - aux_output_loss: 0.2709 - main_output_accuracy: 0.8940 - aux_output_accuracy: 0.9069 - val_loss: 2.0308 - val_main_output_loss: 1.8625 - val_aux_output_loss: 1.6664 - val_main_output_accuracy: 0.1515 - val_aux_output_accuracy: 0.2330\n",
            "Epoch 6/20\n",
            "175315/175315 [==============================] - 77s 441us/step - loss: 0.3804 - main_output_loss: 0.3531 - aux_output_loss: 0.2636 - main_output_accuracy: 0.8965 - aux_output_accuracy: 0.9095 - val_loss: 1.8999 - val_main_output_loss: 1.7211 - val_aux_output_loss: 1.7761 - val_main_output_accuracy: 0.1515 - val_aux_output_accuracy: 0.2648\n",
            "Epoch 7/20\n",
            "175315/175315 [==============================] - 77s 441us/step - loss: 0.3587 - main_output_loss: 0.3301 - aux_output_loss: 0.2599 - main_output_accuracy: 0.8997 - aux_output_accuracy: 0.9111 - val_loss: 1.8403 - val_main_output_loss: 1.6535 - val_aux_output_loss: 1.7655 - val_main_output_accuracy: 0.1515 - val_aux_output_accuracy: 0.2181\n",
            "Epoch 8/20\n",
            "175315/175315 [==============================] - 77s 439us/step - loss: 0.3251 - main_output_loss: 0.2919 - aux_output_loss: 0.2596 - main_output_accuracy: 0.8998 - aux_output_accuracy: 0.9088 - val_loss: 1.7795 - val_main_output_loss: 1.6358 - val_aux_output_loss: 1.3896 - val_main_output_accuracy: 0.1515 - val_aux_output_accuracy: 0.3799\n",
            "Epoch 9/20\n",
            "175315/175315 [==============================] - 77s 438us/step - loss: 0.3143 - main_output_loss: 0.2840 - aux_output_loss: 0.2514 - main_output_accuracy: 0.8998 - aux_output_accuracy: 0.9108 - val_loss: 2.0552 - val_main_output_loss: 1.9109 - val_aux_output_loss: 1.3926 - val_main_output_accuracy: 0.1515 - val_aux_output_accuracy: 0.3770\n",
            "Epoch 10/20\n",
            "175315/175315 [==============================] - 78s 446us/step - loss: 0.3076 - main_output_loss: 0.2786 - aux_output_loss: 0.2449 - main_output_accuracy: 0.8998 - aux_output_accuracy: 0.9122 - val_loss: 1.7744 - val_main_output_loss: 1.6131 - val_aux_output_loss: 1.5742 - val_main_output_accuracy: 0.1515 - val_aux_output_accuracy: 0.3391\n",
            "Epoch 11/20\n",
            "175315/175315 [==============================] - 78s 445us/step - loss: 0.3050 - main_output_loss: 0.2766 - aux_output_loss: 0.2400 - main_output_accuracy: 0.8998 - aux_output_accuracy: 0.9142 - val_loss: 1.4696 - val_main_output_loss: 1.3566 - val_aux_output_loss: 1.0929 - val_main_output_accuracy: 0.1515 - val_aux_output_accuracy: 0.5413\n",
            "Epoch 12/20\n",
            "175315/175315 [==============================] - 80s 454us/step - loss: 0.3024 - main_output_loss: 0.2745 - aux_output_loss: 0.2362 - main_output_accuracy: 0.8998 - aux_output_accuracy: 0.9151 - val_loss: 1.4222 - val_main_output_loss: 1.3113 - val_aux_output_loss: 1.0796 - val_main_output_accuracy: 0.1515 - val_aux_output_accuracy: 0.5297\n",
            "Epoch 13/20\n",
            "175315/175315 [==============================] - 77s 441us/step - loss: 0.2977 - main_output_loss: 0.2706 - aux_output_loss: 0.2320 - main_output_accuracy: 0.8998 - aux_output_accuracy: 0.9162 - val_loss: 1.5656 - val_main_output_loss: 1.4200 - val_aux_output_loss: 1.4222 - val_main_output_accuracy: 0.1515 - val_aux_output_accuracy: 0.3669\n",
            "Epoch 14/20\n",
            "175315/175315 [==============================] - 77s 438us/step - loss: 0.2956 - main_output_loss: 0.2690 - aux_output_loss: 0.2280 - main_output_accuracy: 0.8998 - aux_output_accuracy: 0.9177 - val_loss: 1.8772 - val_main_output_loss: 1.7242 - val_aux_output_loss: 1.4934 - val_main_output_accuracy: 0.1515 - val_aux_output_accuracy: 0.3935\n",
            "Epoch 15/20\n",
            "175315/175315 [==============================] - 76s 434us/step - loss: 0.2907 - main_output_loss: 0.2647 - aux_output_loss: 0.2263 - main_output_accuracy: 0.8998 - aux_output_accuracy: 0.9173 - val_loss: 2.1748 - val_main_output_loss: 2.0377 - val_aux_output_loss: 1.3420 - val_main_output_accuracy: 0.1515 - val_aux_output_accuracy: 0.4475\n",
            "Epoch 16/20\n",
            "175315/175315 [==============================] - 76s 432us/step - loss: 0.2883 - main_output_loss: 0.2629 - aux_output_loss: 0.2226 - main_output_accuracy: 0.8998 - aux_output_accuracy: 0.9184 - val_loss: 1.5347 - val_main_output_loss: 1.4144 - val_aux_output_loss: 1.1805 - val_main_output_accuracy: 0.1515 - val_aux_output_accuracy: 0.5135\n",
            "Epoch 17/20\n",
            "175315/175315 [==============================] - 76s 433us/step - loss: 0.2861 - main_output_loss: 0.2610 - aux_output_loss: 0.2205 - main_output_accuracy: 0.8998 - aux_output_accuracy: 0.9201 - val_loss: 1.9184 - val_main_output_loss: 1.7971 - val_aux_output_loss: 1.1834 - val_main_output_accuracy: 0.1515 - val_aux_output_accuracy: 0.5214\n",
            "Epoch 18/20\n",
            "175315/175315 [==============================] - 77s 439us/step - loss: 0.2846 - main_output_loss: 0.2598 - aux_output_loss: 0.2175 - main_output_accuracy: 0.8998 - aux_output_accuracy: 0.9199 - val_loss: 1.4890 - val_main_output_loss: 1.3715 - val_aux_output_loss: 1.1523 - val_main_output_accuracy: 0.1515 - val_aux_output_accuracy: 0.4993\n",
            "Epoch 19/20\n",
            "175315/175315 [==============================] - 77s 442us/step - loss: 0.2878 - main_output_loss: 0.2633 - aux_output_loss: 0.2172 - main_output_accuracy: 0.8992 - aux_output_accuracy: 0.9202 - val_loss: 1.6387 - val_main_output_loss: 1.5119 - val_aux_output_loss: 1.2437 - val_main_output_accuracy: 0.1515 - val_aux_output_accuracy: 0.4951\n",
            "Epoch 20/20\n",
            "175315/175315 [==============================] - 80s 456us/step - loss: 0.2789 - main_output_loss: 0.2550 - aux_output_loss: 0.2120 - main_output_accuracy: 0.8998 - aux_output_accuracy: 0.9226 - val_loss: 1.6237 - val_main_output_loss: 1.5181 - val_aux_output_loss: 1.0258 - val_main_output_accuracy: 0.1515 - val_aux_output_accuracy: 0.5849\n"
          ],
          "name": "stdout"
        }
      ]
    },
    {
      "cell_type": "code",
      "metadata": {
        "id": "gKXh3pgaIL4i",
        "colab_type": "code",
        "outputId": "39ddd4f3-6e29-451f-ceb4-2028ed1e673a",
        "colab": {
          "base_uri": "https://localhost:8080/",
          "height": 241
        }
      },
      "source": [
        "# Round 1\n",
        "# AUC for 72-hr mortality prediction\n",
        "\n",
        "pred_main, pred_aux = model.predict([x_seq_test, x_static_test])\n",
        "roc = roc_curve(y_test, pred_aux)\n",
        "auc = roc_auc_score(y_test, pred_aux)\n",
        "fig = plt.figure(figsize=(4, 3)) # in inches\n",
        "plt.plot(roc[0], roc[1], color = 'darkorange', label = 'ROC curve\\n(area = %0.2f)' % auc)\n",
        "plt.plot([0, 1], [0, 1], color= 'navy', linestyle = '--')\n",
        "plt.xlabel('False Positive Rate')\n",
        "plt.ylabel('True Positive Rate')\n",
        "plt.title('%s: ROC' % 'GRU: 72 hr Mortality')\n",
        "plt.legend(loc = \"lower right\")\n",
        "# fig_name = 'gru-base.pdf'\n",
        "# fig.savefig(fig_name, bbox_inches='tight')\n",
        "plt.show()"
      ],
      "execution_count": 0,
      "outputs": [
        {
          "output_type": "display_data",
          "data": {
            "image/png": "[encoded data removed]",
            "text/plain": [
              "<Figure size 288x216 with 1 Axes>"
            ]
          },
          "metadata": {
            "tags": [],
            "needs_background": "light"
          }
        }
      ]
    },
    {
      "cell_type": "code",
      "metadata": {
        "id": "6vEe7yvpZKIO",
        "colab_type": "code",
        "colab": {
          "base_uri": "https://localhost:8080/",
          "height": 241
        },
        "outputId": "f61d90f1-61be-4d92-b429-73df41f6044c"
      },
      "source": [
        "# Round 2\n",
        "# AUC for 72-hr mortality prediction\n",
        "\n",
        "pred_main, pred_aux = model.predict([x_seq_test, x_static_test])\n",
        "roc = roc_curve(y_test, pred_aux)\n",
        "auc = roc_auc_score(y_test, pred_aux)\n",
        "fig = plt.figure(figsize=(4, 3)) # in inches\n",
        "plt.plot(roc[0], roc[1], color = 'darkorange', label = 'ROC curve\\n(area = %0.2f)' % auc)\n",
        "plt.plot([0, 1], [0, 1], color= 'navy', linestyle = '--')\n",
        "plt.xlabel('False Positive Rate')\n",
        "plt.ylabel('True Positive Rate')\n",
        "plt.title('%s: ROC' % 'GRU: 72 hr Mortality')\n",
        "plt.legend(loc = \"lower right\")\n",
        "# fig_name = 'gru-base.pdf'\n",
        "# fig.savefig(fig_name, bbox_inches='tight')\n",
        "plt.show()"
      ],
      "execution_count": 86,
      "outputs": [
        {
          "output_type": "display_data",
          "data": {
            "image/png": "[encoded data removed]",
            "text/plain": [
              "<Figure size 288x216 with 1 Axes>"
            ]
          },
          "metadata": {
            "tags": [],
            "needs_background": "light"
          }
        }
      ]
    },
    {
      "cell_type": "code",
      "metadata": {
        "id": "7P1SUFzcZR_g",
        "colab_type": "code",
        "colab": {
          "base_uri": "https://localhost:8080/",
          "height": 34
        },
        "outputId": "66216bcb-fc0a-4127-dfee-2253ebd78dc9"
      },
      "source": [
        "#auprc\n",
        "from sklearn.metrics import average_precision_score\n",
        "average_precision1 = average_precision_score(y_test, pred_aux)\n",
        "average_precision2 = average_precision_score(y_test, pred_main)\n",
        "average_precision1, average_precision2"
      ],
      "execution_count": 88,
      "outputs": [
        {
          "output_type": "execute_result",
          "data": {
            "text/plain": [
              "(0.057783539088631444, 0.04985301565542467)"
            ]
          },
          "metadata": {
            "tags": []
          },
          "execution_count": 88
        }
      ]
    },
    {
      "cell_type": "code",
      "metadata": {
        "id": "zYz9QVRZYHRn",
        "colab_type": "code",
        "colab": {
          "base_uri": "https://localhost:8080/",
          "height": 34
        },
        "outputId": "3ab09977-e027-4e63-87e4-d26fe1bdfa6e"
      },
      "source": [
        "#auprc\n",
        "from sklearn.metrics import average_precision_score\n",
        "average_precision1 = average_precision_score(y_test, pred_aux)\n",
        "average_precision2 = average_precision_score(y_test, pred_main)\n",
        "average_precision1, average_precision2"
      ],
      "execution_count": 84,
      "outputs": [
        {
          "output_type": "execute_result",
          "data": {
            "text/plain": [
              "(0.04541351278166164, 0.05301104302221957)"
            ]
          },
          "metadata": {
            "tags": []
          },
          "execution_count": 84
        }
      ]
    },
    {
      "cell_type": "code",
      "metadata": {
        "id": "QI7zSjufsEO7",
        "colab_type": "code",
        "outputId": "6fa40c43-2e01-41a7-ead3-ba51b93ff905",
        "colab": {
          "base_uri": "https://localhost:8080/",
          "height": 241
        }
      },
      "source": [
        "# AUC for in-hospital mortality prediction\n",
        "# the difference of pred_main and pred_aux is that pred_main uses both time series data and non-ts data, but pred_aux only uses the time series data to do prediction\n",
        "\n",
        "pred_main, pred_aux = model.predict([x_seq_test, x_static_test])\n",
        "roc = roc_curve(y_test, pred_aux)\n",
        "auc = roc_auc_score(y_test, pred_aux)\n",
        "fig = plt.figure(figsize=(4, 3)) # in inches\n",
        "plt.plot(roc[0], roc[1], color = 'darkorange', label = 'ROC curve\\n(area = %0.2f)' % auc)\n",
        "plt.plot([0, 1], [0, 1], color= 'navy', linestyle = '--')\n",
        "plt.xlabel('False Positive Rate')\n",
        "plt.ylabel('True Positive Rate')\n",
        "plt.title('%s: ROC' % 'GRU In-hosipital Mortality')\n",
        "plt.legend(loc = \"lower right\")\n",
        "# fig_name = 'gru-base.pdf'\n",
        "# fig.savefig(fig_name, bbox_inches='tight')\n",
        "plt.show()"
      ],
      "execution_count": 0,
      "outputs": [
        {
          "output_type": "display_data",
          "data": {
            "image/png": "[encoded data removed]",
            "text/plain": [
              "<Figure size 288x216 with 1 Axes>"
            ]
          },
          "metadata": {
            "tags": [],
            "needs_background": "light"
          }
        }
      ]
    },
    {
      "cell_type": "code",
      "metadata": {
        "id": "tmyPC17HfIUl",
        "colab_type": "code",
        "outputId": "a71d7094-9242-4f44-e759-8642e3181c51",
        "colab": {
          "base_uri": "https://localhost:8080/",
          "height": 241
        }
      },
      "source": [
        "# AUC for in-hospital mortality prediction\n",
        "# the difference of pred_main and pred_aux is that pred_main uses both time series data and non-ts data, but pred_aux only uses the time series data to do prediction\n",
        "\n",
        "pred_main, pred_aux = model.predict([x_seq_test, x_static_test])\n",
        "roc = roc_curve(y_test, pred_main)\n",
        "auc = roc_auc_score(y_test, pred_main)\n",
        "fig = plt.figure(figsize=(4, 3)) # in inches\n",
        "plt.plot(roc[0], roc[1], color = 'darkorange', label = 'ROC curve\\n(area = %0.2f)' % auc)\n",
        "plt.plot([0, 1], [0, 1], color= 'navy', linestyle = '--')\n",
        "plt.xlabel('False Positive Rate')\n",
        "plt.ylabel('True Positive Rate')\n",
        "plt.title('%s: ROC' % 'GRU In-hosipital Mortality')\n",
        "plt.legend(loc = \"lower right\")\n",
        "# fig_name = 'gru-base.pdf'\n",
        "# fig.savefig(fig_name, bbox_inches='tight')\n",
        "plt.show()"
      ],
      "execution_count": 0,
      "outputs": [
        {
          "output_type": "display_data",
          "data": {
            "image/png": "[encoded data removed]",
            "text/plain": [
              "<Figure size 288x216 with 1 Axes>"
            ]
          },
          "metadata": {
            "tags": [],
            "needs_background": "light"
          }
        }
      ]
    },
    {
      "cell_type": "code",
      "metadata": {
        "id": "31PC2I_xVeAZ",
        "colab_type": "code",
        "colab": {
          "base_uri": "https://localhost:8080/",
          "height": 34
        },
        "outputId": "286708f0-380d-47f2-d3a7-9e8f738c6d37"
      },
      "source": [
        "#auprc\n",
        "from sklearn.metrics import average_precision_score\n",
        "average_precision1 = average_precision_score(y_test, pred_aux)\n",
        "average_precision2 = average_precision_score(y_test, pred_main)\n",
        "average_precision1, average_precision2"
      ],
      "execution_count": 58,
      "outputs": [
        {
          "output_type": "execute_result",
          "data": {
            "text/plain": [
              "(0.27052517489906147, 0.3006073131625542)"
            ]
          },
          "metadata": {
            "tags": []
          },
          "execution_count": 58
        }
      ]
    },
    {
      "cell_type": "code",
      "metadata": {
        "id": "Ifzs6h8sxTIP",
        "colab_type": "code",
        "outputId": "996451ed-4f4f-4657-c794-d7c2cca160d5",
        "colab": {
          "base_uri": "https://localhost:8080/",
          "height": 545
        }
      },
      "source": [
        "# 72 hrs mortality prediction\n",
        "# plot training and validation loss and accuracy\n",
        "\n",
        "acc = history.history['aux_output_accuracy']\n",
        "val_acc = history.history['val_aux_output_accuracy']\n",
        "loss = history.history['aux_output_loss']\n",
        "val_loss = history.history['val_aux_output_loss']\n",
        "\n",
        "epochs = range(len(acc))\n",
        "\n",
        "plt.plot(epochs, acc, 'bo', label='Training acc')\n",
        "plt.plot(epochs, val_acc, 'b', label='Validation acc')\n",
        "plt.title('Training and validation accuracy')\n",
        "plt.legend()\n",
        "\n",
        "plt.figure()\n",
        "plt.plot(epochs, loss, 'bo', label='Training loss')\n",
        "plt.plot(epochs, val_loss, 'b', label='Validation loss')\n",
        "plt.title('Training and validation loss')\n",
        "plt.legend()\n",
        "\n",
        "fig_name = 'loss_svg.svg'\n",
        "fig.savefig('loss_svg.svg', bbox_inches='tight')"
      ],
      "execution_count": 0,
      "outputs": [
        {
          "output_type": "display_data",
          "data": {
            "image/png": "[encoded data removed]",
            "text/plain": [
              "<Figure size 432x288 with 1 Axes>"
            ]
          },
          "metadata": {
            "tags": [],
            "needs_background": "light"
          }
        },
        {
          "output_type": "display_data",
          "data": {
            "image/png": "[encoded data removed]",
            "text/plain": [
              "<Figure size 432x288 with 1 Axes>"
            ]
          },
          "metadata": {
            "tags": [],
            "needs_background": "light"
          }
        }
      ]
    },
    {
      "cell_type": "code",
      "metadata": {
        "id": "39X8ACEW7HZw",
        "colab_type": "code",
        "outputId": "0c8ced6e-ce3a-41fd-cd9a-412307b7764c",
        "colab": {
          "base_uri": "https://localhost:8080/",
          "height": 545
        }
      },
      "source": [
        "# In-hospital mortality prediction\n",
        "# plot training and validation loss and accuracy\n",
        "\n",
        "\n",
        "acc = history.history['aux_output_accuracy']\n",
        "val_acc = history.history['val_aux_output_accuracy']\n",
        "loss = history.history['aux_output_loss']\n",
        "val_loss = history.history['val_aux_output_loss']\n",
        "\n",
        "epochs = range(len(acc))\n",
        "\n",
        "plt.plot(epochs, acc, 'bo', label='Training acc')\n",
        "plt.plot(epochs, val_acc, 'b', label='Validation acc')\n",
        "plt.title('Training and validation accuracy')\n",
        "plt.legend()\n",
        "\n",
        "plt.figure()\n",
        "plt.plot(epochs, loss, 'bo', label='Training loss')\n",
        "plt.plot(epochs, val_loss, 'b', label='Validation loss')\n",
        "plt.title('Training and validation loss')\n",
        "plt.legend()\n",
        "\n",
        "fig_name = 'loss_svg.svg'\n",
        "fig.savefig('loss_svg.svg', bbox_inches='tight')"
      ],
      "execution_count": 0,
      "outputs": [
        {
          "output_type": "display_data",
          "data": {
            "image/png": "[encoded data removed]",
            "text/plain": [
              "<Figure size 432x288 with 1 Axes>"
            ]
          },
          "metadata": {
            "tags": [],
            "needs_background": "light"
          }
        },
        {
          "output_type": "display_data",
          "data": {
            "image/png": "[encoded data removed]",
            "text/plain": [
              "<Figure size 432x288 with 1 Axes>"
            ]
          },
          "metadata": {
            "tags": [],
            "needs_background": "light"
          }
        }
      ]
    }
  ]
}