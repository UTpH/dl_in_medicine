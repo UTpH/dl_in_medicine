{
 "cells": [
  {
   "cell_type": "code",
   "execution_count": 1,
   "metadata": {
    "colab": {
     "base_uri": "https://localhost:8080/",
     "height": 34
    },
    "colab_type": "code",
    "id": "JlIhEQOKqrx1",
    "outputId": "52d984f4-6e8c-4365-a100-775ecde6863e"
   },
   "outputs": [
    {
     "name": "stdout",
     "output_type": "stream",
     "text": [
      "Found GPU at: /device:GPU:0\n"
     ]
    }
   ],
   "source": [
    "%tensorflow_version 2.x\n",
    "import tensorflow as tf\n",
    "device_name = tf.test.gpu_device_name()\n",
    "if device_name != '/device:GPU:0':\n",
    "    raise SystemError('GPU device not found')\n",
    "print('Found GPU at: {}'.format(device_name))"
   ]
  },
  {
   "cell_type": "code",
   "execution_count": 0,
   "metadata": {
    "colab": {},
    "colab_type": "code",
    "id": "8lmSuTCOuJ1s"
   },
   "outputs": [],
   "source": [
    "import numpy as np\n",
    "import matplotlib as mpl\n",
    "import matplotlib.pyplot as plt\n",
    "from IPython.display import SVG\n",
    "import os\n",
    "import pydotplus\n",
    "\n",
    "import keras\n",
    "from keras import regularizers\n",
    "from keras.optimizers import Adam, SGD, rmsprop\n",
    "from keras.models import Sequential,Model\n",
    "from keras.layers import Dense, Activation, Dropout, Input, Dropout, concatenate\n",
    "from keras.layers.recurrent import GRU, LSTM\n",
    "from keras.utils import plot_model\n",
    "# keras.utils.vis_utils.pydot = pydot\n",
    "from keras.utils.vis_utils import model_to_dot\n",
    "\n",
    "from sklearn.model_selection import train_test_split\n",
    "from sklearn.metrics import roc_auc_score, roc_curve\n",
    "\n",
    "%matplotlib inline"
   ]
  },
  {
   "cell_type": "code",
   "execution_count": 0,
   "metadata": {
    "colab": {},
    "colab_type": "code",
    "id": "N7zPdsOyvN05"
   },
   "outputs": [],
   "source": [
    "data = np.load(\"drive/My Drive/imputed-normed-ep_1_24.npz\", allow_pickle=True)"
   ]
  },
  {
   "cell_type": "code",
   "execution_count": 0,
   "metadata": {
    "colab": {},
    "colab_type": "code",
    "id": "xF7rf8d6vSer"
   },
   "outputs": [],
   "source": [
    "features_sequence = data['ep_tdata'].astype(np.float32) # 12 time series features\n",
    "features_static = data['adm_features_all'].astype(np.float32) # 5 non-ts features,the unit of age: day\n",
    "labels = data[\"adm_labels_all\"][:, 2].astype(np.float32) # 48 hrs mortality"
   ]
  },
  {
   "cell_type": "code",
   "execution_count": 0,
   "metadata": {
    "colab": {},
    "colab_type": "code",
    "id": "eQreFVLCXH5D"
   },
   "outputs": [],
   "source": [
    "# transpose the features_sequence\n",
    "trans = [0]*features_sequence.shape[0]"
   ]
  },
  {
   "cell_type": "code",
   "execution_count": 0,
   "metadata": {
    "colab": {},
    "colab_type": "code",
    "id": "cZeO7l2ArIOT"
   },
   "outputs": [],
   "source": [
    "for i in range(features_sequence.shape[0]):\n",
    "    trans[i] = features_sequence[i].T"
   ]
  },
  {
   "cell_type": "code",
   "execution_count": 0,
   "metadata": {
    "colab": {},
    "colab_type": "code",
    "id": "Kbw09MyjYYgm"
   },
   "outputs": [],
   "source": [
    "trans= np.array(trans)"
   ]
  },
  {
   "cell_type": "code",
   "execution_count": 9,
   "metadata": {
    "colab": {
     "base_uri": "https://localhost:8080/",
     "height": 34
    },
    "colab_type": "code",
    "id": "1ktgT2X8Ya8D",
    "outputId": "72d16519-4a46-4ad5-cd9b-306cf33016f3"
   },
   "outputs": [
    {
     "data": {
      "text/plain": [
       "(36093, 12, 24)"
      ]
     },
     "execution_count": 9,
     "metadata": {
      "tags": []
     },
     "output_type": "execute_result"
    }
   ],
   "source": [
    "trans.shape"
   ]
  },
  {
   "cell_type": "code",
   "execution_count": 0,
   "metadata": {
    "colab": {},
    "colab_type": "code",
    "id": "DcKljhWAYjZO"
   },
   "outputs": [],
   "source": [
    "features_sequence = trans"
   ]
  },
  {
   "cell_type": "code",
   "execution_count": 0,
   "metadata": {
    "colab": {},
    "colab_type": "code",
    "id": "nlcJhmUlwbMQ"
   },
   "outputs": [],
   "source": [
    "# split the whole dataset\n",
    "x_seq_full_train, x_seq_test, x_static_full_train, x_static_test, y_full_train, y_test = train_test_split(\n",
    "    features_sequence, features_static, labels, test_size = 0.20, random_state = 202)\n",
    "\n",
    "x_seq_train, x_seq_val, x_static_train, x_static_val, y_train, y_val = train_test_split(\n",
    "    x_seq_full_train, x_static_full_train, y_full_train, test_size = 0.20, random_state = 202)"
   ]
  },
  {
   "cell_type": "code",
   "execution_count": 12,
   "metadata": {
    "colab": {
     "base_uri": "https://localhost:8080/",
     "height": 34
    },
    "colab_type": "code",
    "id": "VP7Q9ars7_iq",
    "outputId": "dbb75f5c-2411-4719-847b-dfa8491f2288"
   },
   "outputs": [
    {
     "data": {
      "text/plain": [
       "(23099, 12, 24)"
      ]
     },
     "execution_count": 12,
     "metadata": {
      "tags": []
     },
     "output_type": "execute_result"
    }
   ],
   "source": [
    "x_seq_train.shape"
   ]
  },
  {
   "cell_type": "code",
   "execution_count": 13,
   "metadata": {
    "colab": {
     "base_uri": "https://localhost:8080/",
     "height": 34
    },
    "colab_type": "code",
    "id": "ZhWwdR9WBrIa",
    "outputId": "55e13170-ba72-413c-e4ab-e289a7d3693e"
   },
   "outputs": [
    {
     "data": {
      "text/plain": [
       "426"
      ]
     },
     "execution_count": 13,
     "metadata": {
      "tags": []
     },
     "output_type": "execute_result"
    }
   ],
   "source": [
    "# Count the positive labels\n",
    "count = 0\n",
    "for i in range(y_train.shape[0]):\n",
    "    if y_train[i] == 1:\n",
    "        count += 1\n",
    "count"
   ]
  },
  {
   "cell_type": "code",
   "execution_count": 0,
   "metadata": {
    "colab": {},
    "colab_type": "code",
    "id": "HdpU7jYt77TI"
   },
   "outputs": [],
   "source": [
    "# upsampling\n",
    "x_seq_up = []\n",
    "x_static_up = []\n",
    "y_up = []\n",
    "for i in range(x_seq_train.shape[0]):\n",
    "    count = 0\n",
    "    if y_train[i] == 1:\n",
    "        while count < 50:\n",
    "            x_seq_up.append(x_seq_train[i])\n",
    "            x_static_up.append(x_static_train[i])\n",
    "            y_up.append(y_train[i])\n",
    "            count += 1"
   ]
  },
  {
   "cell_type": "code",
   "execution_count": 15,
   "metadata": {
    "colab": {
     "base_uri": "https://localhost:8080/",
     "height": 34
    },
    "colab_type": "code",
    "id": "0p7ZCu0mC0l4",
    "outputId": "62388147-43c2-4533-8d63-903e88ff82ad"
   },
   "outputs": [
    {
     "name": "stdout",
     "output_type": "stream",
     "text": [
      "21300 21300 21300\n"
     ]
    }
   ],
   "source": [
    "print(len(x_seq_up), len(x_static_up), len(y_up))"
   ]
  },
  {
   "cell_type": "code",
   "execution_count": 0,
   "metadata": {
    "colab": {},
    "colab_type": "code",
    "id": "B0s4JSpTITSz"
   },
   "outputs": [],
   "source": [
    "a = np.concatenate((x_seq_train, x_seq_up))\n",
    "b = np.concatenate((x_static_train, x_static_up))\n",
    "c = np.concatenate((y_train, y_up))"
   ]
  },
  {
   "cell_type": "code",
   "execution_count": 0,
   "metadata": {
    "colab": {},
    "colab_type": "code",
    "id": "OHMZRIzmHsDr"
   },
   "outputs": [],
   "source": [
    "index = list(range(len(c)))\n",
    "np.random.shuffle(index)"
   ]
  },
  {
   "cell_type": "code",
   "execution_count": 0,
   "metadata": {
    "colab": {},
    "colab_type": "code",
    "id": "jTZOj1aEIbSn"
   },
   "outputs": [],
   "source": [
    "x_seq_train = []\n",
    "x_static_train = []\n",
    "y_train = []\n",
    "\n",
    "for i in index:\n",
    "    x_seq_train.append(a[i])\n",
    "    x_static_train.append(b[i])\n",
    "    y_train.append(c[i])"
   ]
  },
  {
   "cell_type": "code",
   "execution_count": 19,
   "metadata": {
    "colab": {
     "base_uri": "https://localhost:8080/",
     "height": 34
    },
    "colab_type": "code",
    "id": "d7m0_OIAI3Lt",
    "outputId": "24f4183a-bc50-4fc3-ac8a-68a0a8465d07"
   },
   "outputs": [
    {
     "name": "stdout",
     "output_type": "stream",
     "text": [
      "44399 44399 44399\n"
     ]
    }
   ],
   "source": [
    "print(len(x_seq_train), len(x_static_train), len(y_train))"
   ]
  },
  {
   "cell_type": "code",
   "execution_count": 0,
   "metadata": {
    "colab": {},
    "colab_type": "code",
    "id": "1kD-YC7xFTVm"
   },
   "outputs": [],
   "source": [
    "x_seq_train  = np.array(x_seq_train)\n",
    "x_static_train = np.array(x_static_train)\n",
    "y_train = np.array(y_train)"
   ]
  },
  {
   "cell_type": "code",
   "execution_count": 21,
   "metadata": {
    "colab": {
     "base_uri": "https://localhost:8080/",
     "height": 34
    },
    "colab_type": "code",
    "id": "X6V2blvUitpL",
    "outputId": "6a2c580c-47a3-4a59-a6c6-2ab2208d237e"
   },
   "outputs": [
    {
     "name": "stdout",
     "output_type": "stream",
     "text": [
      "(44399, 12, 24) (44399, 5) (44399,)\n"
     ]
    }
   ],
   "source": [
    "print(x_seq_train.shape, x_static_train.shape, y_train.shape)"
   ]
  },
  {
   "cell_type": "code",
   "execution_count": 0,
   "metadata": {
    "colab": {},
    "colab_type": "code",
    "id": "WwzBWfKZwddK"
   },
   "outputs": [],
   "source": [
    "# impute the missing values in the dataset with the mean\n",
    "\n",
    "def impute_mean(source_data, input_data):\n",
    "    '''\n",
    "    Takes the source data, and uses it to determine means for all\n",
    "    features; it then applies them to the input data.\n",
    "    \n",
    "    inputs:\n",
    "    source_data: a tensor to provide means\n",
    "    input_data: the data to fill in NA for\n",
    "    \n",
    "    output:\n",
    "    output_data: data with nans imputed for each feature\n",
    "    \n",
    "    '''\n",
    "    \n",
    "    output_data = input_data.copy()\n",
    "    \n",
    "    for feature in range(source_data.shape[1]):\n",
    "        feature_mean = np.nanmean(source_data[:, feature, :][np.where(source_data[:, feature, :] != 0)])\n",
    "        ind_output_data = np.where(np.isnan(output_data[:, feature, :]))\n",
    "        output_data[:, feature, :][ind_output_data] =  feature_mean\n",
    "    return output_data"
   ]
  },
  {
   "cell_type": "code",
   "execution_count": 0,
   "metadata": {
    "colab": {},
    "colab_type": "code",
    "id": "6vuZUtsRwf3g"
   },
   "outputs": [],
   "source": [
    "x_seq_train_original = x_seq_train.copy()\n",
    "x_seq_train = impute_mean(x_seq_train_original, x_seq_train)\n",
    "x_seq_val = impute_mean(x_seq_train_original, x_seq_val)\n",
    "x_seq_test = impute_mean(x_seq_train_original, x_seq_test)"
   ]
  },
  {
   "cell_type": "code",
   "execution_count": 38,
   "metadata": {
    "colab": {
     "base_uri": "https://localhost:8080/",
     "height": 734
    },
    "colab_type": "code",
    "id": "h2F464i7wh4L",
    "outputId": "ef3a60cb-dd01-4693-b7be-3e8abea74bb1"
   },
   "outputs": [
    {
     "name": "stdout",
     "output_type": "stream",
     "text": [
      "Train on 44399 samples, validate on 5775 samples\n",
      "Epoch 1/20\n",
      "44399/44399 [==============================] - 19s 425us/step - loss: 49.0927 - main_output_loss: 49.0122 - aux_output_loss: 0.6800 - main_output_accuracy: 0.4965 - aux_output_accuracy: 0.5676 - val_loss: 0.3784 - val_main_output_loss: 0.3130 - val_aux_output_loss: 0.5917 - val_main_output_accuracy: 0.9827 - val_aux_output_accuracy: 0.9356\n",
      "Epoch 2/20\n",
      "44399/44399 [==============================] - 18s 409us/step - loss: 4.9454 - main_output_loss: 4.8778 - aux_output_loss: 0.6600 - main_output_accuracy: 0.5056 - aux_output_accuracy: 0.6267 - val_loss: 0.6428 - val_main_output_loss: 0.5773 - val_aux_output_loss: 0.6526 - val_main_output_accuracy: 0.9827 - val_aux_output_accuracy: 0.7287\n",
      "Epoch 3/20\n",
      "44399/44399 [==============================] - 18s 408us/step - loss: 0.7892 - main_output_loss: 0.7256 - aux_output_loss: 0.6356 - main_output_accuracy: 0.5291 - aux_output_accuracy: 0.6579 - val_loss: 0.8780 - val_main_output_loss: 0.8147 - val_aux_output_loss: 0.6199 - val_main_output_accuracy: 0.1468 - val_aux_output_accuracy: 0.7461\n",
      "Epoch 4/20\n",
      "44399/44399 [==============================] - 18s 408us/step - loss: 0.7691 - main_output_loss: 0.7092 - aux_output_loss: 0.5988 - main_output_accuracy: 0.5330 - aux_output_accuracy: 0.6890 - val_loss: 0.7457 - val_main_output_loss: 0.6936 - val_aux_output_loss: 0.5111 - val_main_output_accuracy: 0.7210 - val_aux_output_accuracy: 0.8229\n",
      "Epoch 5/20\n",
      "44399/44399 [==============================] - 18s 408us/step - loss: 0.7573 - main_output_loss: 0.7020 - aux_output_loss: 0.5525 - main_output_accuracy: 0.5382 - aux_output_accuracy: 0.7216 - val_loss: 0.7508 - val_main_output_loss: 0.7044 - val_aux_output_loss: 0.4519 - val_main_output_accuracy: 0.6535 - val_aux_output_accuracy: 0.8189\n",
      "Epoch 6/20\n",
      "44399/44399 [==============================] - 18s 408us/step - loss: 0.7524 - main_output_loss: 0.7023 - aux_output_loss: 0.5013 - main_output_accuracy: 0.5425 - aux_output_accuracy: 0.7555 - val_loss: 0.6534 - val_main_output_loss: 0.6169 - val_aux_output_loss: 0.3560 - val_main_output_accuracy: 0.9375 - val_aux_output_accuracy: 0.8655\n",
      "Epoch 7/20\n",
      "44399/44399 [==============================] - 18s 410us/step - loss: 0.7391 - main_output_loss: 0.6944 - aux_output_loss: 0.4470 - main_output_accuracy: 0.5467 - aux_output_accuracy: 0.7909 - val_loss: 0.6887 - val_main_output_loss: 0.6412 - val_aux_output_loss: 0.4614 - val_main_output_accuracy: 0.9318 - val_aux_output_accuracy: 0.7953\n",
      "Epoch 8/20\n",
      "44399/44399 [==============================] - 18s 414us/step - loss: 0.7259 - main_output_loss: 0.6870 - aux_output_loss: 0.3890 - main_output_accuracy: 0.5557 - aux_output_accuracy: 0.8244 - val_loss: 0.5846 - val_main_output_loss: 0.5455 - val_aux_output_loss: 0.3853 - val_main_output_accuracy: 0.9827 - val_aux_output_accuracy: 0.8286\n",
      "Epoch 9/20\n",
      "44399/44399 [==============================] - 18s 412us/step - loss: 0.7094 - main_output_loss: 0.6752 - aux_output_loss: 0.3413 - main_output_accuracy: 0.6077 - aux_output_accuracy: 0.8556 - val_loss: 0.7017 - val_main_output_loss: 0.6645 - val_aux_output_loss: 0.3598 - val_main_output_accuracy: 0.8487 - val_aux_output_accuracy: 0.8544\n",
      "Epoch 10/20\n",
      "44399/44399 [==============================] - 18s 414us/step - loss: 0.6821 - main_output_loss: 0.6503 - aux_output_loss: 0.3185 - main_output_accuracy: 0.6513 - aux_output_accuracy: 0.8717 - val_loss: 0.5808 - val_main_output_loss: 0.5464 - val_aux_output_loss: 0.3404 - val_main_output_accuracy: 0.9072 - val_aux_output_accuracy: 0.8646\n",
      "Epoch 11/20\n",
      "44399/44399 [==============================] - 18s 411us/step - loss: 0.6383 - main_output_loss: 0.6091 - aux_output_loss: 0.2917 - main_output_accuracy: 0.6806 - aux_output_accuracy: 0.8852 - val_loss: 0.5896 - val_main_output_loss: 0.5580 - val_aux_output_loss: 0.3107 - val_main_output_accuracy: 0.8710 - val_aux_output_accuracy: 0.8760\n",
      "Epoch 12/20\n",
      "44399/44399 [==============================] - 18s 410us/step - loss: 0.6204 - main_output_loss: 0.5924 - aux_output_loss: 0.2798 - main_output_accuracy: 0.6843 - aux_output_accuracy: 0.8884 - val_loss: 0.5238 - val_main_output_loss: 0.4983 - val_aux_output_loss: 0.2600 - val_main_output_accuracy: 0.9354 - val_aux_output_accuracy: 0.9025\n",
      "Epoch 13/20\n",
      "44399/44399 [==============================] - 18s 411us/step - loss: 0.5933 - main_output_loss: 0.5685 - aux_output_loss: 0.2482 - main_output_accuracy: 0.7036 - aux_output_accuracy: 0.9061 - val_loss: 0.5514 - val_main_output_loss: 0.5214 - val_aux_output_loss: 0.3002 - val_main_output_accuracy: 0.8985 - val_aux_output_accuracy: 0.8824\n",
      "Epoch 14/20\n",
      "44399/44399 [==============================] - 18s 407us/step - loss: 0.5862 - main_output_loss: 0.5627 - aux_output_loss: 0.2352 - main_output_accuracy: 0.7061 - aux_output_accuracy: 0.9133 - val_loss: 0.5463 - val_main_output_loss: 0.5094 - val_aux_output_loss: 0.3707 - val_main_output_accuracy: 0.8687 - val_aux_output_accuracy: 0.8604\n",
      "Epoch 15/20\n",
      "44399/44399 [==============================] - 18s 411us/step - loss: 0.5710 - main_output_loss: 0.5491 - aux_output_loss: 0.2194 - main_output_accuracy: 0.7152 - aux_output_accuracy: 0.9213 - val_loss: 0.4640 - val_main_output_loss: 0.4452 - val_aux_output_loss: 0.1915 - val_main_output_accuracy: 0.9657 - val_aux_output_accuracy: 0.9352\n",
      "Epoch 16/20\n",
      "44399/44399 [==============================] - 18s 413us/step - loss: 0.5667 - main_output_loss: 0.5457 - aux_output_loss: 0.2101 - main_output_accuracy: 0.7157 - aux_output_accuracy: 0.9249 - val_loss: 0.5258 - val_main_output_loss: 0.4950 - val_aux_output_loss: 0.3160 - val_main_output_accuracy: 0.8921 - val_aux_output_accuracy: 0.8852\n",
      "Epoch 17/20\n",
      "44399/44399 [==============================] - 18s 406us/step - loss: 0.5581 - main_output_loss: 0.5381 - aux_output_loss: 0.1999 - main_output_accuracy: 0.7226 - aux_output_accuracy: 0.9304 - val_loss: 0.4909 - val_main_output_loss: 0.4677 - val_aux_output_loss: 0.2424 - val_main_output_accuracy: 0.9411 - val_aux_output_accuracy: 0.9153\n",
      "Epoch 18/20\n",
      "44399/44399 [==============================] - 18s 412us/step - loss: 0.5782 - main_output_loss: 0.5581 - aux_output_loss: 0.2008 - main_output_accuracy: 0.7021 - aux_output_accuracy: 0.9284 - val_loss: 0.5384 - val_main_output_loss: 0.5120 - val_aux_output_loss: 0.2727 - val_main_output_accuracy: 0.9243 - val_aux_output_accuracy: 0.9034\n",
      "Epoch 19/20\n",
      "44399/44399 [==============================] - 18s 405us/step - loss: 0.5572 - main_output_loss: 0.5390 - aux_output_loss: 0.1823 - main_output_accuracy: 0.7208 - aux_output_accuracy: 0.9375 - val_loss: 0.5372 - val_main_output_loss: 0.5099 - val_aux_output_loss: 0.2885 - val_main_output_accuracy: 0.9169 - val_aux_output_accuracy: 0.9003\n",
      "Epoch 20/20\n",
      "44399/44399 [==============================] - 18s 409us/step - loss: 0.5556 - main_output_loss: 0.5379 - aux_output_loss: 0.1776 - main_output_accuracy: 0.7211 - aux_output_accuracy: 0.9400 - val_loss: 0.5222 - val_main_output_loss: 0.4969 - val_aux_output_loss: 0.2693 - val_main_output_accuracy: 0.9255 - val_aux_output_accuracy: 0.9086\n"
     ]
    }
   ],
   "source": [
    "# Define inputs\n",
    "sequence_input = Input(shape = (x_seq_train.shape[1], x_seq_train.shape[2], ), dtype = 'float32', name = 'sequence_input')\n",
    "static_input = Input(shape = (x_static_train.shape[1], ), name = 'static_input')\n",
    "\n",
    "# Network architecture\n",
    "seq_x = GRU(units = 128, )(sequence_input)\n",
    "# seq_x = Dense(64, input_dim=128, kernel_regularizer=regularizers.l2(0.1))(seq_x) #Regularizer\n",
    "# Seperate output for the GRU later\n",
    "seq_aux_output = Dense(1, activation='sigmoid', name='aux_output')(seq_x)\n",
    "\n",
    "# Merge dual inputs\n",
    "x = concatenate([seq_x, static_input])\n",
    "\n",
    "# We stack a deep fully-connected network on the merged inputs\n",
    "x = Dense(128, activation = 'relu')(x)\n",
    "x = Dense(128, activation = 'relu')(x)\n",
    "x = Dropout(0.10)(x)\n",
    "x = Dense(128, activation = 'relu')(x)\n",
    "x = Dense(128, activation = 'relu')(x)\n",
    "# Sigmoid output layer\n",
    "main_output = Dense(1, activation='sigmoid', name='main_output')(x)\n",
    "\n",
    "# optimizer\n",
    "opt = Adam(lr = 0.0001)\n",
    "\n",
    "# build model\n",
    "model = Model(inputs = [sequence_input, static_input], outputs = [main_output, seq_aux_output])\n",
    "model.compile(optimizer = opt, loss = 'binary_crossentropy', metrics = ['accuracy'], loss_weights = [1, 0.1])\n",
    "\n",
    "# save a plot of the model\n",
    "#plot_model(model, to_file='experiment_GRU-DO.svg')\n",
    "\n",
    "# fit the model\n",
    "history = model.fit([x_seq_train, x_static_train], [y_train, y_train], epochs = 20, batch_size = 128,\\\n",
    "                    validation_data=([x_seq_val, x_static_val], [y_val, y_val]),)"
   ]
  },
  {
   "cell_type": "code",
   "execution_count": 43,
   "metadata": {
    "colab": {
     "base_uri": "https://localhost:8080/",
     "height": 241
    },
    "colab_type": "code",
    "id": "Ew_HIHyi1fDA",
    "outputId": "276660ab-59fd-42ee-d312-214693c854c8"
   },
   "outputs": [
    {
     "data": {
      "image/png": "[encoded data removed]",
      "text/plain": [
       "<Figure size 288x216 with 1 Axes>"
      ]
     },
     "metadata": {
      "needs_background": "light",
      "tags": []
     },
     "output_type": "display_data"
    }
   ],
   "source": [
    "# Round 1\n",
    "# AUC for 48 hrs mortality\n",
    "\n",
    "pred_main, pred_aux = model.predict([x_seq_test, x_static_test])\n",
    "roc = roc_curve(y_test, pred_aux)\n",
    "auc = roc_auc_score(y_test, pred_aux)\n",
    "fig = plt.figure(figsize=(4, 3)) # in inches\n",
    "plt.plot(roc[0], roc[1], color = 'darkorange', label = 'ROC curve\\n(area = %0.2f)' % auc)\n",
    "plt.plot([0, 1], [0, 1], color= 'navy', linestyle = '--')\n",
    "plt.xlabel('False Positive Rate')\n",
    "plt.ylabel('True Positive Rate')\n",
    "plt.title('%s: ROC' % 'GRU: 48 hr Mortality')\n",
    "plt.legend(loc = \"lower right\")\n",
    "# fig_name = 'gru-base.pdf'\n",
    "# fig.savefig(fig_name, bbox_inches='tight')\n",
    "plt.show()"
   ]
  },
  {
   "cell_type": "code",
   "execution_count": 34,
   "metadata": {
    "colab": {
     "base_uri": "https://localhost:8080/",
     "height": 241
    },
    "colab_type": "code",
    "id": "2bLiL6yii4Hr",
    "outputId": "7e9b4193-4bae-4c74-e020-f1b3a1ed8027"
   },
   "outputs": [
    {
     "data": {
      "image/png": "[encoded data removed]",
      "text/plain": [
       "<Figure size 288x216 with 1 Axes>"
      ]
     },
     "metadata": {
      "needs_background": "light",
      "tags": []
     },
     "output_type": "display_data"
    }
   ],
   "source": [
    "# Round 2\n",
    "# AUC for 48 hrs mortality\n",
    "\n",
    "\n",
    "pred_main, pred_aux = model.predict([x_seq_test, x_static_test])\n",
    "roc = roc_curve(y_test, pred_aux)\n",
    "auc = roc_auc_score(y_test, pred_aux)\n",
    "fig = plt.figure(figsize=(4, 3)) # in inches\n",
    "plt.plot(roc[0], roc[1], color = 'darkorange', label = 'ROC curve\\n(area = %0.2f)' % auc)\n",
    "plt.plot([0, 1], [0, 1], color= 'navy', linestyle = '--')\n",
    "plt.xlabel('False Positive Rate')\n",
    "plt.ylabel('True Positive Rate')\n",
    "plt.title('%s: ROC' % 'GRU: 48 hr Mortality')\n",
    "plt.legend(loc = \"lower right\")\n",
    "# fig_name = 'gru-base.pdf'\n",
    "# fig.savefig(fig_name, bbox_inches='tight')\n",
    "plt.show()"
   ]
  },
  {
   "cell_type": "code",
   "execution_count": 41,
   "metadata": {
    "colab": {
     "base_uri": "https://localhost:8080/",
     "height": 545
    },
    "colab_type": "code",
    "id": "tAT675J_zXvk",
    "outputId": "cbf8f9c2-6ac8-4b0c-c175-84e66461d05d"
   },
   "outputs": [
    {
     "data": {
      "image/png": "[encoded data removed]",
      "text/plain": [
       "<Figure size 432x288 with 1 Axes>"
      ]
     },
     "metadata": {
      "needs_background": "light",
      "tags": []
     },
     "output_type": "display_data"
    },
    {
     "data": {
      "image/png": "[encoded data removed]",
      "text/plain": [
       "<Figure size 432x288 with 1 Axes>"
      ]
     },
     "metadata": {
      "needs_background": "light",
      "tags": []
     },
     "output_type": "display_data"
    }
   ],
   "source": [
    "# 48 hrs mortality prediction\n",
    "# plot training and validation loss and accuracy\n",
    "\n",
    "acc = history.history['aux_output_accuracy']\n",
    "val_acc = history.history['val_aux_output_accuracy']\n",
    "loss = history.history['aux_output_loss']\n",
    "val_loss = history.history['val_aux_output_loss']\n",
    "\n",
    "epochs = range(len(acc))\n",
    "\n",
    "plt.plot(epochs, acc, 'bo', label='Training acc')\n",
    "plt.plot(epochs, val_acc, 'b', label='Validation acc')\n",
    "plt.title('Training and validation accuracy')\n",
    "plt.legend()\n",
    "\n",
    "plt.figure()\n",
    "plt.plot(epochs, loss, 'bo', label='Training loss')\n",
    "plt.plot(epochs, val_loss, 'b', label='Validation loss')\n",
    "plt.title('Training and validation loss')\n",
    "plt.legend()\n",
    "\n",
    "fig_name = 'loss_svg.svg'\n",
    "fig.savefig('loss_svg.svg', bbox_inches='tight')"
   ]
  }
 ],
 "metadata": {
  "accelerator": "GPU",
  "colab": {
   "name": "Untitled2.ipynb",
   "provenance": []
  },
  "kernelspec": {
   "display_name": "Python 3",
   "language": "python",
   "name": "python3"
  },
  "language_info": {
   "codemirror_mode": {
    "name": "ipython",
    "version": 3
   },
   "file_extension": ".py",
   "mimetype": "text/x-python",
   "name": "python",
   "nbconvert_exporter": "python",
   "pygments_lexer": "ipython3",
   "version": "3.6.9"
  }
 },
 "nbformat": 4,
 "nbformat_minor": 1
}
