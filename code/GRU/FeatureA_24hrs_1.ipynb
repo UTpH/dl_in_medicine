{
  "nbformat": 4,
  "nbformat_minor": 0,
  "metadata": {
    "accelerator": "GPU",
    "colab": {
      "name": "FeatureA_24hrs_1.ipynb",
      "provenance": []
    },
    "kernelspec": {
      "display_name": "Python 3",
      "language": "python",
      "name": "python3"
    },
    "language_info": {
      "codemirror_mode": {
        "name": "ipython",
        "version": 3
      },
      "file_extension": ".py",
      "mimetype": "text/x-python",
      "name": "python",
      "nbconvert_exporter": "python",
      "pygments_lexer": "ipython3",
      "version": "3.6.9"
    }
  },
  "cells": [
    {
      "cell_type": "code",
      "metadata": {
        "colab_type": "code",
        "id": "JlIhEQOKqrx1",
        "outputId": "bf2ac946-a351-4e16-b2ff-87ebac8c9ee9",
        "colab": {
          "base_uri": "https://localhost:8080/",
          "height": 34
        }
      },
      "source": [
        "%tensorflow_version 2.x\n",
        "import tensorflow as tf\n",
        "device_name = tf.test.gpu_device_name()\n",
        "if device_name != '/device:GPU:0':\n",
        "    raise SystemError('GPU device not found')\n",
        "print('Found GPU at: {}'.format(device_name))"
      ],
      "execution_count": 1,
      "outputs": [
        {
          "output_type": "stream",
          "text": [
            "Found GPU at: /device:GPU:0\n"
          ],
          "name": "stdout"
        }
      ]
    },
    {
      "cell_type": "code",
      "metadata": {
        "colab_type": "code",
        "id": "8lmSuTCOuJ1s",
        "colab": {
          "base_uri": "https://localhost:8080/",
          "height": 34
        },
        "outputId": "b5304066-425d-4913-94d2-b7c33b1fa949"
      },
      "source": [
        "import numpy as np\n",
        "import matplotlib as mpl\n",
        "import matplotlib.pyplot as plt\n",
        "from IPython.display import SVG\n",
        "import os\n",
        "import pydotplus\n",
        "\n",
        "import keras\n",
        "from keras import regularizers\n",
        "from keras.optimizers import Adam, SGD, rmsprop\n",
        "from keras.models import Sequential,Model\n",
        "from keras.layers import Dense, Activation, Dropout, Input, Dropout, concatenate\n",
        "from keras.layers.recurrent import GRU, LSTM\n",
        "from keras.utils import plot_model\n",
        "# keras.utils.vis_utils.pydot = pydot\n",
        "from keras.utils.vis_utils import model_to_dot\n",
        "\n",
        "from sklearn.model_selection import train_test_split\n",
        "from sklearn.metrics import roc_auc_score, roc_curve\n",
        "\n",
        "%matplotlib inline"
      ],
      "execution_count": 2,
      "outputs": [
        {
          "output_type": "stream",
          "text": [
            "Using TensorFlow backend.\n"
          ],
          "name": "stderr"
        }
      ]
    },
    {
      "cell_type": "code",
      "metadata": {
        "colab_type": "code",
        "id": "N7zPdsOyvN05",
        "colab": {}
      },
      "source": [
        "data = np.load(\"drive/My Drive/imputed-normed-ep_1_24.npz\", allow_pickle=True)"
      ],
      "execution_count": 0,
      "outputs": []
    },
    {
      "cell_type": "code",
      "metadata": {
        "id": "b4D6N8qtHbYT",
        "colab_type": "code",
        "colab": {
          "base_uri": "https://localhost:8080/",
          "height": 125
        },
        "outputId": "211c5278-7664-4953-fbab-2e659bc27490"
      },
      "source": [
        "from google.colab import drive\n",
        "drive.mount('/content/drive')"
      ],
      "execution_count": 4,
      "outputs": [
        {
          "output_type": "stream",
          "text": [
            "Go to this URL in a browser: https://accounts.google.com/o/oauth2/auth?client_id=947318989803-6bn6qk8qdgf4n4g3pfee6491hc0brc4i.apps.googleusercontent.com&redirect_uri=urn%3aietf%3awg%3aoauth%3a2.0%3aoob&response_type=code&scope=email%20https%3a%2f%2fwww.googleapis.com%2fauth%2fdocs.test%20https%3a%2f%2fwww.googleapis.com%2fauth%2fdrive%20https%3a%2f%2fwww.googleapis.com%2fauth%2fdrive.photos.readonly%20https%3a%2f%2fwww.googleapis.com%2fauth%2fpeopleapi.readonly\n",
            "\n",
            "Enter your authorization code:\n",
            "··········\n",
            "Mounted at /content/drive\n"
          ],
          "name": "stdout"
        }
      ]
    },
    {
      "cell_type": "code",
      "metadata": {
        "colab_type": "code",
        "id": "xF7rf8d6vSer",
        "colab": {}
      },
      "source": [
        "features_sequence = data['ep_tdata'].astype(np.float32) # 12 time series features\n",
        "features_static = data['adm_features_all'].astype(np.float32) # 5 non-ts features,the unit of age: day\n",
        "labels = data[\"adm_labels_all\"][:, 2].astype(np.float32) # 48 hrs mortality"
      ],
      "execution_count": 0,
      "outputs": []
    },
    {
      "cell_type": "code",
      "metadata": {
        "colab_type": "code",
        "id": "eQreFVLCXH5D",
        "colab": {}
      },
      "source": [
        "# transpose the features_sequence\n",
        "trans = [0]*features_sequence.shape[0]"
      ],
      "execution_count": 0,
      "outputs": []
    },
    {
      "cell_type": "code",
      "metadata": {
        "colab_type": "code",
        "id": "cZeO7l2ArIOT",
        "colab": {}
      },
      "source": [
        "for i in range(features_sequence.shape[0]):\n",
        "    trans[i] = features_sequence[i].T"
      ],
      "execution_count": 0,
      "outputs": []
    },
    {
      "cell_type": "code",
      "metadata": {
        "colab_type": "code",
        "id": "Kbw09MyjYYgm",
        "colab": {}
      },
      "source": [
        "trans= np.array(trans)"
      ],
      "execution_count": 0,
      "outputs": []
    },
    {
      "cell_type": "code",
      "metadata": {
        "colab_type": "code",
        "id": "1ktgT2X8Ya8D",
        "outputId": "16c2b449-51f4-445e-c506-ab9c66432b2b",
        "colab": {
          "base_uri": "https://localhost:8080/",
          "height": 34
        }
      },
      "source": [
        "trans.shape"
      ],
      "execution_count": 10,
      "outputs": [
        {
          "output_type": "execute_result",
          "data": {
            "text/plain": [
              "(36093, 12, 24)"
            ]
          },
          "metadata": {
            "tags": []
          },
          "execution_count": 10
        }
      ]
    },
    {
      "cell_type": "code",
      "metadata": {
        "colab_type": "code",
        "id": "DcKljhWAYjZO",
        "colab": {}
      },
      "source": [
        "features_sequence = trans"
      ],
      "execution_count": 0,
      "outputs": []
    },
    {
      "cell_type": "code",
      "metadata": {
        "colab_type": "code",
        "id": "nlcJhmUlwbMQ",
        "colab": {}
      },
      "source": [
        "# split the whole dataset\n",
        "x_seq_full_train, x_seq_test, x_static_full_train, x_static_test, y_full_train, y_test = train_test_split(\n",
        "    features_sequence, features_static, labels, test_size = 0.20, random_state = 202)\n",
        "\n",
        "x_seq_train, x_seq_val, x_static_train, x_static_val, y_train, y_val = train_test_split(\n",
        "    x_seq_full_train, x_static_full_train, y_full_train, test_size = 0.20, random_state = 202)"
      ],
      "execution_count": 0,
      "outputs": []
    },
    {
      "cell_type": "code",
      "metadata": {
        "colab_type": "code",
        "id": "VP7Q9ars7_iq",
        "outputId": "5ef8b7ec-cd59-4b35-9536-68cc79443447",
        "colab": {
          "base_uri": "https://localhost:8080/",
          "height": 34
        }
      },
      "source": [
        "x_seq_train.shape"
      ],
      "execution_count": 13,
      "outputs": [
        {
          "output_type": "execute_result",
          "data": {
            "text/plain": [
              "(23099, 12, 24)"
            ]
          },
          "metadata": {
            "tags": []
          },
          "execution_count": 13
        }
      ]
    },
    {
      "cell_type": "code",
      "metadata": {
        "colab_type": "code",
        "id": "ZhWwdR9WBrIa",
        "outputId": "770b0e65-72f4-4f44-b854-eef2805cd907",
        "colab": {
          "base_uri": "https://localhost:8080/",
          "height": 34
        }
      },
      "source": [
        "# Count the positive labels\n",
        "count = 0\n",
        "for i in range(y_train.shape[0]):\n",
        "    if y_train[i] == 1:\n",
        "        count += 1\n",
        "count"
      ],
      "execution_count": 14,
      "outputs": [
        {
          "output_type": "execute_result",
          "data": {
            "text/plain": [
              "426"
            ]
          },
          "metadata": {
            "tags": []
          },
          "execution_count": 14
        }
      ]
    },
    {
      "cell_type": "code",
      "metadata": {
        "colab_type": "code",
        "id": "HdpU7jYt77TI",
        "colab": {}
      },
      "source": [
        "# upsampling\n",
        "x_seq_up = []\n",
        "x_static_up = []\n",
        "y_up = []\n",
        "for i in range(x_seq_train.shape[0]):\n",
        "    count = 0\n",
        "    if y_train[i] == 1:\n",
        "        while count < 50:\n",
        "            x_seq_up.append(x_seq_train[i])\n",
        "            x_static_up.append(x_static_train[i])\n",
        "            y_up.append(y_train[i])\n",
        "            count += 1"
      ],
      "execution_count": 0,
      "outputs": []
    },
    {
      "cell_type": "code",
      "metadata": {
        "colab_type": "code",
        "id": "0p7ZCu0mC0l4",
        "outputId": "661b7c96-1e24-4882-9d6b-404b7ba33fc9",
        "colab": {
          "base_uri": "https://localhost:8080/",
          "height": 34
        }
      },
      "source": [
        "print(len(x_seq_up), len(x_static_up), len(y_up))"
      ],
      "execution_count": 16,
      "outputs": [
        {
          "output_type": "stream",
          "text": [
            "21300 21300 21300\n"
          ],
          "name": "stdout"
        }
      ]
    },
    {
      "cell_type": "code",
      "metadata": {
        "colab_type": "code",
        "id": "B0s4JSpTITSz",
        "colab": {}
      },
      "source": [
        "a = np.concatenate((x_seq_train, x_seq_up))\n",
        "b = np.concatenate((x_static_train, x_static_up))\n",
        "c = np.concatenate((y_train, y_up))"
      ],
      "execution_count": 0,
      "outputs": []
    },
    {
      "cell_type": "code",
      "metadata": {
        "colab_type": "code",
        "id": "OHMZRIzmHsDr",
        "colab": {}
      },
      "source": [
        "index = list(range(len(c)))\n",
        "np.random.shuffle(index)"
      ],
      "execution_count": 0,
      "outputs": []
    },
    {
      "cell_type": "code",
      "metadata": {
        "colab_type": "code",
        "id": "jTZOj1aEIbSn",
        "colab": {}
      },
      "source": [
        "x_seq_train = []\n",
        "x_static_train = []\n",
        "y_train = []\n",
        "\n",
        "for i in index:\n",
        "    x_seq_train.append(a[i])\n",
        "    x_static_train.append(b[i])\n",
        "    y_train.append(c[i])"
      ],
      "execution_count": 0,
      "outputs": []
    },
    {
      "cell_type": "code",
      "metadata": {
        "colab_type": "code",
        "id": "d7m0_OIAI3Lt",
        "outputId": "4c94d5d0-edb8-4ed9-88e6-24c405116dfa",
        "colab": {
          "base_uri": "https://localhost:8080/",
          "height": 34
        }
      },
      "source": [
        "print(len(x_seq_train), len(x_static_train), len(y_train))"
      ],
      "execution_count": 20,
      "outputs": [
        {
          "output_type": "stream",
          "text": [
            "44399 44399 44399\n"
          ],
          "name": "stdout"
        }
      ]
    },
    {
      "cell_type": "code",
      "metadata": {
        "colab_type": "code",
        "id": "1kD-YC7xFTVm",
        "colab": {}
      },
      "source": [
        "x_seq_train  = np.array(x_seq_train)\n",
        "x_static_train = np.array(x_static_train)\n",
        "y_train = np.array(y_train)"
      ],
      "execution_count": 0,
      "outputs": []
    },
    {
      "cell_type": "code",
      "metadata": {
        "colab_type": "code",
        "id": "X6V2blvUitpL",
        "outputId": "29521d2d-6b5a-4b50-af1a-d66f1b0f671a",
        "colab": {
          "base_uri": "https://localhost:8080/",
          "height": 34
        }
      },
      "source": [
        "print(x_seq_train.shape, x_static_train.shape, y_train.shape)"
      ],
      "execution_count": 22,
      "outputs": [
        {
          "output_type": "stream",
          "text": [
            "(44399, 12, 24) (44399, 5) (44399,)\n"
          ],
          "name": "stdout"
        }
      ]
    },
    {
      "cell_type": "code",
      "metadata": {
        "colab_type": "code",
        "id": "WwzBWfKZwddK",
        "colab": {}
      },
      "source": [
        "# impute the missing values in the dataset with the mean\n",
        "\n",
        "def impute_mean(source_data, input_data):\n",
        "    '''\n",
        "    Takes the source data, and uses it to determine means for all\n",
        "    features; it then applies them to the input data.\n",
        "    \n",
        "    inputs:\n",
        "    source_data: a tensor to provide means\n",
        "    input_data: the data to fill in NA for\n",
        "    \n",
        "    output:\n",
        "    output_data: data with nans imputed for each feature\n",
        "    \n",
        "    '''\n",
        "    \n",
        "    output_data = input_data.copy()\n",
        "    \n",
        "    for feature in range(source_data.shape[1]):\n",
        "        feature_mean = np.nanmean(source_data[:, feature, :][np.where(source_data[:, feature, :] != 0)])\n",
        "        ind_output_data = np.where(np.isnan(output_data[:, feature, :]))\n",
        "        output_data[:, feature, :][ind_output_data] =  feature_mean\n",
        "    return output_data"
      ],
      "execution_count": 0,
      "outputs": []
    },
    {
      "cell_type": "code",
      "metadata": {
        "colab_type": "code",
        "id": "6vuZUtsRwf3g",
        "colab": {}
      },
      "source": [
        "x_seq_train_original = x_seq_train.copy()\n",
        "x_seq_train = impute_mean(x_seq_train_original, x_seq_train)\n",
        "x_seq_val = impute_mean(x_seq_train_original, x_seq_val)\n",
        "x_seq_test = impute_mean(x_seq_train_original, x_seq_test)"
      ],
      "execution_count": 0,
      "outputs": []
    },
    {
      "cell_type": "code",
      "metadata": {
        "id": "DOwf2658IZTS",
        "colab_type": "code",
        "outputId": "964f1875-4c0c-47a5-ac0a-d0e3ec015715",
        "colab": {
          "base_uri": "https://localhost:8080/",
          "height": 1000
        }
      },
      "source": [
        "# Define inputs\n",
        "sequence_input = Input(shape = (x_seq_train.shape[1], x_seq_train.shape[2], ), dtype = 'float32', name = 'sequence_input')\n",
        "static_input = Input(shape = (x_static_train.shape[1], ), name = 'static_input')\n",
        "\n",
        "# Network architecture\n",
        "seq_x = GRU(units = 128, )(sequence_input)\n",
        "# seq_x = Dense(64, input_dim=128, kernel_regularizer=regularizers.l2(0.1))(seq_x) #Regularizer\n",
        "# Seperate output for the GRU later\n",
        "seq_aux_output = Dense(1, activation='sigmoid', name='aux_output')(seq_x)\n",
        "\n",
        "# Merge dual inputs\n",
        "x = concatenate([seq_x, static_input])\n",
        "\n",
        "# We stack a deep fully-connected network on the merged inputs\n",
        "x = Dense(128, activation = 'relu')(x)\n",
        "x = Dense(128, activation = 'relu')(x)\n",
        "x = Dropout(0.10)(x)\n",
        "x = Dense(128, activation = 'relu')(x)\n",
        "x = Dense(128, activation = 'relu')(x)\n",
        "# Sigmoid output layer\n",
        "main_output = Dense(1, activation='sigmoid', name='main_output')(x)\n",
        "\n",
        "# optimizer\n",
        "opt = Adam(lr = 0.0001)\n",
        "\n",
        "# build model\n",
        "model = Model(inputs = [sequence_input, static_input], outputs = [main_output, seq_aux_output])\n",
        "model.compile(optimizer = opt, loss = 'binary_crossentropy', metrics = ['accuracy'], loss_weights = [1, 0.1])\n",
        "\n",
        "# save a plot of the model\n",
        "#plot_model(model, to_file='experiment_GRU-DO.svg')\n",
        "\n",
        "# fit the model\n",
        "history = model.fit([x_seq_train, x_static_train], [y_train, y_train], epochs = 40, batch_size = 128,\\\n",
        "                    validation_data=([x_seq_val, x_static_val], [y_val, y_val]),)"
      ],
      "execution_count": 0,
      "outputs": [
        {
          "output_type": "stream",
          "text": [
            "Train on 44399 samples, validate on 5775 samples\n",
            "Epoch 1/40\n",
            "44399/44399 [==============================] - 12s 270us/step - loss: 31.4901 - main_output_loss: 31.4130 - aux_output_loss: 0.6826 - main_output_accuracy: 0.4986 - aux_output_accuracy: 0.5950 - val_loss: 5.4622 - val_main_output_loss: 5.3781 - val_aux_output_loss: 0.6489 - val_main_output_accuracy: 0.0173 - val_aux_output_accuracy: 0.8329\n",
            "Epoch 2/40\n",
            "44399/44399 [==============================] - 12s 271us/step - loss: 7.3637 - main_output_loss: 7.2973 - aux_output_loss: 0.6571 - main_output_accuracy: 0.5012 - aux_output_accuracy: 0.6352 - val_loss: 0.6923 - val_main_output_loss: 0.6250 - val_aux_output_loss: 0.6602 - val_main_output_accuracy: 0.9371 - val_aux_output_accuracy: 0.7683\n",
            "Epoch 3/40\n",
            "44399/44399 [==============================] - 12s 270us/step - loss: 4.0941 - main_output_loss: 4.0301 - aux_output_loss: 0.6343 - main_output_accuracy: 0.5088 - aux_output_accuracy: 0.6554 - val_loss: 0.1864 - val_main_output_loss: 0.1299 - val_aux_output_loss: 0.5517 - val_main_output_accuracy: 0.9827 - val_aux_output_accuracy: 0.8507\n",
            "Epoch 4/40\n",
            "44399/44399 [==============================] - 11s 257us/step - loss: 2.6906 - main_output_loss: 2.6307 - aux_output_loss: 0.5980 - main_output_accuracy: 0.5085 - aux_output_accuracy: 0.6879 - val_loss: 0.5811 - val_main_output_loss: 0.5285 - val_aux_output_loss: 0.5163 - val_main_output_accuracy: 0.9375 - val_aux_output_accuracy: 0.8142\n",
            "Epoch 5/40\n",
            "44399/44399 [==============================] - 11s 257us/step - loss: 2.0641 - main_output_loss: 2.0078 - aux_output_loss: 0.5674 - main_output_accuracy: 0.5210 - aux_output_accuracy: 0.7093 - val_loss: 2.3590 - val_main_output_loss: 2.2921 - val_aux_output_loss: 0.5652 - val_main_output_accuracy: 0.0322 - val_aux_output_accuracy: 0.7602\n",
            "Epoch 6/40\n",
            "44399/44399 [==============================] - 11s 258us/step - loss: 1.6847 - main_output_loss: 1.6301 - aux_output_loss: 0.5430 - main_output_accuracy: 0.5472 - aux_output_accuracy: 0.7291 - val_loss: 0.3098 - val_main_output_loss: 0.2598 - val_aux_output_loss: 0.4946 - val_main_output_accuracy: 0.9825 - val_aux_output_accuracy: 0.7700\n",
            "Epoch 7/40\n",
            "44399/44399 [==============================] - 11s 256us/step - loss: 1.2049 - main_output_loss: 1.1550 - aux_output_loss: 0.4967 - main_output_accuracy: 0.6258 - aux_output_accuracy: 0.7748 - val_loss: 0.3741 - val_main_output_loss: 0.3375 - val_aux_output_loss: 0.3564 - val_main_output_accuracy: 0.8961 - val_aux_output_accuracy: 0.8852\n",
            "Epoch 8/40\n",
            "44399/44399 [==============================] - 12s 272us/step - loss: 0.9679 - main_output_loss: 0.9227 - aux_output_loss: 0.4511 - main_output_accuracy: 0.6961 - aux_output_accuracy: 0.8077 - val_loss: 0.5576 - val_main_output_loss: 0.4947 - val_aux_output_loss: 0.6036 - val_main_output_accuracy: 0.7971 - val_aux_output_accuracy: 0.7354\n",
            "Epoch 9/40\n",
            "44399/44399 [==============================] - 12s 261us/step - loss: 0.8720 - main_output_loss: 0.8305 - aux_output_loss: 0.4160 - main_output_accuracy: 0.7337 - aux_output_accuracy: 0.8316 - val_loss: 0.5086 - val_main_output_loss: 0.4687 - val_aux_output_loss: 0.3718 - val_main_output_accuracy: 0.8397 - val_aux_output_accuracy: 0.8653\n",
            "Epoch 10/40\n",
            "44399/44399 [==============================] - 11s 254us/step - loss: 0.7240 - main_output_loss: 0.6856 - aux_output_loss: 0.3839 - main_output_accuracy: 0.7805 - aux_output_accuracy: 0.8529 - val_loss: 0.5729 - val_main_output_loss: 0.5282 - val_aux_output_loss: 0.4102 - val_main_output_accuracy: 0.8192 - val_aux_output_accuracy: 0.8481\n",
            "Epoch 11/40\n",
            "44399/44399 [==============================] - 12s 265us/step - loss: 0.6445 - main_output_loss: 0.6087 - aux_output_loss: 0.3568 - main_output_accuracy: 0.8043 - aux_output_accuracy: 0.8683 - val_loss: 0.3275 - val_main_output_loss: 0.2952 - val_aux_output_loss: 0.3122 - val_main_output_accuracy: 0.9058 - val_aux_output_accuracy: 0.8907\n",
            "Epoch 12/40\n",
            "44399/44399 [==============================] - 12s 259us/step - loss: 0.5635 - main_output_loss: 0.5303 - aux_output_loss: 0.3330 - main_output_accuracy: 0.8374 - aux_output_accuracy: 0.8852 - val_loss: 0.2915 - val_main_output_loss: 0.2670 - val_aux_output_loss: 0.2383 - val_main_output_accuracy: 0.9276 - val_aux_output_accuracy: 0.9285\n",
            "Epoch 13/40\n",
            "44399/44399 [==============================] - 11s 258us/step - loss: 0.5087 - main_output_loss: 0.4770 - aux_output_loss: 0.3163 - main_output_accuracy: 0.8534 - aux_output_accuracy: 0.8940 - val_loss: 0.4675 - val_main_output_loss: 0.4365 - val_aux_output_loss: 0.2914 - val_main_output_accuracy: 0.8732 - val_aux_output_accuracy: 0.9096\n",
            "Epoch 14/40\n",
            "44399/44399 [==============================] - 12s 260us/step - loss: 0.4597 - main_output_loss: 0.4297 - aux_output_loss: 0.2988 - main_output_accuracy: 0.8714 - aux_output_accuracy: 0.9027 - val_loss: 0.9817 - val_main_output_loss: 0.9489 - val_aux_output_loss: 0.2730 - val_main_output_accuracy: 0.8035 - val_aux_output_accuracy: 0.9183\n",
            "Epoch 15/40\n",
            "44399/44399 [==============================] - 12s 267us/step - loss: 0.4426 - main_output_loss: 0.4141 - aux_output_loss: 0.2847 - main_output_accuracy: 0.8793 - aux_output_accuracy: 0.9106 - val_loss: 0.3436 - val_main_output_loss: 0.3156 - val_aux_output_loss: 0.2768 - val_main_output_accuracy: 0.9248 - val_aux_output_accuracy: 0.9177\n",
            "Epoch 16/40\n",
            "44399/44399 [==============================] - 12s 260us/step - loss: 0.4121 - main_output_loss: 0.3844 - aux_output_loss: 0.2772 - main_output_accuracy: 0.8873 - aux_output_accuracy: 0.9125 - val_loss: 0.3413 - val_main_output_loss: 0.2981 - val_aux_output_loss: 0.4208 - val_main_output_accuracy: 0.8932 - val_aux_output_accuracy: 0.8627\n",
            "Epoch 17/40\n",
            "44399/44399 [==============================] - 12s 260us/step - loss: 0.3851 - main_output_loss: 0.3588 - aux_output_loss: 0.2642 - main_output_accuracy: 0.8978 - aux_output_accuracy: 0.9184 - val_loss: 0.2652 - val_main_output_loss: 0.2409 - val_aux_output_loss: 0.2497 - val_main_output_accuracy: 0.9399 - val_aux_output_accuracy: 0.9307\n",
            "Epoch 18/40\n",
            "44399/44399 [==============================] - 12s 266us/step - loss: 0.3556 - main_output_loss: 0.3300 - aux_output_loss: 0.2557 - main_output_accuracy: 0.9057 - aux_output_accuracy: 0.9223 - val_loss: 0.3500 - val_main_output_loss: 0.3268 - val_aux_output_loss: 0.2346 - val_main_output_accuracy: 0.9008 - val_aux_output_accuracy: 0.9389\n",
            "Epoch 19/40\n",
            "44399/44399 [==============================] - 12s 261us/step - loss: 0.3349 - main_output_loss: 0.3103 - aux_output_loss: 0.2459 - main_output_accuracy: 0.9080 - aux_output_accuracy: 0.9256 - val_loss: 0.4512 - val_main_output_loss: 0.4258 - val_aux_output_loss: 0.2380 - val_main_output_accuracy: 0.8963 - val_aux_output_accuracy: 0.9380\n",
            "Epoch 20/40\n",
            "44399/44399 [==============================] - 11s 257us/step - loss: 0.3268 - main_output_loss: 0.3025 - aux_output_loss: 0.2433 - main_output_accuracy: 0.9121 - aux_output_accuracy: 0.9263 - val_loss: 0.2559 - val_main_output_loss: 0.2328 - val_aux_output_loss: 0.2510 - val_main_output_accuracy: 0.9442 - val_aux_output_accuracy: 0.9337\n",
            "Epoch 21/40\n",
            "44399/44399 [==============================] - 11s 257us/step - loss: 0.3295 - main_output_loss: 0.3059 - aux_output_loss: 0.2355 - main_output_accuracy: 0.9118 - aux_output_accuracy: 0.9288 - val_loss: 0.3563 - val_main_output_loss: 0.3331 - val_aux_output_loss: 0.2393 - val_main_output_accuracy: 0.8992 - val_aux_output_accuracy: 0.9403\n",
            "Epoch 22/40\n",
            "44399/44399 [==============================] - 11s 255us/step - loss: 0.3019 - main_output_loss: 0.2789 - aux_output_loss: 0.2299 - main_output_accuracy: 0.9198 - aux_output_accuracy: 0.9309 - val_loss: 0.2557 - val_main_output_loss: 0.2341 - val_aux_output_loss: 0.2239 - val_main_output_accuracy: 0.9562 - val_aux_output_accuracy: 0.9498\n",
            "Epoch 23/40\n",
            "44399/44399 [==============================] - 12s 268us/step - loss: 0.2877 - main_output_loss: 0.2649 - aux_output_loss: 0.2279 - main_output_accuracy: 0.9229 - aux_output_accuracy: 0.9310 - val_loss: 0.3625 - val_main_output_loss: 0.3391 - val_aux_output_loss: 0.2351 - val_main_output_accuracy: 0.9039 - val_aux_output_accuracy: 0.9439\n",
            "Epoch 24/40\n",
            "44399/44399 [==============================] - 12s 268us/step - loss: 0.2621 - main_output_loss: 0.2404 - aux_output_loss: 0.2172 - main_output_accuracy: 0.9302 - aux_output_accuracy: 0.9351 - val_loss: 0.2473 - val_main_output_loss: 0.2279 - val_aux_output_loss: 0.2129 - val_main_output_accuracy: 0.9584 - val_aux_output_accuracy: 0.9520\n",
            "Epoch 25/40\n",
            "44399/44399 [==============================] - 11s 254us/step - loss: 0.2639 - main_output_loss: 0.2422 - aux_output_loss: 0.2170 - main_output_accuracy: 0.9290 - aux_output_accuracy: 0.9351 - val_loss: 0.2169 - val_main_output_loss: 0.1981 - val_aux_output_loss: 0.2146 - val_main_output_accuracy: 0.9624 - val_aux_output_accuracy: 0.9569\n",
            "Epoch 26/40\n",
            "44399/44399 [==============================] - 12s 273us/step - loss: 0.2601 - main_output_loss: 0.2386 - aux_output_loss: 0.2154 - main_output_accuracy: 0.9312 - aux_output_accuracy: 0.9357 - val_loss: 0.1945 - val_main_output_loss: 0.1746 - val_aux_output_loss: 0.2066 - val_main_output_accuracy: 0.9635 - val_aux_output_accuracy: 0.9576\n",
            "Epoch 27/40\n",
            "44399/44399 [==============================] - 11s 259us/step - loss: 0.2683 - main_output_loss: 0.2469 - aux_output_loss: 0.2142 - main_output_accuracy: 0.9281 - aux_output_accuracy: 0.9353 - val_loss: 0.1827 - val_main_output_loss: 0.1639 - val_aux_output_loss: 0.2119 - val_main_output_accuracy: 0.9628 - val_aux_output_accuracy: 0.9567\n",
            "Epoch 28/40\n",
            "44399/44399 [==============================] - 12s 261us/step - loss: 0.2499 - main_output_loss: 0.2292 - aux_output_loss: 0.2077 - main_output_accuracy: 0.9326 - aux_output_accuracy: 0.9376 - val_loss: 0.2327 - val_main_output_loss: 0.2140 - val_aux_output_loss: 0.2170 - val_main_output_accuracy: 0.9605 - val_aux_output_accuracy: 0.9558\n",
            "Epoch 29/40\n",
            "44399/44399 [==============================] - 11s 252us/step - loss: 0.2461 - main_output_loss: 0.2257 - aux_output_loss: 0.2049 - main_output_accuracy: 0.9329 - aux_output_accuracy: 0.9383 - val_loss: 0.2047 - val_main_output_loss: 0.1873 - val_aux_output_loss: 0.2062 - val_main_output_accuracy: 0.9626 - val_aux_output_accuracy: 0.9565\n",
            "Epoch 30/40\n",
            "44399/44399 [==============================] - 12s 272us/step - loss: 0.2293 - main_output_loss: 0.2099 - aux_output_loss: 0.1936 - main_output_accuracy: 0.9389 - aux_output_accuracy: 0.9426 - val_loss: 0.1913 - val_main_output_loss: 0.1743 - val_aux_output_loss: 0.2004 - val_main_output_accuracy: 0.9657 - val_aux_output_accuracy: 0.9591\n",
            "Epoch 31/40\n",
            "44399/44399 [==============================] - 12s 270us/step - loss: 0.2362 - main_output_loss: 0.2167 - aux_output_loss: 0.1952 - main_output_accuracy: 0.9368 - aux_output_accuracy: 0.9416 - val_loss: 0.3008 - val_main_output_loss: 0.2714 - val_aux_output_loss: 0.3070 - val_main_output_accuracy: 0.9370 - val_aux_output_accuracy: 0.9281\n",
            "Epoch 32/40\n",
            "44399/44399 [==============================] - 12s 262us/step - loss: 0.2310 - main_output_loss: 0.2116 - aux_output_loss: 0.1941 - main_output_accuracy: 0.9363 - aux_output_accuracy: 0.9418 - val_loss: 0.2981 - val_main_output_loss: 0.2807 - val_aux_output_loss: 0.2003 - val_main_output_accuracy: 0.9181 - val_aux_output_accuracy: 0.9576\n",
            "Epoch 33/40\n",
            "44399/44399 [==============================] - 11s 256us/step - loss: 0.2405 - main_output_loss: 0.2208 - aux_output_loss: 0.1969 - main_output_accuracy: 0.9339 - aux_output_accuracy: 0.9400 - val_loss: 0.1669 - val_main_output_loss: 0.1480 - val_aux_output_loss: 0.2120 - val_main_output_accuracy: 0.9659 - val_aux_output_accuracy: 0.9565\n",
            "Epoch 34/40\n",
            "44399/44399 [==============================] - 12s 263us/step - loss: 0.2323 - main_output_loss: 0.2135 - aux_output_loss: 0.1878 - main_output_accuracy: 0.9375 - aux_output_accuracy: 0.9437 - val_loss: 0.3268 - val_main_output_loss: 0.3074 - val_aux_output_loss: 0.2140 - val_main_output_accuracy: 0.9152 - val_aux_output_accuracy: 0.9557\n",
            "Epoch 35/40\n",
            "44399/44399 [==============================] - 12s 268us/step - loss: 0.2376 - main_output_loss: 0.2189 - aux_output_loss: 0.1872 - main_output_accuracy: 0.9367 - aux_output_accuracy: 0.9435 - val_loss: 0.2235 - val_main_output_loss: 0.2049 - val_aux_output_loss: 0.2141 - val_main_output_accuracy: 0.9631 - val_aux_output_accuracy: 0.9576\n",
            "Epoch 36/40\n",
            "44399/44399 [==============================] - 12s 280us/step - loss: 0.2279 - main_output_loss: 0.2092 - aux_output_loss: 0.1873 - main_output_accuracy: 0.9369 - aux_output_accuracy: 0.9437 - val_loss: 0.3306 - val_main_output_loss: 0.3088 - val_aux_output_loss: 0.2423 - val_main_output_accuracy: 0.9510 - val_aux_output_accuracy: 0.9479\n",
            "Epoch 37/40\n",
            "44399/44399 [==============================] - 12s 260us/step - loss: 0.2183 - main_output_loss: 0.2003 - aux_output_loss: 0.1802 - main_output_accuracy: 0.9395 - aux_output_accuracy: 0.9454 - val_loss: 0.2265 - val_main_output_loss: 0.2090 - val_aux_output_loss: 0.2051 - val_main_output_accuracy: 0.9626 - val_aux_output_accuracy: 0.9557\n",
            "Epoch 38/40\n",
            "44399/44399 [==============================] - 11s 256us/step - loss: 0.2163 - main_output_loss: 0.1981 - aux_output_loss: 0.1821 - main_output_accuracy: 0.9399 - aux_output_accuracy: 0.9452 - val_loss: 0.4489 - val_main_output_loss: 0.4162 - val_aux_output_loss: 0.3263 - val_main_output_accuracy: 0.8881 - val_aux_output_accuracy: 0.9257\n",
            "Epoch 39/40\n",
            "44399/44399 [==============================] - 12s 259us/step - loss: 0.2300 - main_output_loss: 0.2115 - aux_output_loss: 0.1848 - main_output_accuracy: 0.9345 - aux_output_accuracy: 0.9432 - val_loss: 0.2465 - val_main_output_loss: 0.2296 - val_aux_output_loss: 0.1857 - val_main_output_accuracy: 0.9247 - val_aux_output_accuracy: 0.9631\n",
            "Epoch 40/40\n",
            "44399/44399 [==============================] - 11s 255us/step - loss: 0.2206 - main_output_loss: 0.2030 - aux_output_loss: 0.1757 - main_output_accuracy: 0.9376 - aux_output_accuracy: 0.9469 - val_loss: 0.2609 - val_main_output_loss: 0.2447 - val_aux_output_loss: 0.1940 - val_main_output_accuracy: 0.9325 - val_aux_output_accuracy: 0.9586\n"
          ],
          "name": "stdout"
        }
      ]
    },
    {
      "cell_type": "code",
      "metadata": {
        "colab_type": "code",
        "id": "h2F464i7wh4L",
        "outputId": "ef3a60cb-dd01-4693-b7be-3e8abea74bb1",
        "colab": {
          "base_uri": "https://localhost:8080/",
          "height": 734
        }
      },
      "source": [
        "# Define inputs\n",
        "sequence_input = Input(shape = (x_seq_train.shape[1], x_seq_train.shape[2], ), dtype = 'float32', name = 'sequence_input')\n",
        "static_input = Input(shape = (x_static_train.shape[1], ), name = 'static_input')\n",
        "\n",
        "# Network architecture\n",
        "seq_x = GRU(units = 128, )(sequence_input)\n",
        "# seq_x = Dense(64, input_dim=128, kernel_regularizer=regularizers.l2(0.1))(seq_x) #Regularizer\n",
        "# Seperate output for the GRU later\n",
        "seq_aux_output = Dense(1, activation='sigmoid', name='aux_output')(seq_x)\n",
        "\n",
        "# Merge dual inputs\n",
        "x = concatenate([seq_x, static_input])\n",
        "\n",
        "# We stack a deep fully-connected network on the merged inputs\n",
        "x = Dense(128, activation = 'relu')(x)\n",
        "x = Dense(128, activation = 'relu')(x)\n",
        "x = Dropout(0.10)(x)\n",
        "x = Dense(128, activation = 'relu')(x)\n",
        "x = Dense(128, activation = 'relu')(x)\n",
        "# Sigmoid output layer\n",
        "main_output = Dense(1, activation='sigmoid', name='main_output')(x)\n",
        "\n",
        "# optimizer\n",
        "opt = Adam(lr = 0.0001)\n",
        "\n",
        "# build model\n",
        "model = Model(inputs = [sequence_input, static_input], outputs = [main_output, seq_aux_output])\n",
        "model.compile(optimizer = opt, loss = 'binary_crossentropy', metrics = ['accuracy'], loss_weights = [1, 0.1])\n",
        "\n",
        "# save a plot of the model\n",
        "#plot_model(model, to_file='experiment_GRU-DO.svg')\n",
        "\n",
        "# fit the model\n",
        "history = model.fit([x_seq_train, x_static_train], [y_train, y_train], epochs = 20, batch_size = 128,\\\n",
        "                    validation_data=([x_seq_val, x_static_val], [y_val, y_val]),)"
      ],
      "execution_count": 0,
      "outputs": [
        {
          "output_type": "stream",
          "text": [
            "Train on 44399 samples, validate on 5775 samples\n",
            "Epoch 1/20\n",
            "44399/44399 [==============================] - 19s 425us/step - loss: 49.0927 - main_output_loss: 49.0122 - aux_output_loss: 0.6800 - main_output_accuracy: 0.4965 - aux_output_accuracy: 0.5676 - val_loss: 0.3784 - val_main_output_loss: 0.3130 - val_aux_output_loss: 0.5917 - val_main_output_accuracy: 0.9827 - val_aux_output_accuracy: 0.9356\n",
            "Epoch 2/20\n",
            "44399/44399 [==============================] - 18s 409us/step - loss: 4.9454 - main_output_loss: 4.8778 - aux_output_loss: 0.6600 - main_output_accuracy: 0.5056 - aux_output_accuracy: 0.6267 - val_loss: 0.6428 - val_main_output_loss: 0.5773 - val_aux_output_loss: 0.6526 - val_main_output_accuracy: 0.9827 - val_aux_output_accuracy: 0.7287\n",
            "Epoch 3/20\n",
            "44399/44399 [==============================] - 18s 408us/step - loss: 0.7892 - main_output_loss: 0.7256 - aux_output_loss: 0.6356 - main_output_accuracy: 0.5291 - aux_output_accuracy: 0.6579 - val_loss: 0.8780 - val_main_output_loss: 0.8147 - val_aux_output_loss: 0.6199 - val_main_output_accuracy: 0.1468 - val_aux_output_accuracy: 0.7461\n",
            "Epoch 4/20\n",
            "44399/44399 [==============================] - 18s 408us/step - loss: 0.7691 - main_output_loss: 0.7092 - aux_output_loss: 0.5988 - main_output_accuracy: 0.5330 - aux_output_accuracy: 0.6890 - val_loss: 0.7457 - val_main_output_loss: 0.6936 - val_aux_output_loss: 0.5111 - val_main_output_accuracy: 0.7210 - val_aux_output_accuracy: 0.8229\n",
            "Epoch 5/20\n",
            "44399/44399 [==============================] - 18s 408us/step - loss: 0.7573 - main_output_loss: 0.7020 - aux_output_loss: 0.5525 - main_output_accuracy: 0.5382 - aux_output_accuracy: 0.7216 - val_loss: 0.7508 - val_main_output_loss: 0.7044 - val_aux_output_loss: 0.4519 - val_main_output_accuracy: 0.6535 - val_aux_output_accuracy: 0.8189\n",
            "Epoch 6/20\n",
            "44399/44399 [==============================] - 18s 408us/step - loss: 0.7524 - main_output_loss: 0.7023 - aux_output_loss: 0.5013 - main_output_accuracy: 0.5425 - aux_output_accuracy: 0.7555 - val_loss: 0.6534 - val_main_output_loss: 0.6169 - val_aux_output_loss: 0.3560 - val_main_output_accuracy: 0.9375 - val_aux_output_accuracy: 0.8655\n",
            "Epoch 7/20\n",
            "44399/44399 [==============================] - 18s 410us/step - loss: 0.7391 - main_output_loss: 0.6944 - aux_output_loss: 0.4470 - main_output_accuracy: 0.5467 - aux_output_accuracy: 0.7909 - val_loss: 0.6887 - val_main_output_loss: 0.6412 - val_aux_output_loss: 0.4614 - val_main_output_accuracy: 0.9318 - val_aux_output_accuracy: 0.7953\n",
            "Epoch 8/20\n",
            "44399/44399 [==============================] - 18s 414us/step - loss: 0.7259 - main_output_loss: 0.6870 - aux_output_loss: 0.3890 - main_output_accuracy: 0.5557 - aux_output_accuracy: 0.8244 - val_loss: 0.5846 - val_main_output_loss: 0.5455 - val_aux_output_loss: 0.3853 - val_main_output_accuracy: 0.9827 - val_aux_output_accuracy: 0.8286\n",
            "Epoch 9/20\n",
            "44399/44399 [==============================] - 18s 412us/step - loss: 0.7094 - main_output_loss: 0.6752 - aux_output_loss: 0.3413 - main_output_accuracy: 0.6077 - aux_output_accuracy: 0.8556 - val_loss: 0.7017 - val_main_output_loss: 0.6645 - val_aux_output_loss: 0.3598 - val_main_output_accuracy: 0.8487 - val_aux_output_accuracy: 0.8544\n",
            "Epoch 10/20\n",
            "44399/44399 [==============================] - 18s 414us/step - loss: 0.6821 - main_output_loss: 0.6503 - aux_output_loss: 0.3185 - main_output_accuracy: 0.6513 - aux_output_accuracy: 0.8717 - val_loss: 0.5808 - val_main_output_loss: 0.5464 - val_aux_output_loss: 0.3404 - val_main_output_accuracy: 0.9072 - val_aux_output_accuracy: 0.8646\n",
            "Epoch 11/20\n",
            "44399/44399 [==============================] - 18s 411us/step - loss: 0.6383 - main_output_loss: 0.6091 - aux_output_loss: 0.2917 - main_output_accuracy: 0.6806 - aux_output_accuracy: 0.8852 - val_loss: 0.5896 - val_main_output_loss: 0.5580 - val_aux_output_loss: 0.3107 - val_main_output_accuracy: 0.8710 - val_aux_output_accuracy: 0.8760\n",
            "Epoch 12/20\n",
            "44399/44399 [==============================] - 18s 410us/step - loss: 0.6204 - main_output_loss: 0.5924 - aux_output_loss: 0.2798 - main_output_accuracy: 0.6843 - aux_output_accuracy: 0.8884 - val_loss: 0.5238 - val_main_output_loss: 0.4983 - val_aux_output_loss: 0.2600 - val_main_output_accuracy: 0.9354 - val_aux_output_accuracy: 0.9025\n",
            "Epoch 13/20\n",
            "44399/44399 [==============================] - 18s 411us/step - loss: 0.5933 - main_output_loss: 0.5685 - aux_output_loss: 0.2482 - main_output_accuracy: 0.7036 - aux_output_accuracy: 0.9061 - val_loss: 0.5514 - val_main_output_loss: 0.5214 - val_aux_output_loss: 0.3002 - val_main_output_accuracy: 0.8985 - val_aux_output_accuracy: 0.8824\n",
            "Epoch 14/20\n",
            "44399/44399 [==============================] - 18s 407us/step - loss: 0.5862 - main_output_loss: 0.5627 - aux_output_loss: 0.2352 - main_output_accuracy: 0.7061 - aux_output_accuracy: 0.9133 - val_loss: 0.5463 - val_main_output_loss: 0.5094 - val_aux_output_loss: 0.3707 - val_main_output_accuracy: 0.8687 - val_aux_output_accuracy: 0.8604\n",
            "Epoch 15/20\n",
            "44399/44399 [==============================] - 18s 411us/step - loss: 0.5710 - main_output_loss: 0.5491 - aux_output_loss: 0.2194 - main_output_accuracy: 0.7152 - aux_output_accuracy: 0.9213 - val_loss: 0.4640 - val_main_output_loss: 0.4452 - val_aux_output_loss: 0.1915 - val_main_output_accuracy: 0.9657 - val_aux_output_accuracy: 0.9352\n",
            "Epoch 16/20\n",
            "44399/44399 [==============================] - 18s 413us/step - loss: 0.5667 - main_output_loss: 0.5457 - aux_output_loss: 0.2101 - main_output_accuracy: 0.7157 - aux_output_accuracy: 0.9249 - val_loss: 0.5258 - val_main_output_loss: 0.4950 - val_aux_output_loss: 0.3160 - val_main_output_accuracy: 0.8921 - val_aux_output_accuracy: 0.8852\n",
            "Epoch 17/20\n",
            "44399/44399 [==============================] - 18s 406us/step - loss: 0.5581 - main_output_loss: 0.5381 - aux_output_loss: 0.1999 - main_output_accuracy: 0.7226 - aux_output_accuracy: 0.9304 - val_loss: 0.4909 - val_main_output_loss: 0.4677 - val_aux_output_loss: 0.2424 - val_main_output_accuracy: 0.9411 - val_aux_output_accuracy: 0.9153\n",
            "Epoch 18/20\n",
            "44399/44399 [==============================] - 18s 412us/step - loss: 0.5782 - main_output_loss: 0.5581 - aux_output_loss: 0.2008 - main_output_accuracy: 0.7021 - aux_output_accuracy: 0.9284 - val_loss: 0.5384 - val_main_output_loss: 0.5120 - val_aux_output_loss: 0.2727 - val_main_output_accuracy: 0.9243 - val_aux_output_accuracy: 0.9034\n",
            "Epoch 19/20\n",
            "44399/44399 [==============================] - 18s 405us/step - loss: 0.5572 - main_output_loss: 0.5390 - aux_output_loss: 0.1823 - main_output_accuracy: 0.7208 - aux_output_accuracy: 0.9375 - val_loss: 0.5372 - val_main_output_loss: 0.5099 - val_aux_output_loss: 0.2885 - val_main_output_accuracy: 0.9169 - val_aux_output_accuracy: 0.9003\n",
            "Epoch 20/20\n",
            "44399/44399 [==============================] - 18s 409us/step - loss: 0.5556 - main_output_loss: 0.5379 - aux_output_loss: 0.1776 - main_output_accuracy: 0.7211 - aux_output_accuracy: 0.9400 - val_loss: 0.5222 - val_main_output_loss: 0.4969 - val_aux_output_loss: 0.2693 - val_main_output_accuracy: 0.9255 - val_aux_output_accuracy: 0.9086\n"
          ],
          "name": "stdout"
        }
      ]
    },
    {
      "cell_type": "code",
      "metadata": {
        "colab_type": "code",
        "id": "Ew_HIHyi1fDA",
        "outputId": "276660ab-59fd-42ee-d312-214693c854c8",
        "colab": {
          "base_uri": "https://localhost:8080/",
          "height": 241
        }
      },
      "source": [
        "# Round 1\n",
        "# AUC for 48 hrs mortality\n",
        "\n",
        "pred_main, pred_aux = model.predict([x_seq_test, x_static_test])\n",
        "roc = roc_curve(y_test, pred_aux)\n",
        "auc = roc_auc_score(y_test, pred_aux)\n",
        "fig = plt.figure(figsize=(4, 3)) # in inches\n",
        "plt.plot(roc[0], roc[1], color = 'darkorange', label = 'ROC curve\\n(area = %0.2f)' % auc)\n",
        "plt.plot([0, 1], [0, 1], color= 'navy', linestyle = '--')\n",
        "plt.xlabel('False Positive Rate')\n",
        "plt.ylabel('True Positive Rate')\n",
        "plt.title('%s: ROC' % 'GRU: 48 hr Mortality')\n",
        "plt.legend(loc = \"lower right\")\n",
        "# fig_name = 'gru-base.pdf'\n",
        "# fig.savefig(fig_name, bbox_inches='tight')\n",
        "plt.show()"
      ],
      "execution_count": 0,
      "outputs": [
        {
          "output_type": "display_data",
          "data": {
            "image/png": "[encoded data removed]",
            "text/plain": [
              "<Figure size 288x216 with 1 Axes>"
            ]
          },
          "metadata": {
            "tags": [],
            "needs_background": "light"
          }
        }
      ]
    },
    {
      "cell_type": "code",
      "metadata": {
        "colab_type": "code",
        "id": "2bLiL6yii4Hr",
        "outputId": "7e9b4193-4bae-4c74-e020-f1b3a1ed8027",
        "colab": {
          "base_uri": "https://localhost:8080/",
          "height": 241
        }
      },
      "source": [
        "# Round 2\n",
        "# AUC for 48 hrs mortality\n",
        "\n",
        "pred_main, pred_aux = model.predict([x_seq_test, x_static_test])\n",
        "roc = roc_curve(y_test, pred_aux)\n",
        "auc = roc_auc_score(y_test, pred_aux)\n",
        "fig = plt.figure(figsize=(4, 3)) # in inches\n",
        "plt.plot(roc[0], roc[1], color = 'darkorange', label = 'ROC curve\\n(area = %0.2f)' % auc)\n",
        "plt.plot([0, 1], [0, 1], color= 'navy', linestyle = '--')\n",
        "plt.xlabel('False Positive Rate')\n",
        "plt.ylabel('True Positive Rate')\n",
        "plt.title('%s: ROC' % 'GRU: 48 hr Mortality')\n",
        "plt.legend(loc = \"lower right\")\n",
        "# fig_name = 'gru-base.pdf'\n",
        "# fig.savefig(fig_name, bbox_inches='tight')\n",
        "plt.show()"
      ],
      "execution_count": 0,
      "outputs": [
        {
          "output_type": "display_data",
          "data": {
            "image/png": "[encoded data removed]",
            "text/plain": [
              "<Figure size 288x216 with 1 Axes>"
            ]
          },
          "metadata": {
            "tags": [],
            "needs_background": "light"
          }
        }
      ]
    },
    {
      "cell_type": "code",
      "metadata": {
        "id": "Or31I4QFId13",
        "colab_type": "code",
        "colab": {
          "base_uri": "https://localhost:8080/",
          "height": 34
        },
        "outputId": "102bdc2d-31cf-4ef0-fab9-9fd9b1bc56ce"
      },
      "source": [
        "#auprc\n",
        "from sklearn.metrics import average_precision_score\n",
        "average_precision1 = average_precision_score(y_test, pred_aux)\n",
        "average_precision2 = average_precision_score(y_test, pred_main)\n",
        "average_precision1, average_precision2"
      ],
      "execution_count": 32,
      "outputs": [
        {
          "output_type": "execute_result",
          "data": {
            "text/plain": [
              "(0.08493613100845009, 0.09190089297538408)"
            ]
          },
          "metadata": {
            "tags": []
          },
          "execution_count": 32
        }
      ]
    },
    {
      "cell_type": "code",
      "metadata": {
        "id": "DXJHQb4VNEnd",
        "colab_type": "code",
        "colab": {
          "base_uri": "https://localhost:8080/",
          "height": 544
        },
        "outputId": "6ef9d736-d872-43dc-d8f3-bd15609ca377"
      },
      "source": [
        "acc = history.history['aux_output_accuracy']\n",
        "val_acc = history.history['val_aux_output_accuracy']\n",
        "loss = history.history['aux_output_loss']\n",
        "val_loss = history.history['val_aux_output_loss']\n",
        "\n",
        "epochs = range(len(acc))\n",
        "\n",
        "plt.plot(epochs, acc, 'bo', label='Training acc')\n",
        "plt.plot(epochs, val_acc, 'b', label='Validation acc')\n",
        "plt.title('Training and validation accuracy')\n",
        "plt.legend()\n",
        "\n",
        "plt.figure()\n",
        "plt.plot(epochs, loss, 'bo', label='Training loss')\n",
        "plt.plot(epochs, val_loss, 'b', label='Validation loss')\n",
        "plt.title('Training and validation loss')\n",
        "plt.legend()\n",
        "\n",
        "fig_name = 'loss_svg.svg'\n",
        "fig.savefig('loss_svg.svg', bbox_inches='tight')"
      ],
      "execution_count": 41,
      "outputs": [
        {
          "output_type": "display_data",
          "data": {
            "image/png": "[encoded data removed]",
            "text/plain": [
              "<Figure size 432x288 with 1 Axes>"
            ]
          },
          "metadata": {
            "tags": [],
            "needs_background": "light"
          }
        },
        {
          "output_type": "display_data",
          "data": {
            "image/png": "[encoded data removed]",
            "text/plain": [
              "<Figure size 432x288 with 1 Axes>"
            ]
          },
          "metadata": {
            "tags": [],
            "needs_background": "light"
          }
        }
      ]
    },
    {
      "cell_type": "code",
      "metadata": {
        "colab_type": "code",
        "id": "tAT675J_zXvk",
        "outputId": "cbf8f9c2-6ac8-4b0c-c175-84e66461d05d",
        "colab": {
          "base_uri": "https://localhost:8080/",
          "height": 545
        }
      },
      "source": [
        "# 48 hrs mortality prediction\n",
        "# plot training and validation loss and accuracy\n",
        "\n",
        "acc = history.history['aux_output_accuracy']\n",
        "val_acc = history.history['val_aux_output_accuracy']\n",
        "loss = history.history['aux_output_loss']\n",
        "val_loss = history.history['val_aux_output_loss']\n",
        "\n",
        "epochs = range(len(acc))\n",
        "\n",
        "plt.plot(epochs, acc, 'bo', label='Training acc')\n",
        "plt.plot(epochs, val_acc, 'b', label='Validation acc')\n",
        "plt.title('Training and validation accuracy')\n",
        "plt.legend()\n",
        "\n",
        "plt.figure()\n",
        "plt.plot(epochs, loss, 'bo', label='Training loss')\n",
        "plt.plot(epochs, val_loss, 'b', label='Validation loss')\n",
        "plt.title('Training and validation loss')\n",
        "plt.legend()\n",
        "\n",
        "fig_name = 'loss_svg.svg'\n",
        "fig.savefig('loss_svg.svg', bbox_inches='tight')"
      ],
      "execution_count": 0,
      "outputs": [
        {
          "output_type": "display_data",
          "data": {
            "image/png": "[encoded data removed]",
            "text/plain": [
              "<Figure size 432x288 with 1 Axes>"
            ]
          },
          "metadata": {
            "tags": [],
            "needs_background": "light"
          }
        },
        {
          "output_type": "display_data",
          "data": {
            "image/png": "[encoded data removed]",
            "text/plain": [
              "<Figure size 432x288 with 1 Axes>"
            ]
          },
          "metadata": {
            "tags": [],
            "needs_background": "light"
          }
        }
      ]
    }
  ]
}