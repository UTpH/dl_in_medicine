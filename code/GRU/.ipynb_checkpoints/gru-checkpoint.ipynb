{
 "cells": [
  {
   "cell_type": "code",
   "execution_count": 2,
   "metadata": {
    "colab": {
     "base_uri": "https://localhost:8080/",
     "height": 34
    },
    "colab_type": "code",
    "id": "JlIhEQOKqrx1",
    "outputId": "6541874a-8af0-4fa9-da5e-eefc9614ef14"
   },
   "outputs": [
    {
     "name": "stdout",
     "output_type": "stream",
     "text": [
      "Found GPU at: /device:GPU:0\n"
     ]
    }
   ],
   "source": [
    "%tensorflow_version 2.x\n",
    "import tensorflow as tf\n",
    "device_name = tf.test.gpu_device_name()\n",
    "if device_name != '/device:GPU:0':\n",
    "    raise SystemError('GPU device not found')\n",
    "print('Found GPU at: {}'.format(device_name))"
   ]
  },
  {
   "cell_type": "code",
   "execution_count": 3,
   "metadata": {
    "colab": {
     "base_uri": "https://localhost:8080/",
     "height": 34
    },
    "colab_type": "code",
    "id": "8lmSuTCOuJ1s",
    "outputId": "d9f8f0b2-076b-41d6-ea12-a2cc56eae953"
   },
   "outputs": [
    {
     "name": "stderr",
     "output_type": "stream",
     "text": [
      "Using TensorFlow backend.\n"
     ]
    }
   ],
   "source": [
    "import numpy as np\n",
    "import matplotlib as mpl\n",
    "import matplotlib.pyplot as plt\n",
    "from IPython.display import SVG\n",
    "import os\n",
    "import pydotplus\n",
    "\n",
    "import keras\n",
    "from keras.optimizers import Adam, SGD, rmsprop\n",
    "from keras.models import Sequential,Model\n",
    "from keras.layers import Dense, Activation, Dropout, Input, Dropout, concatenate\n",
    "from keras.layers.recurrent import GRU, LSTM\n",
    "from keras.utils import plot_model\n",
    "# keras.utils.vis_utils.pydot = pydot\n",
    "from keras.utils.vis_utils import model_to_dot\n",
    "\n",
    "from sklearn.model_selection import train_test_split\n",
    "from sklearn.metrics import roc_auc_score, roc_curve\n",
    "\n",
    "%matplotlib inline"
   ]
  },
  {
   "cell_type": "code",
   "execution_count": 0,
   "metadata": {
    "colab": {},
    "colab_type": "code",
    "id": "N7zPdsOyvN05"
   },
   "outputs": [],
   "source": [
    "data = np.load(\"drive/My Drive/imputed-normed-ep_1_24.npz\", allow_pickle=True)"
   ]
  },
  {
   "cell_type": "code",
   "execution_count": 0,
   "metadata": {
    "colab": {},
    "colab_type": "code",
    "id": "xF7rf8d6vSer"
   },
   "outputs": [],
   "source": [
    "features_sequence = data['ep_tdata'].astype(np.float32) # 12 time series features\n",
    "features_static = data['adm_features_all'].astype(np.float32) # 5 non-ts features,the unit of age: day\n",
    "labels = data[\"adm_labels_all\"][:, 1].astype(np.float32) # 24 hrs mortality"
   ]
  },
  {
   "cell_type": "code",
   "execution_count": 0,
   "metadata": {
    "colab": {},
    "colab_type": "code",
    "id": "eQreFVLCXH5D"
   },
   "outputs": [],
   "source": [
    "trans = [0]*features_sequence.shape[0]"
   ]
  },
  {
   "cell_type": "code",
   "execution_count": 0,
   "metadata": {
    "colab": {},
    "colab_type": "code",
    "id": "cZeO7l2ArIOT"
   },
   "outputs": [],
   "source": [
    "for i in range(features_sequence.shape[0]):\n",
    "    trans[i] = features_sequence[i].T"
   ]
  },
  {
   "cell_type": "code",
   "execution_count": 0,
   "metadata": {
    "colab": {},
    "colab_type": "code",
    "id": "Kbw09MyjYYgm"
   },
   "outputs": [],
   "source": [
    "trans= np.array(trans)"
   ]
  },
  {
   "cell_type": "code",
   "execution_count": 27,
   "metadata": {
    "colab": {
     "base_uri": "https://localhost:8080/",
     "height": 34
    },
    "colab_type": "code",
    "id": "1ktgT2X8Ya8D",
    "outputId": "149c3c71-ec6c-437e-f52f-2fe0d51fabda"
   },
   "outputs": [
    {
     "data": {
      "text/plain": [
       "(36093, 12, 24)"
      ]
     },
     "execution_count": 27,
     "metadata": {
      "tags": []
     },
     "output_type": "execute_result"
    }
   ],
   "source": [
    "trans.shape"
   ]
  },
  {
   "cell_type": "code",
   "execution_count": 0,
   "metadata": {
    "colab": {},
    "colab_type": "code",
    "id": "DcKljhWAYjZO"
   },
   "outputs": [],
   "source": [
    "features_sequence = trans"
   ]
  },
  {
   "cell_type": "code",
   "execution_count": 0,
   "metadata": {
    "colab": {},
    "colab_type": "code",
    "id": "nlcJhmUlwbMQ"
   },
   "outputs": [],
   "source": [
    "x_seq_full_train, x_seq_test, x_static_full_train, x_static_test, y_full_train, y_test = train_test_split(\n",
    "    features_sequence, features_static, labels, test_size = 0.20, random_state = 2020)\n",
    "\n",
    "x_seq_train, x_seq_val, x_static_train, x_static_val, y_train, y_val = train_test_split(\n",
    "    x_seq_full_train, x_static_full_train, y_full_train, test_size = 0.20, random_state = 2020)"
   ]
  },
  {
   "cell_type": "code",
   "execution_count": 14,
   "metadata": {
    "colab": {
     "base_uri": "https://localhost:8080/",
     "height": 34
    },
    "colab_type": "code",
    "id": "X6V2blvUitpL",
    "outputId": "e6561fba-dc35-4352-fcc5-d1fca55536e1"
   },
   "outputs": [
    {
     "data": {
      "text/plain": [
       "5775"
      ]
     },
     "execution_count": 14,
     "metadata": {
      "tags": []
     },
     "output_type": "execute_result"
    }
   ],
   "source": [
    "len(y_val)"
   ]
  },
  {
   "cell_type": "code",
   "execution_count": 0,
   "metadata": {
    "colab": {},
    "colab_type": "code",
    "id": "WwzBWfKZwddK"
   },
   "outputs": [],
   "source": [
    "def impute_mean(source_data, input_data):\n",
    "    '''\n",
    "    Takes the source data, and uses it to determine means for all\n",
    "    features; it then applies them to the input data.\n",
    "    \n",
    "    inputs:\n",
    "    source_data: a tensor to provide means\n",
    "    input_data: the data to fill in NA for\n",
    "    \n",
    "    output:\n",
    "    output_data: data with nans imputed for each feature\n",
    "    \n",
    "    '''\n",
    "    \n",
    "    output_data = input_data.copy()\n",
    "    \n",
    "    for feature in range(source_data.shape[1]):\n",
    "        feature_mean = np.nanmean(source_data[:, feature, :][np.where(source_data[:, feature, :] != 0)])\n",
    "        ind_output_data = np.where(np.isnan(output_data[:, feature, :]))\n",
    "        output_data[:, feature, :][ind_output_data] = feature_mean\n",
    "    return output_data"
   ]
  },
  {
   "cell_type": "code",
   "execution_count": 0,
   "metadata": {
    "colab": {},
    "colab_type": "code",
    "id": "6vuZUtsRwf3g"
   },
   "outputs": [],
   "source": [
    "x_seq_train_original = x_seq_train.copy()\n",
    "x_seq_train = impute_mean(x_seq_train_original, x_seq_train)\n",
    "x_seq_val = impute_mean(x_seq_train_original, x_seq_val)\n",
    "x_seq_test = impute_mean(x_seq_train_original, x_seq_test)"
   ]
  },
  {
   "cell_type": "code",
   "execution_count": 46,
   "metadata": {
    "colab": {
     "base_uri": "https://localhost:8080/",
     "height": 34
    },
    "colab_type": "code",
    "id": "n__YiT0OEnz7",
    "outputId": "5ae9152a-575f-43f2-85b9-0dfc72869215"
   },
   "outputs": [
    {
     "data": {
      "text/plain": [
       "(23099, 12, 24)"
      ]
     },
     "execution_count": 46,
     "metadata": {
      "tags": []
     },
     "output_type": "execute_result"
    }
   ],
   "source": [
    "x_seq_train_original.shape"
   ]
  },
  {
   "cell_type": "code",
   "execution_count": 0,
   "metadata": {
    "colab": {},
    "colab_type": "code",
    "id": "902zXZdAFcsV"
   },
   "outputs": [],
   "source": [
    "from keras.layers import Masking, Activation, Input"
   ]
  },
  {
   "cell_type": "code",
   "execution_count": 55,
   "metadata": {
    "colab": {
     "base_uri": "https://localhost:8080/",
     "height": 394
    },
    "colab_type": "code",
    "id": "h2F464i7wh4L",
    "outputId": "b42249e7-0d66-4b63-8c95-f97c7e147dff"
   },
   "outputs": [
    {
     "name": "stdout",
     "output_type": "stream",
     "text": [
      "Train on 23099 samples, validate on 5775 samples\n",
      "Epoch 1/10\n",
      "23099/23099 [==============================] - 13s 551us/step - loss: 2.6613 - main_output_loss: 2.6494 - aux_output_loss: 0.0565 - main_output_accuracy: 0.9923 - aux_output_accuracy: 0.9894 - val_loss: 0.6330 - val_main_output_loss: 0.6227 - val_aux_output_loss: 0.0249 - val_main_output_accuracy: 0.9964 - val_aux_output_accuracy: 0.9953\n",
      "Epoch 2/10\n",
      "23099/23099 [==============================] - 12s 507us/step - loss: 1.5648 - main_output_loss: 1.5597 - aux_output_loss: 0.0241 - main_output_accuracy: 0.9918 - aux_output_accuracy: 0.9952 - val_loss: 0.0957 - val_main_output_loss: 0.0900 - val_aux_output_loss: 0.0244 - val_main_output_accuracy: 0.9964 - val_aux_output_accuracy: 0.9960\n",
      "Epoch 3/10\n",
      "23099/23099 [==============================] - 12s 508us/step - loss: 1.1924 - main_output_loss: 1.1875 - aux_output_loss: 0.0235 - main_output_accuracy: 0.9927 - aux_output_accuracy: 0.9963 - val_loss: 0.3284 - val_main_output_loss: 0.3208 - val_aux_output_loss: 0.0242 - val_main_output_accuracy: 0.9964 - val_aux_output_accuracy: 0.9964\n",
      "Epoch 4/10\n",
      "23099/23099 [==============================] - 11s 494us/step - loss: 1.0133 - main_output_loss: 1.0085 - aux_output_loss: 0.0231 - main_output_accuracy: 0.9924 - aux_output_accuracy: 0.9965 - val_loss: 0.1801 - val_main_output_loss: 0.1737 - val_aux_output_loss: 0.0243 - val_main_output_accuracy: 0.9964 - val_aux_output_accuracy: 0.9964\n",
      "Epoch 5/10\n",
      "23099/23099 [==============================] - 12s 503us/step - loss: 0.7763 - main_output_loss: 0.7724 - aux_output_loss: 0.0228 - main_output_accuracy: 0.9930 - aux_output_accuracy: 0.9965 - val_loss: 0.8473 - val_main_output_loss: 0.8354 - val_aux_output_loss: 0.0240 - val_main_output_accuracy: 0.9964 - val_aux_output_accuracy: 0.9964\n",
      "Epoch 6/10\n",
      "23099/23099 [==============================] - 12s 529us/step - loss: 0.6152 - main_output_loss: 0.6106 - aux_output_loss: 0.0225 - main_output_accuracy: 0.9930 - aux_output_accuracy: 0.9965 - val_loss: 0.1896 - val_main_output_loss: 0.1832 - val_aux_output_loss: 0.0238 - val_main_output_accuracy: 0.9964 - val_aux_output_accuracy: 0.9964\n",
      "Epoch 7/10\n",
      "23099/23099 [==============================] - 12s 507us/step - loss: 0.5189 - main_output_loss: 0.5150 - aux_output_loss: 0.0224 - main_output_accuracy: 0.9925 - aux_output_accuracy: 0.9965 - val_loss: 0.4435 - val_main_output_loss: 0.4350 - val_aux_output_loss: 0.0237 - val_main_output_accuracy: 0.9964 - val_aux_output_accuracy: 0.9964\n",
      "Epoch 8/10\n",
      "23099/23099 [==============================] - 12s 513us/step - loss: 0.4846 - main_output_loss: 0.4801 - aux_output_loss: 0.0221 - main_output_accuracy: 0.9922 - aux_output_accuracy: 0.9965 - val_loss: 0.3291 - val_main_output_loss: 0.3216 - val_aux_output_loss: 0.0236 - val_main_output_accuracy: 0.9964 - val_aux_output_accuracy: 0.9964\n",
      "Epoch 9/10\n",
      "23099/23099 [==============================] - 12s 506us/step - loss: 0.4218 - main_output_loss: 0.4173 - aux_output_loss: 0.0221 - main_output_accuracy: 0.9925 - aux_output_accuracy: 0.9965 - val_loss: 0.5636 - val_main_output_loss: 0.5542 - val_aux_output_loss: 0.0236 - val_main_output_accuracy: 0.9964 - val_aux_output_accuracy: 0.9964\n",
      "Epoch 10/10\n",
      "23099/23099 [==============================] - 11s 490us/step - loss: 0.3571 - main_output_loss: 0.3527 - aux_output_loss: 0.0218 - main_output_accuracy: 0.9925 - aux_output_accuracy: 0.9965 - val_loss: 0.0487 - val_main_output_loss: 0.0436 - val_aux_output_loss: 0.0235 - val_main_output_accuracy: 0.9964 - val_aux_output_accuracy: 0.9964\n"
     ]
    }
   ],
   "source": [
    "# Define inputs\n",
    "sequence_input = Input(shape = (x_seq_train.shape[1], x_seq_train.shape[2], ), dtype = 'float32', name = 'sequence_input')\n",
    "static_input = Input(shape = (x_static_train.shape[1], ), name = 'static_input')\n",
    "# sequence_input = Masking(mask_value=-1, input_shape=(x_seq_train.shape[1], x_seq_train.shape[2], ))(sequence_input)\n",
    "# model.add(Masking(mask_value=0., input_shape=(timesteps, features)))\n",
    "# Network architecture\n",
    "seq_x = GRU(units = 128)(sequence_input)\n",
    "\n",
    "# Seperate output for the GRU later\n",
    "seq_aux_output = Dense(1, activation='sigmoid', name='aux_output')(seq_x)\n",
    "\n",
    "# Merge dual inputs\n",
    "x = concatenate([seq_x, static_input])\n",
    "\n",
    "# We stack a deep fully-connected network on the merged inputs\n",
    "x = Dense(128, activation = 'relu')(x)\n",
    "x = Dense(128, activation = 'relu')(x)\n",
    "x = Dropout(0.10)(x)\n",
    "x = Dense(128, activation = 'relu')(x)\n",
    "x = Dense(128, activation = 'relu')(x)\n",
    "# Sigmoid output layer\n",
    "main_output = Dense(1, activation='sigmoid', name='main_output')(x)\n",
    "\n",
    "# optimizer\n",
    "opt = Adam(lr = 0.0001)\n",
    "\n",
    "# build model\n",
    "model = Model(inputs = [sequence_input, static_input], outputs = [main_output, seq_aux_output])\n",
    "model.compile(optimizer = opt, loss = 'binary_crossentropy', metrics = ['accuracy'], loss_weights = [1, 0.2])\n",
    "\n",
    "# save a plot of the model\n",
    "#plot_model(model, to_file='experiment_GRU-DO.svg')\n",
    "\n",
    "# fit the model\n",
    "history = model.fit([x_seq_train, x_static_train], [y_train, y_train], epochs = 10, batch_size = 64,\\\n",
    "                    validation_data=([x_seq_val, x_static_val], [y_val, y_val]),)"
   ]
  },
  {
   "cell_type": "code",
   "execution_count": 59,
   "metadata": {
    "colab": {
     "base_uri": "https://localhost:8080/",
     "height": 241
    },
    "colab_type": "code",
    "id": "PemsqWP8KMGl",
    "outputId": "2226c10e-db40-44a8-bd73-0cefa952bd82"
   },
   "outputs": [
    {
     "data": {
      "image/png": "[encoded data removed]",
      "text/plain": [
       "<Figure size 288x216 with 1 Axes>"
      ]
     },
     "metadata": {
      "needs_background": "light",
      "tags": []
     },
     "output_type": "display_data"
    }
   ],
   "source": [
    "# the difference of pred_main and pred_aux is that pred_main uses both time series data and non-ts data, but pred_aux only uses the time series data to do prediction\n",
    "\n",
    "pred_main, pred_aux = model.predict([x_seq_test, x_static_test])\n",
    "roc = roc_curve(y_test, pred_main)\n",
    "auc = roc_auc_score(y_test, pred_main)\n",
    "fig = plt.figure(figsize=(4, 3)) # in inches\n",
    "plt.plot(roc[0], roc[1], color = 'darkorange', label = 'ROC curve\\n(area = %0.2f)' % auc)\n",
    "plt.plot([0, 1], [0, 1], color= 'navy', linestyle = '--')\n",
    "plt.xlabel('False Positive Rate')\n",
    "plt.ylabel('True Positive Rate')\n",
    "plt.title('%s: ROC' % 'GRU-base')\n",
    "plt.legend(loc = \"lower right\")\n",
    "# fig_name = 'gru-base.pdf'\n",
    "# fig.savefig(fig_name, bbox_inches='tight')\n",
    "plt.show()"
   ]
  },
  {
   "cell_type": "code",
   "execution_count": 60,
   "metadata": {
    "colab": {
     "base_uri": "https://localhost:8080/",
     "height": 241
    },
    "colab_type": "code",
    "id": "uknQs2QdKNKt",
    "outputId": "a0b46fba-a578-43fa-a443-9b4c47763883"
   },
   "outputs": [
    {
     "data": {
      "image/png": "[encoded data removed]",
      "text/plain": [
       "<Figure size 288x216 with 1 Axes>"
      ]
     },
     "metadata": {
      "needs_background": "light",
      "tags": []
     },
     "output_type": "display_data"
    }
   ],
   "source": [
    "pred_main, pred_aux = model.predict([x_seq_test, x_static_test])\n",
    "roc = roc_curve(y_test, pred_aux)\n",
    "auc = roc_auc_score(y_test, pred_aux)\n",
    "fig = plt.figure(figsize=(4, 3)) # in inches\n",
    "plt.plot(roc[0], roc[1], color = 'darkorange', label = 'ROC curve\\n(area = %0.2f)' % auc)\n",
    "plt.plot([0, 1], [0, 1], color= 'navy', linestyle = '--')\n",
    "plt.xlabel('False Positive Rate')\n",
    "plt.ylabel('True Positive Rate')\n",
    "plt.title('%s: ROC' % 'GRU-base')\n",
    "plt.legend(loc = \"lower right\")\n",
    "# fig_name = 'gru-base.pdf'\n",
    "# fig.savefig(fig_name, bbox_inches='tight')\n",
    "plt.show()"
   ]
  },
  {
   "cell_type": "code",
   "execution_count": 20,
   "metadata": {
    "colab": {
     "base_uri": "https://localhost:8080/",
     "height": 241
    },
    "colab_type": "code",
    "id": "rPxPaG-v9tPn",
    "outputId": "ced61084-fc2f-4227-d2ce-6edcaf0a07d5"
   },
   "outputs": [
    {
     "data": {
      "image/png": "[encoded data removed]",
      "text/plain": [
       "<Figure size 288x216 with 1 Axes>"
      ]
     },
     "metadata": {
      "needs_background": "light",
      "tags": []
     },
     "output_type": "display_data"
    }
   ],
   "source": [
    "# AUC for the totoal mortality prediction\n",
    "\n",
    "pred_main, pred_aux = model.predict([x_seq_test, x_static_test])\n",
    "roc = roc_curve(y_test, pred_main)\n",
    "auc = roc_auc_score(y_test, pred_main)\n",
    "fig = plt.figure(figsize=(4, 3)) # in inches\n",
    "plt.plot(roc[0], roc[1], color = 'darkorange', label = 'ROC curve\\n(area = %0.2f)' % auc)\n",
    "plt.plot([0, 1], [0, 1], color= 'navy', linestyle = '--')\n",
    "plt.xlabel('False Positive Rate')\n",
    "plt.ylabel('True Positive Rate')\n",
    "plt.title('%s: ROC' % 'GRU-base')\n",
    "plt.legend(loc = \"lower right\")\n",
    "# fig_name = 'gru-base.pdf'\n",
    "# fig.savefig(fig_name, bbox_inches='tight')\n",
    "plt.show()"
   ]
  },
  {
   "cell_type": "code",
   "execution_count": 21,
   "metadata": {
    "colab": {
     "base_uri": "https://localhost:8080/",
     "height": 241
    },
    "colab_type": "code",
    "id": "Gy33xq9sJc0M",
    "outputId": "d3a253d2-a621-4ed8-a7f2-35a87fffdf4a"
   },
   "outputs": [
    {
     "data": {
      "image/png": "[encoded data removed]",
      "text/plain": [
       "<Figure size 288x216 with 1 Axes>"
      ]
     },
     "metadata": {
      "needs_background": "light",
      "tags": []
     },
     "output_type": "display_data"
    }
   ],
   "source": [
    "# AUC for the totoal mortality prediction\n",
    "pred_main, pred_aux = model.predict([x_seq_test, x_static_test])\n",
    "roc = roc_curve(y_test, pred_aux)\n",
    "auc = roc_auc_score(y_test, pred_aux)\n",
    "fig = plt.figure(figsize=(4, 3)) # in inches\n",
    "plt.plot(roc[0], roc[1], color = 'darkorange', label = 'ROC curve\\n(area = %0.2f)' % auc)\n",
    "plt.plot([0, 1], [0, 1], color= 'navy', linestyle = '--')\n",
    "plt.xlabel('False Positive Rate')\n",
    "plt.ylabel('True Positive Rate')\n",
    "plt.title('%s: ROC' % 'GRU-base')\n",
    "plt.legend(loc = \"lower right\")\n",
    "# fig_name = 'gru-base.pdf'\n",
    "# fig.savefig(fig_name, bbox_inches='tight')\n",
    "plt.show()"
   ]
  },
  {
   "cell_type": "code",
   "execution_count": 168,
   "metadata": {
    "colab": {
     "base_uri": "https://localhost:8080/",
     "height": 241
    },
    "colab_type": "code",
    "id": "xjqsLZZ1pNXn",
    "outputId": "5a5e7c42-78d7-4900-be6f-5b0bae0fc204"
   },
   "outputs": [
    {
     "data": {
      "image/png": "[encoded data removed]",
      "text/plain": [
       "<Figure size 288x216 with 1 Axes>"
      ]
     },
     "metadata": {
      "needs_background": "light",
      "tags": []
     },
     "output_type": "display_data"
    }
   ],
   "source": [
    "# the best result for 24hrs mortality prediction\n",
    "\n",
    "pred_main, pred_aux = model.predict([x_seq_test, x_static_test])\n",
    "roc = roc_curve(y_test, pred_aux)\n",
    "auc = roc_auc_score(y_test, pred_aux)\n",
    "fig = plt.figure(figsize=(4, 3)) # in inches\n",
    "plt.plot(roc[0], roc[1], color = 'darkorange', label = 'ROC curve\\n(area = %0.2f)' % auc)\n",
    "plt.plot([0, 1], [0, 1], color= 'navy', linestyle = '--')\n",
    "plt.xlabel('False Positive Rate')\n",
    "plt.ylabel('True Positive Rate')\n",
    "plt.title('%s: ROC' % 'GRU-base')\n",
    "plt.legend(loc = \"lower right\")\n",
    "# fig_name = 'gru-base.pdf'\n",
    "# fig.savefig(fig_name, bbox_inches='tight')\n",
    "plt.show()"
   ]
  },
  {
   "cell_type": "code",
   "execution_count": 58,
   "metadata": {
    "colab": {
     "base_uri": "https://localhost:8080/",
     "height": 545
    },
    "colab_type": "code",
    "id": "Ifzs6h8sxTIP",
    "outputId": "a330688b-9918-43da-d0bc-9c3df699c552"
   },
   "outputs": [
    {
     "data": {
      "image/png": "[encoded data removed]",
      "text/plain": [
       "<Figure size 432x288 with 1 Axes>"
      ]
     },
     "metadata": {
      "needs_background": "light",
      "tags": []
     },
     "output_type": "display_data"
    },
    {
     "data": {
      "image/png": "[encoded data removed]",
      "text/plain": [
       "<Figure size 432x288 with 1 Axes>"
      ]
     },
     "metadata": {
      "needs_background": "light",
      "tags": []
     },
     "output_type": "display_data"
    }
   ],
   "source": [
    "# plot training and validation loss and accuracy\n",
    "\n",
    "acc = history.history['main_output_accuracy']\n",
    "val_acc = history.history['val_main_output_accuracy']\n",
    "loss = history.history['main_output_loss']\n",
    "val_loss = history.history['val_loss']\n",
    "\n",
    "epochs = range(len(acc))\n",
    "\n",
    "plt.plot(epochs, acc, 'bo', label='Training acc')\n",
    "plt.plot(epochs, val_acc, 'b', label='Validation acc')\n",
    "plt.title('Training and validation accuracy')\n",
    "plt.legend()\n",
    "\n",
    "plt.figure()\n",
    "plt.plot(epochs, loss, 'bo', label='Training loss')\n",
    "plt.plot(epochs, val_loss, 'b', label='Validation loss')\n",
    "plt.title('Training and validation loss')\n",
    "plt.legend()\n",
    "\n",
    "fig_name = 'loss_svg.svg'\n",
    "fig.savefig('loss_svg.svg', bbox_inches='tight')"
   ]
  }
 ],
 "metadata": {
  "accelerator": "GPU",
  "colab": {
   "name": "Untitled2.ipynb",
   "provenance": []
  },
  "kernelspec": {
   "display_name": "Python 3",
   "language": "python",
   "name": "python3"
  },
  "language_info": {
   "codemirror_mode": {
    "name": "ipython",
    "version": 3
   },
   "file_extension": ".py",
   "mimetype": "text/x-python",
   "name": "python",
   "nbconvert_exporter": "python",
   "pygments_lexer": "ipython3",
   "version": "3.6.9"
  }
 },
 "nbformat": 4,
 "nbformat_minor": 1
}
