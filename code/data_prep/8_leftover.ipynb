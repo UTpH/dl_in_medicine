{
 "cells": [
  {
   "cell_type": "code",
   "execution_count": 1,
   "metadata": {},
   "outputs": [],
   "source": [
    "from __future__ import print_function\n",
    "\n",
    "import psycopg2\n",
    "import datetime\n",
    "import sys\n",
    "from operator import itemgetter, attrgetter, methodcaller\n",
    "import numpy as np\n",
    "import itertools\n",
    "import os.path\n",
    "import matplotlib.pyplot as plt\n",
    "import math\n",
    "from multiprocessing import Pool, cpu_count\n",
    "import re\n",
    "import traceback\n",
    "import shutil\n",
    "from collections import OrderedDict\n",
    "\n",
    "from utils import getConnection\n",
    "from utils import parseUnitsMap\n",
    "from utils import parseNum\n",
    "from utils import sparsify\n",
    "\n",
    "# %matplotlib inline"
   ]
  },
  {
   "cell_type": "code",
   "execution_count": 2,
   "metadata": {},
   "outputs": [],
   "source": [
    "conn = getConnection()\n",
    "UNITSMAP = parseUnitsMap()"
   ]
  },
  {
   "cell_type": "code",
   "execution_count": null,
   "metadata": {},
   "outputs": [],
   "source": [
    "conn = getConnection()\n",
    "cur = conn.cursor()\n",
    "indicescomm = '''set search_path to mimiciii; DROP INDEX IF EXISTS chartevents_{0}_idx02;\n",
    "CREATE INDEX chartevents_{0}_idx02 ON chartevents_{0} (hadm_id);'''\n",
    "for t in range(1, 18):\n",
    "    sql = indicescomm.format(t)\n",
    "    #print(\"SQL cmd : \",sql)\n",
    "    cur.execute(sql)\n",
    "    conn.commit()"
   ]
  },
  {
   "cell_type": "code",
   "execution_count": null,
   "metadata": {},
   "outputs": [],
   "source": [
    "np_load_old = np.load\n",
    "\n",
    "# modify the default parameters of np.load\n",
    "np.load = lambda *a,**k: np_load_old(*a, allow_pickle=True)\n",
    "\n",
    "_adm = np.load('res/admission_ids.npy').tolist()\n",
    "admission_ids = _adm['admission_ids']\n",
    "admission_ids_txt = _adm['admission_ids_txt']\n",
    "\n",
    "_adm_first = np.load('res/admission_first_ids.npy').tolist()\n",
    "admission_first_ids = _adm['admission_ids']"
   ]
  },
  {
   "cell_type": "code",
   "execution_count": null,
   "metadata": {},
   "outputs": [],
   "source": [
    "def copy_first_admissions(aid):\n",
    "    if aid in admission_first_ids_set:\n",
    "        res = np.load(os.path.join('admdata', 'adm-%.6d.npy' % aid))\n",
    "        np.save(os.path.join('admdata_first', 'adm-%.6d.npy' % aid), res)\n",
    "        \n",
    "#p = Pool()\n",
    "#p.map(copy_first_admissions, admission_ids)\n",
    "copy_first_admissions(admission_ids)\n",
    "#p.close()\n",
    "#p.join()"
   ]
  },
  {
   "cell_type": "code",
   "execution_count": null,
   "metadata": {},
   "outputs": [],
   "source": []
  }
 ],
 "metadata": {
  "kernelspec": {
   "display_name": "Python 3",
   "language": "python",
   "name": "python3"
  },
  "language_info": {
   "codemirror_mode": {
    "name": "ipython",
    "version": 3
   },
   "file_extension": ".py",
   "mimetype": "text/x-python",
   "name": "python",
   "nbconvert_exporter": "python",
   "pygments_lexer": "ipython3",
   "version": "3.7.5"
  }
 },
 "nbformat": 4,
 "nbformat_minor": 2
}
