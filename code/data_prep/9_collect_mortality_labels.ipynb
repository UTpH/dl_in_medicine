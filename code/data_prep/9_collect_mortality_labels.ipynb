{
 "cells": [
  {
   "cell_type": "markdown",
   "metadata": {},
   "source": [
    "# Collect mortality labels\n",
    "\n",
    "We use this script to calculate mortality labels and store them in folder './admdata_times'. Labels generated here will be used in later steps of pre-processing."
   ]
  },
  {
   "cell_type": "code",
   "execution_count": 1,
   "metadata": {},
   "outputs": [],
   "source": [
    "from __future__ import print_function\n",
    "\n",
    "import psycopg2\n",
    "import datetime\n",
    "import sys\n",
    "from operator import itemgetter, attrgetter, methodcaller\n",
    "import numpy as np\n",
    "import itertools\n",
    "import os.path\n",
    "import matplotlib.pyplot as plt\n",
    "import math\n",
    "from multiprocessing import Pool, cpu_count\n",
    "import re\n",
    "import traceback\n",
    "import random\n",
    "import shutil\n",
    "\n",
    "from utils import getConnection\n",
    "from utils import parseUnitsMap\n",
    "from utils import parseNum\n",
    "from utils import sparsify\n",
    "\n",
    "random.seed(0)\n",
    "\n",
    "%matplotlib inline"
   ]
  },
  {
   "cell_type": "code",
   "execution_count": 2,
   "metadata": {},
   "outputs": [],
   "source": [
    "admdir = 'admdata/'\n",
    "admaids = [re.match(r'adm\\-(\\d+)\\.npy', x) for x in os.listdir(admdir)]\n",
    "admaids = sorted([int(x.group(1)) for x in admaids if x is not None])"
   ]
  },
  {
   "cell_type": "code",
   "execution_count": 3,
   "metadata": {},
   "outputs": [
    {
     "name": "stdout",
     "output_type": "stream",
     "text": [
      "True\n"
     ]
    }
   ],
   "source": [
    "print(179979 in admaids)"
   ]
  },
  {
   "cell_type": "markdown",
   "metadata": {},
   "source": [
    "## Generate mortality labels\n",
    "\n",
    "Here we collect all timestamps related to mortality labels.\n",
    "Situations when the labels should be 1:\n",
    "- in-hospital mortality: deathtime is not null\n",
    "- 48/72 mortality: deathtime - icuintime <= 48/72hrs\n",
    "- 30d/1yr mortality: dod - dischtime <= 30d/1yr"
   ]
  },
  {
   "cell_type": "code",
   "execution_count": 4,
   "metadata": {},
   "outputs": [],
   "source": [
    "# Here we collect all timestamps related to our labels\n",
    "# we need: dob, dod, admittime, first_icuintime\n",
    "# admissions: admittime, dischtime, deathtime\n",
    "# patients: dob, dod\n",
    "# icustays: intime, outtime\n",
    "timedir = 'admdata_times/'\n",
    "if not os.path.exists(timedir):\n",
    "    os.makedirs(timedir)\n",
    "\n",
    "def collect_timestamps(aid):\n",
    "    conn = getConnection()\n",
    "    cur = conn.cursor()\n",
    "    sql = 'select subject_id, admittime, dischtime, deathtime from mimiciii.admissions where hadm_id={0}'.format(aid)\n",
    "    cur.execute(sql)\n",
    "    res = cur.fetchone()\n",
    "    subject_id = res[0]\n",
    "    admittime, dischtime, deathtime = res[1], res[2], res[3]\n",
    "    sql = 'select dob, dod from mimiciii.patients where subject_id={0}'.format(subject_id)\n",
    "    cur.execute(sql)\n",
    "    res = cur.fetchone()\n",
    "    dob, dod = res[0], res[1]\n",
    "    sql = 'select intime, outtime from mimiciii.icustays where hadm_id={0} order by intime'.format(aid)\n",
    "    cur.execute(sql)\n",
    "    icutimepairs = cur.fetchall()\n",
    "    data = {\n",
    "        'dob':dob,\n",
    "        'dod':dod,\n",
    "        'admittime':admittime,\n",
    "        'dischtime':dischtime,\n",
    "        'deathtime':deathtime,\n",
    "        'icustays':icutimepairs\n",
    "    }\n",
    "    np.save(os.path.join(timedir, 'adm-%.6d.npy' % aid), data)\n",
    "\n",
    "timelabeldir = 'admdata_timelabels/'\n",
    "if not os.path.exists(timelabeldir):\n",
    "    os.makedirs(timelabeldir)\n",
    "    \n",
    "np_load_old = np.load\n",
    "\n",
    "# modify the default parameters of np.load\n",
    "np.load = lambda *a,**k: np_load_old(*a, allow_pickle=True)\n",
    "\n",
    "def parse_labels(aid):\n",
    "    times = np.load(os.path.join(timedir, 'adm-%.6d.npy' % aid)).tolist()\n",
    "    dob = times['dob']\n",
    "    dod = times['dod']\n",
    "    admittime = times['admittime']\n",
    "    dischtime = times['dischtime']\n",
    "    deathtime = times['deathtime']\n",
    "    icustays = times['icustays']\n",
    "    mor, mor24, mor48, mor72, mor30d, mor1y = 0, 0, 0, 0, 0, 0\n",
    "    # choose starttime, here choose first icustay time in priority\n",
    "    try:\n",
    "        starttime = icustays[0][0]\n",
    "    except:\n",
    "        starttime = admittime\n",
    "    if starttime is None:\n",
    "        data = {\n",
    "            'mor':None,\n",
    "            'mor24':None,\n",
    "            'mor48':None,\n",
    "            'mor72':None,\n",
    "            'mor30d':None,\n",
    "            'mor1y':None\n",
    "        }\n",
    "        np.save(os.path.join(timelabeldir, 'adm-%.6d.npy' % aid), None)\n",
    "        return\n",
    "    # generate labels\n",
    "    try:\n",
    "        mor = int(deathtime is not None)\n",
    "        assert mor == 1\n",
    "        tlen = (deathtime - starttime).total_seconds()\n",
    "        mor24 = int(tlen <= 24 * 60 * 60)\n",
    "        mor48 = int(tlen <= 48 * 60 * 60)\n",
    "        mor72 = int(tlen <= 72 * 60 * 60)\n",
    "    except:\n",
    "        pass\n",
    "    try:\n",
    "        livelen = (dod - dischtime).total_seconds()\n",
    "        mor30d = int(livelen <= 30 * 24 * 60 * 60)\n",
    "        mor1y = int(livelen <= 365.245 * 24 * 60 * 60)\n",
    "    except:\n",
    "        pass\n",
    "    data = {\n",
    "        'mor':mor,\n",
    "        'mor24':mor24,\n",
    "        'mor48':mor48,\n",
    "        'mor72':mor72,\n",
    "        'mor30d':mor30d,\n",
    "        'mor1y':mor1y\n",
    "    }\n",
    "#     print(data)\n",
    "    np.save(os.path.join(timelabeldir, 'adm-%.6d.npy' % aid), data)\n",
    "\n",
    "collect_timestamps(179979)\n",
    "parse_labels(179979)"
   ]
  },
  {
   "cell_type": "code",
   "execution_count": 5,
   "metadata": {},
   "outputs": [],
   "source": [
    "#p = Pool()\n",
    "for aid in admaids:\n",
    "    #p.apply_async(collect_timestamps, args=(aid,))\n",
    "    collect_timestamps(aid)\n",
    "#p.close()\n",
    "#p.join()\n",
    "\n",
    "#p = Pool()\n",
    "for aid in admaids:\n",
    "    #p.apply_async(parse_labels, args=(aid,))\n",
    "    parse_labels(aid)\n",
    "#p.close()\n",
    "#p.join()"
   ]
  }
 ],
 "metadata": {
  "kernelspec": {
   "display_name": "Python 3",
   "language": "python",
   "name": "python3"
  },
  "language_info": {
   "codemirror_mode": {
    "name": "ipython",
    "version": 3
   },
   "file_extension": ".py",
   "mimetype": "text/x-python",
   "name": "python",
   "nbconvert_exporter": "python",
   "pygments_lexer": "ipython3",
   "version": "3.7.5"
  }
 },
 "nbformat": 4,
 "nbformat_minor": 2
}
