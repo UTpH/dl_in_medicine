{
 "cells": [
  {
   "cell_type": "markdown",
   "metadata": {},
   "source": [
    "# Filter Itemid Output\n",
    "\n",
    "This script is used for filtering itemids from TABLE OUTPUTEVENTS.\n",
    "\n",
    "1. We check number of units of each itemid and choose the major unit as the target of unit conversion. In fact, for outputevents the units are the same - 'mL'.\n",
    "2. In this step we do not apply any filtering to the data.\n",
    "\n",
    "## Output\n",
    "\n",
    "1. itemid of observations for outputevents.\n",
    "2. unit of measurement for each itemid. Here we use None since no conversion is needed."
   ]
  },
  {
   "cell_type": "code",
   "execution_count": 1,
   "metadata": {},
   "outputs": [],
   "source": [
    "from __future__ import print_function\n",
    "\n",
    "import psycopg2\n",
    "import datetime\n",
    "import sys\n",
    "from operator import itemgetter, attrgetter, methodcaller\n",
    "import numpy as np\n",
    "import itertools\n",
    "import os.path\n",
    "import matplotlib.pyplot as plt\n",
    "import math\n",
    "from multiprocessing import Pool\n",
    "\n",
    "from utils import getConnection\n",
    "\n",
    "%matplotlib inline"
   ]
  },
  {
   "cell_type": "code",
   "execution_count": 2,
   "metadata": {},
   "outputs": [
    {
     "name": "stdout",
     "output_type": "stream",
     "text": [
      "Connected to Postgre Database!\n"
     ]
    }
   ],
   "source": [
    "try:\n",
    "    conn = getConnection()\n",
    "    print('Connected to Postgre Database!')\n",
    "except:\n",
    "    print('Fail to connect!')\n",
    "    \n",
    "_adm = np.load('res/admission_ids.npy', allow_pickle=True).tolist()\n",
    "admission_ids = _adm['admission_ids']\n",
    "admission_ids_txt = _adm['admission_ids_txt']\n",
    "\n",
    "db = np.load('res/itemids.npy', allow_pickle=True).tolist()\n",
    "input_itemid = db['input']\n",
    "output_itemid = db['output']\n",
    "chart_itemid = db['chart']\n",
    "lab_itemid = db['lab']\n",
    "microbio_itemid = db['microbio']\n",
    "prescript_itemid = db['prescript']"
   ]
  },
  {
   "cell_type": "code",
   "execution_count": 3,
   "metadata": {},
   "outputs": [
    {
     "name": "stdout",
     "output_type": "stream",
     "text": [
      "[(None,), ('ml',), ('mL',)]\n"
     ]
    }
   ],
   "source": [
    "cur = conn.cursor()\n",
    "cur.execute('select distinct valueuom from mimiciii.outputevents')\n",
    "print(cur.fetchall())"
   ]
  },
  {
   "cell_type": "markdown",
   "metadata": {},
   "source": [
    "All records have the same unit. Therefore just keep all itemids."
   ]
  },
  {
   "cell_type": "code",
   "execution_count": 4,
   "metadata": {},
   "outputs": [
    {
     "name": "stdout",
     "output_type": "stream",
     "text": [
      "saved!\n"
     ]
    }
   ],
   "source": [
    "valid_output = output_itemid\n",
    "np.save('res/filtered_output.npy',{'id':valid_output,'unit':None})\n",
    "print('saved!')"
   ]
  }
 ],
 "metadata": {
  "kernelspec": {
   "display_name": "Python 3",
   "language": "python",
   "name": "python3"
  },
  "language_info": {
   "codemirror_mode": {
    "name": "ipython",
    "version": 3
   },
   "file_extension": ".py",
   "mimetype": "text/x-python",
   "name": "python",
   "nbconvert_exporter": "python",
   "pygments_lexer": "ipython3",
   "version": "3.7.5"
  }
 },
 "nbformat": 4,
 "nbformat_minor": 1
}
