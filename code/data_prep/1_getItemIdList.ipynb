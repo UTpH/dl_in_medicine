{
 "cells": [
  {
   "cell_type": "markdown",
   "metadata": {},
   "source": [
    "# Get Itemid List\n",
    "\n",
    "This script is used for collecting all itemids in the database. Itemids are ids of features.\n",
    "\n",
    "In this task we only collect itemids from the following tables:\n",
    "- inputevents\n",
    "- outputevents\n",
    "- chartevents\n",
    "- labevents\n",
    "- microbiologyevents\n",
    "- prescriptions"
   ]
  },
  {
   "cell_type": "code",
   "execution_count": 1,
   "metadata": {},
   "outputs": [],
   "source": [
    "from __future__ import print_function\n",
    "\n",
    "import psycopg2\n",
    "import datetime\n",
    "import sys\n",
    "from operator import itemgetter, attrgetter, methodcaller\n",
    "import numpy as np\n",
    "import itertools\n",
    "import os.path\n",
    "import matplotlib.pyplot as plt\n",
    "import math\n",
    "from multiprocessing import Pool, Process, Lock\n",
    "from multiprocessing.sharedctypes import Value, Array\n",
    "from ctypes import Structure, c_double, c_int\n",
    "from tqdm import tqdm_notebook as tqdm\n",
    "\n",
    "from utils import getConnection\n",
    "\n",
    "%matplotlib inline"
   ]
  },
  {
   "cell_type": "code",
   "execution_count": 2,
   "metadata": {},
   "outputs": [
    {
     "name": "stdout",
     "output_type": "stream",
     "text": [
      "Connected to Postgre Database!\n"
     ]
    }
   ],
   "source": [
    "try:\n",
    "    conn = getConnection()\n",
    "    print('Connected to Postgre Database!')\n",
    "except:\n",
    "    print('Fail to connect!')"
   ]
  },
  {
   "cell_type": "code",
   "execution_count": 3,
   "metadata": {},
   "outputs": [],
   "source": [
    "# load admission_ids\n",
    "_adm = np.load('res/admission_ids.npy', allow_pickle=True).tolist()\n",
    "admission_ids = _adm['admission_ids']\n",
    "admission_ids_txt = _adm['admission_ids_txt']"
   ]
  },
  {
   "cell_type": "markdown",
   "metadata": {},
   "source": [
    "## Itemids from inputevents\n",
    "\n",
    "Data from Carevue and Metavision is separately stored in TABLE INPUTEVENTS_CV and TABLE INPUTEVENTS_MV. Inputevents from Metavision have itemids >= 200000, and those from Carevue have itemids in [30000, 49999]."
   ]
  },
  {
   "cell_type": "code",
   "execution_count": 4,
   "metadata": {},
   "outputs": [
    {
     "name": "stdout",
     "output_type": "stream",
     "text": [
      "len(input_itemid) =  3216\n"
     ]
    }
   ],
   "source": [
    "# itemid from inputevents\n",
    "# sql = 'select distinct itemid from mimiciii.inputevents_cv where itemid >= 30000 and itemid <= 49999'\n",
    "sql = '''\n",
    "with inputitemids as (\n",
    "        select distinct itemid from mimiciii.inputevents_mv where itemid >= 200000\n",
    "        union\n",
    "        select distinct itemid from mimiciii.inputevents_cv where itemid >= 30000 and itemid <= 49999\n",
    "    )\n",
    "select distinct itemid from inputitemids\n",
    "'''\n",
    "cur = conn.cursor()\n",
    "cur.execute(sql)\n",
    "res = cur.fetchall()\n",
    "input_itemid = [r[0] for r in res]\n",
    "input_itemid_txt = ','.join(map(str, input_itemid))\n",
    "\n",
    "print(\"len(input_itemid) = \", len(input_itemid))"
   ]
  },
  {
   "cell_type": "markdown",
   "metadata": {},
   "source": [
    "## Itemids from outputevents\n",
    "\n",
    "We only need to collect all distinct itemids in TABLE OUTPUTEVENTS."
   ]
  },
  {
   "cell_type": "code",
   "execution_count": 5,
   "metadata": {},
   "outputs": [
    {
     "name": "stdout",
     "output_type": "stream",
     "text": [
      "len(output_itemid) =  1155\n"
     ]
    }
   ],
   "source": [
    "# itemid from outputevents\n",
    "# sql = 'select distinct itemid from mimiciii.outputevents where itemid >= 30000 and itemid <= 49999'\n",
    "sql = 'select distinct itemid from mimiciii.outputevents'\n",
    "cur = conn.cursor()\n",
    "cur.execute(sql)\n",
    "res = cur.fetchall()\n",
    "output_itemid = [r[0] for r in res]\n",
    "output_itemid_txt = ','.join(map(str, output_itemid))\n",
    "\n",
    "print(\"len(output_itemid) = \", len(output_itemid))"
   ]
  },
  {
   "cell_type": "markdown",
   "metadata": {},
   "source": [
    "## Itemids from chartevents\n",
    "\n",
    "We only need to collect all distinct itemids in TABLE CHARTEVENTS."
   ]
  },
  {
   "cell_type": "code",
   "execution_count": 6,
   "metadata": {},
   "outputs": [
    {
     "name": "stdout",
     "output_type": "stream",
     "text": [
      "len(chart_itemid) =  6463\n"
     ]
    }
   ],
   "source": [
    "# itemid from chartevents, should collect all ids <= 49999\n",
    "# sql = 'select distinct itemid from mimiciii.chartevents where itemid <= 49999'\n",
    "sql = 'select distinct itemid from mimiciii.chartevents'\n",
    "cur = conn.cursor()\n",
    "cur.execute(sql)\n",
    "res = cur.fetchall()\n",
    "chart_itemid = [r[0] for r in res]\n",
    "chart_itemid_txt = ','.join(map(str, chart_itemid))\n",
    "\n",
    "print(\"len(chart_itemid) = \", len(chart_itemid))"
   ]
  },
  {
   "cell_type": "markdown",
   "metadata": {},
   "source": [
    "## Itemids from labevents\n",
    "\n",
    "We only need to collect all distinct itemids in TABLE LABEVENTS."
   ]
  },
  {
   "cell_type": "code",
   "execution_count": 7,
   "metadata": {},
   "outputs": [
    {
     "name": "stdout",
     "output_type": "stream",
     "text": [
      "len(lab_itemid) =  726\n"
     ]
    }
   ],
   "source": [
    "# itemid from labevenets\n",
    "sql = 'select distinct itemid from mimiciii.labevents'\n",
    "cur = conn.cursor()\n",
    "cur.execute(sql)\n",
    "res = cur.fetchall()\n",
    "lab_itemid = [r[0] for r in res]\n",
    "lab_itemid_txt = ','.join(map(str, lab_itemid))\n",
    "\n",
    "print(\"len(lab_itemid) = \", len(lab_itemid))"
   ]
  },
  {
   "cell_type": "markdown",
   "metadata": {},
   "source": [
    "## Itemids from microbiologyevents\n",
    "\n",
    "We need to collect 4 kinds of itemids:\n",
    "- spec_itemid\n",
    "- org_itemid\n",
    "- ab_itemid\n",
    "- tuple of all above"
   ]
  },
  {
   "cell_type": "code",
   "execution_count": 8,
   "metadata": {},
   "outputs": [
    {
     "name": "stdout",
     "output_type": "stream",
     "text": [
      "len(microbio_itemid) =  9154\n"
     ]
    }
   ],
   "source": [
    "# itemid from microbiologyevents\n",
    "sql = 'select distinct (spec_itemid,org_itemid,ab_itemid),spec_itemid,org_itemid,ab_itemid from mimiciii.microbiologyevents'\n",
    "cur = conn.cursor()\n",
    "cur.execute(sql)\n",
    "res = cur.fetchall()\n",
    "microbio_itemid = []\n",
    "for r in res:\n",
    "    ele = r[0][1:-1].split(',')\n",
    "    for t in range(len(ele)):\n",
    "        try:\n",
    "            ele[t] = int(ele[t])\n",
    "        except:\n",
    "            ele[t] = None\n",
    "    microbio_itemid.append(tuple(ele))\n",
    "\n",
    "print(\"len(microbio_itemid) = \", len(microbio_itemid))"
   ]
  },
  {
   "cell_type": "markdown",
   "metadata": {},
   "source": [
    "## Itemids from prescriptions\n",
    "\n",
    "We only need to collect all distinct itemids in TABLE PRESCRIPTIONS."
   ]
  },
  {
   "cell_type": "code",
   "execution_count": 9,
   "metadata": {},
   "outputs": [
    {
     "name": "stdout",
     "output_type": "stream",
     "text": [
      "len(prescript_itemid) =  3268\n"
     ]
    }
   ],
   "source": [
    "# itemid from prescriptions\n",
    "sql = 'select distinct formulary_drug_cd from mimiciii.prescriptions'\n",
    "cur = conn.cursor()\n",
    "cur.execute(sql)\n",
    "res = cur.fetchall()\n",
    "prescript_itemid = [r[0] for r in res]\n",
    "\n",
    "print(\"len(prescript_itemid) = \", len(prescript_itemid))"
   ]
  },
  {
   "cell_type": "code",
   "execution_count": 10,
   "metadata": {
    "scrolled": true
   },
   "outputs": [
    {
     "name": "stdout",
     "output_type": "stream",
     "text": [
      "saved!\n"
     ]
    }
   ],
   "source": [
    "database = {'input':input_itemid,\n",
    "            'output':output_itemid,\n",
    "            'chart':chart_itemid,\n",
    "            'lab':lab_itemid,\n",
    "            'microbio':microbio_itemid,\n",
    "            'prescript':prescript_itemid}\n",
    "np.save('res/itemids.npy',database);\n",
    "print('saved!')"
   ]
  },
  {
   "cell_type": "markdown",
   "metadata": {},
   "source": [
    "## Histograms of itemids\n",
    "\n",
    "For each table we draw the histogram showing the number of admissions which have any record of each itemid."
   ]
  },
  {
   "cell_type": "code",
   "execution_count": null,
   "metadata": {},
   "outputs": [
    {
     "name": "stdout",
     "output_type": "stream",
     "text": [
      "load itemids\n",
      "labevent histogram\n"
     ]
    }
   ],
   "source": [
    "def getConnect():\n",
    "    return getConnection()\n",
    "\n",
    "\n",
    "# function to execute a sql and store result to specific location of an array, used for parallel query\n",
    "\n",
    "def queryAndStoreSql(sqls_itemids):\n",
    "    tconn = getConnect()\n",
    "    subresults = []\n",
    "    for sql, itemid in tqdm(sqls_itemids):\n",
    "        tcur = tconn.cursor()\n",
    "        tcur.execute(sql)\n",
    "        r2 = tcur.fetchall()\n",
    "        subresults.append((itemid, int(r2[0][0])))\n",
    "    tconn.close()\n",
    "    return subresults\n",
    "\n",
    "def getNumberOfAdmissionThatUseStatId(sql, itemids, admission_ids_txt, savefile, numworkers=4):\n",
    "    starttime = datetime.datetime.now()\n",
    "    p = Pool(numworkers)\n",
    "#     numberOfAdmissionThatUseItemid = [(0, 0) for t in range(len(itemids))]\n",
    "    numberOfAdmissionThatUseItemid = []\n",
    "    sqls_itemids = []\n",
    "    for t, itemid in enumerate(itemids):\n",
    "        itemidstr = '= {0}'.format(itemid)\n",
    "        if itemid is None:\n",
    "            itemidstr = 'is null'\n",
    "        sqls_itemids.append((sql.format(itemidstr), itemid))\n",
    "    sqls_itemids_units = np.array_split(sqls_itemids, numworkers)\n",
    "    for sqls_itemids_unit in sqls_itemids_units:\n",
    "        numberOfAdmissionThatUseItemid.append(p.apply_async(queryAndStoreSql,\n",
    "                                                          args=(sqls_itemids_unit,)))\n",
    "    p.close()\n",
    "    p.join()\n",
    "\n",
    "    numberOfAdmissionThatUseItemid = [t.get() for t in numberOfAdmissionThatUseItemid]\n",
    "    numberOfAdmissionThatUseItemid = list(itertools.chain.from_iterable(numberOfAdmissionThatUseItemid))\n",
    "    numberOfAdmissionThatUseItemid = sorted(numberOfAdmissionThatUseItemid, key=lambda tup: tup[1])\n",
    "    numberOfAdmissionThatUseItemid.reverse()\n",
    "    print(numberOfAdmissionThatUseItemid)\n",
    "    np.save(savefile, numberOfAdmissionThatUseItemid)\n",
    "\n",
    "def getNumberOfAdmissionThatUseStatIdBio(itemids, admission_ids_txt, savefile, numworkers=4):\n",
    "    starttime = datetime.datetime.now()\n",
    "    p = Pool(numworkers)\n",
    "    numberOfAdmissionThatUseItemid = []\n",
    "    sqls_itemids = []\n",
    "    for t, itemid in enumerate(itemids):\n",
    "        sql = 'select count(distinct hadm_id) from mimiciii.microbiologyevents where hadm_id in (select * from admission_ids)'\n",
    "        if (itemid[0] != None):\n",
    "            sql += ' and spec_itemid=' + str(itemid[0])\n",
    "        else:\n",
    "            sql += ' and spec_itemid is null'\n",
    "        if (itemid[1] != None):\n",
    "            sql += ' and org_itemid=' + str(itemid[1])\n",
    "        else:\n",
    "            sql += ' and org_itemid is null'\n",
    "        if (itemid[2] != None):\n",
    "            sql += ' and ab_itemid=' + str(itemid[2])\n",
    "        else:\n",
    "            sql += ' and ab_itemid is null'\n",
    "        sqls_itemids.append((sql, itemid))\n",
    "    sqls_itemids_units = np.array_split(sqls_itemids, numworkers)\n",
    "    for sqls_itemids_unit in sqls_itemids_units:\n",
    "        numberOfAdmissionThatUseItemid.append(p.apply_async(queryAndStoreSql,\n",
    "                                                          args=(sqls_itemids_unit,)))\n",
    "    p.close()\n",
    "    p.join()\n",
    "\n",
    "    numberOfAdmissionThatUseItemid = [t.get() for t in numberOfAdmissionThatUseItemid]\n",
    "    numberOfAdmissionThatUseItemid = list(itertools.chain.from_iterable(numberOfAdmissionThatUseItemid))\n",
    "    numberOfAdmissionThatUseItemid = sorted(numberOfAdmissionThatUseItemid, key=lambda tup: tup[1])\n",
    "    numberOfAdmissionThatUseItemid.reverse()\n",
    "    print(numberOfAdmissionThatUseItemid)\n",
    "    np.save(savefile, numberOfAdmissionThatUseItemid)\n",
    "\n",
    "def getNumberOfAdmissionThatUseStatIdPrescript(sql, itemids, admission_ids_txt, savefile, numworkers=4):\n",
    "    starttime = datetime.datetime.now()\n",
    "    p = Pool(numworkers)\n",
    "    numberOfAdmissionThatUseItemid = []\n",
    "    sqls_itemids = []\n",
    "    for t, itemid in enumerate(itemids):\n",
    "        itemidstr = '= \\'{0}\\''.format(itemid)\n",
    "        if itemid is None:\n",
    "            itemidstr = 'is null'\n",
    "        sqls_itemids.append((sql.format(itemidstr), itemid))\n",
    "    sqls_itemids_units = np.array_split(sqls_itemids, numworkers)\n",
    "    for sqls_itemids_unit in sqls_itemids_units:\n",
    "        numberOfAdmissionThatUseItemid.append(p.apply_async(queryAndStoreSql,\n",
    "                                                          args=(sqls_itemids_unit,)))\n",
    "    p.close()\n",
    "    p.join()\n",
    "\n",
    "    numberOfAdmissionThatUseItemid = [t.get() for t in numberOfAdmissionThatUseItemid]\n",
    "    numberOfAdmissionThatUseItemid = list(itertools.chain.from_iterable(numberOfAdmissionThatUseItemid))\n",
    "    numberOfAdmissionThatUseItemid = sorted(numberOfAdmissionThatUseItemid, key=lambda tup: tup[1])\n",
    "    numberOfAdmissionThatUseItemid.reverse()\n",
    "    print(numberOfAdmissionThatUseItemid)\n",
    "    np.save(savefile, numberOfAdmissionThatUseItemid)\n",
    "    \n",
    "# load itemids\n",
    "print(\"load itemids\")\n",
    "itemids = np.load('res/itemids.npy', allow_pickle=True).tolist()\n",
    "\n",
    "# labevent histogram\n",
    "print(\"labevent histogram\")\n",
    "# print(itemids['lab'])\n",
    "sql = 'select count(distinct hadm_id) from mimiciii.labevents where itemid {0} AND hadm_id in (select * from admission_ids)'\n",
    "getNumberOfAdmissionThatUseStatId(sql, itemids['lab'], admission_ids_txt,\n",
    "                                  'res/labevent_numberOfAdmissionThatUseItemid.npy')\n",
    "\n",
    "# microbio histogram\n",
    "print(\"microbio histogram\")\n",
    "# print(itemids['microbio'])\n",
    "getNumberOfAdmissionThatUseStatIdBio(itemids['microbio'], admission_ids_txt,\n",
    "                                  'res/microbio_numberOfAdmissionThatUseItemid.npy')\n",
    "\n",
    "# prescript histogram\n",
    "print(\"prescript histogram\")\n",
    "# print(itemids['prescript'])\n",
    "sql = 'select count(distinct hadm_id) from mimiciii.prescriptions where formulary_drug_cd {0} and hadm_id in (select * from admission_ids)'\n",
    "getNumberOfAdmissionThatUseStatIdPrescript(sql, itemids['prescript'], admission_ids_txt,\n",
    "                                  'res/prescript_numberOfAdmissionThatUseItemid.npy')"
   ]
  },
  {
   "cell_type": "code",
   "execution_count": null,
   "metadata": {},
   "outputs": [],
   "source": [
    "# finish stats in seperate py file for the convenience of multi-processing\n",
    "labevent_histo = np.load('res/labevent_numberOfAdmissionThatUseItemid.npy', allow_pickle=True).tolist()\n",
    "plt.figure(figsize=(10,5))\n",
    "plt.bar([i for i in range(len(labevent_histo))],[int(r[1]) for r in labevent_histo])\n",
    "plt.title('Number of Admission That Use Itemid: labevent')\n",
    "plt.xlabel('the rank of feature, ordered by number of admissions using this feature desc')\n",
    "plt.ylabel('number of admissions using this feature')"
   ]
  },
  {
   "cell_type": "code",
   "execution_count": null,
   "metadata": {
    "scrolled": false
   },
   "outputs": [],
   "source": [
    "microbio_histo = np.load('res/microbio_numberOfAdmissionThatUseItemid.npy', allow_pickle=True).tolist()\n",
    "plt.figure(figsize=(10,5))\n",
    "plt.bar([i for i in range(len(microbio_histo))],[int(r[1]) for r in microbio_histo])\n",
    "plt.title('Number of Admission That Use Itemid: microbioevent')\n",
    "plt.xlabel('the rank of feature, ordered by number of admissions using this feature desc')\n",
    "plt.ylabel('number of admissions using this feature')"
   ]
  },
  {
   "cell_type": "code",
   "execution_count": null,
   "metadata": {},
   "outputs": [],
   "source": [
    "microbio_histo[:200]\n",
    "plt.figure(figsize=(10,5))\n",
    "plt.bar([i for i in range(len(microbio_histo[:200]))],[int(r[1]) for r in microbio_histo[:200]])\n",
    "plt.title('Number of Admission That Use Itemid: microbioevent(top 200)')\n",
    "plt.xlabel('the rank of feature, ordered by number of admissions using this feature desc')\n",
    "plt.ylabel('number of admissions using this feature')"
   ]
  },
  {
   "cell_type": "code",
   "execution_count": null,
   "metadata": {},
   "outputs": [],
   "source": [
    "prescript_histo = np.load('res/prescript_numberOfAdmissionThatUseItemid.npy', allow_pickle=True).tolist()\n",
    "plt.figure(figsize=(10,5))\n",
    "plt.bar([i for i in range(len(prescript_histo))],[int(r[1]) for r in prescript_histo])\n",
    "plt.title('Number of Admission That Use Itemid: prescriptionevent')\n",
    "plt.xlabel('the rank of feature, ordered by number of admissions using this feature desc')\n",
    "plt.ylabel('number of admissions using this feature')"
   ]
  },
  {
   "cell_type": "code",
   "execution_count": null,
   "metadata": {},
   "outputs": [],
   "source": [
    "print(itemids['input'])"
   ]
  },
  {
   "cell_type": "code",
   "execution_count": null,
   "metadata": {},
   "outputs": [],
   "source": [
    "# inputevent histogram\n",
    "sql = 'select sum(count) from (\\\n",
    "select count(distinct hadm_id) as count from mimiciii.inputevents_mv where itemid {0} and hadm_id in (select * from admission_ids) \\\n",
    "union all select count(distinct hadm_id) as count from mimiciii.inputevents_cv where itemid {0} and hadm_id in (select * from admission_ids) \\\n",
    ") t'\n",
    "getNumberOfAdmissionThatUseStatId(sql, itemids['input'], admission_ids_txt,\n",
    "                                  'res/inputevent_numberOfAdmissionThatUseItemid.npy')\n",
    "\n",
    "print('input finished')\n",
    "\n",
    "# outputevent histogram\n",
    "sql = 'select count(distinct hadm_id) from mimiciii.outputevents where itemid {0} AND hadm_id in (select * from admission_ids)'\n",
    "getNumberOfAdmissionThatUseStatId(sql, itemids['output'], admission_ids_txt,\n",
    "                                  'res/outputevent_numberOfAdmissionThatUseItemid.npy')\n",
    "\n",
    "print('output finished')\n",
    "\n",
    "# chartevent\n",
    "sql = 'select count(distinct hadm_id) from mimiciii.chartevents where itemid {0} AND hadm_id in (select * from admission_ids)'\n",
    "getNumberOfAdmissionThatUseStatId(sql, itemids['chart'], admission_ids_txt,\n",
    "                                  'res/chartevent_numberOfAdmissionThatUseItemid.npy')\n",
    "\n",
    "print('chart finished')"
   ]
  },
  {
   "cell_type": "code",
   "execution_count": null,
   "metadata": {},
   "outputs": [],
   "source": [
    "histo = np.load('res/inputevent_numberOfAdmissionThatUseItemid.npy', allow_pickle=True).tolist()\n",
    "plt.figure(figsize=(10,5))\n",
    "plt.bar([i for i in range(len(histo))],[int(r[1]) for r in histo])\n",
    "plt.title('Number of Admission That Use Itemid: inputevent')\n",
    "plt.xlabel('the rank of feature, ordered by number of admissions using this feature desc')\n",
    "plt.ylabel('number of admissions using this feature')"
   ]
  },
  {
   "cell_type": "code",
   "execution_count": null,
   "metadata": {},
   "outputs": [],
   "source": [
    "histo = np.load('res/outputevent_numberOfAdmissionThatUseItemid.npy', allow_pickle=True).tolist()\n",
    "plt.figure(figsize=(10,5))\n",
    "plt.bar([i for i in range(len(histo))],[int(r[1]) for r in histo])\n",
    "plt.title('Number of Admission That Use Itemid: outputevent')\n",
    "plt.xlabel('the rank of feature, ordered by number of admissions using this feature desc')\n",
    "plt.ylabel('number of admissions using this feature')"
   ]
  },
  {
   "cell_type": "code",
   "execution_count": null,
   "metadata": {},
   "outputs": [],
   "source": [
    "histo = np.load('res/chartevent_numberOfAdmissionThatUseItemid.npy', allow_pickle=True).tolist()\n",
    "plt.figure(figsize=(10,5))\n",
    "plt.bar([i for i in range(len(histo))],[int(r[1]) for r in histo])\n",
    "plt.title('Number of Admission That Use Itemid: chartevent')\n",
    "plt.xlabel('the rank of feature, ordered by number of admissions using this feature desc')\n",
    "plt.ylabel('number of admissions using this feature')"
   ]
  }
 ],
 "metadata": {
  "kernelspec": {
   "display_name": "Python 3",
   "language": "python",
   "name": "python3"
  },
  "language_info": {
   "codemirror_mode": {
    "name": "ipython",
    "version": 3
   },
   "file_extension": ".py",
   "mimetype": "text/x-python",
   "name": "python",
   "nbconvert_exporter": "python",
   "pygments_lexer": "ipython3",
   "version": "3.7.5"
  }
 },
 "nbformat": 4,
 "nbformat_minor": 1
}
